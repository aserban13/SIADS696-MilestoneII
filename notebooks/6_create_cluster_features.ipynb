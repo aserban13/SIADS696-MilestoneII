{
 "cells": [
  {
   "cell_type": "markdown",
   "id": "16ff0358-781f-417e-a57a-3b6fbb31d69f",
   "metadata": {},
   "source": [
    "### Attaining cluster outputs as features\n",
    "#### Notebook outline:\n",
    "1) Read in train and test dataset.\n",
    "2) Create clusters using SVD and KMeans (Chris' method)\n",
    "3) Create clusters using KMeans (Andreea's method)\n",
    "4) Append cluster values to X datasets\n",
    "5) Save new X datasets as CSVs\n",
    "\n",
    "##### **Note that all scaling, clustering, and dimensionality reduction was learned from the training set. Test sets were not involved until final \"prediction.\""
   ]
  },
  {
   "cell_type": "code",
   "execution_count": 1,
   "id": "fd41e6ac-e3a3-4e25-962b-18142bb8b0b9",
   "metadata": {},
   "outputs": [],
   "source": [
    "import pandas as pd\n",
    "import pandas as pd\n",
    "from sklearn.compose import ColumnTransformer\n",
    "from sklearn.preprocessing import StandardScaler\n",
    "from sklearn.preprocessing import OneHotEncoder\n",
    "from sklearn.pipeline import Pipeline\n",
    "import matplotlib.pyplot as plt"
   ]
  },
  {
   "cell_type": "code",
   "execution_count": 2,
   "id": "5827cf3e-3448-4d00-90d8-f885c66acc5a",
   "metadata": {},
   "outputs": [],
   "source": [
    "base_path = '../data/train_test_split/'\n",
    "\n",
    "X_train = pd.read_csv(base_path+'x_train.csv')\n",
    "X_train = X_train.drop(columns = 'Unnamed: 0')\n",
    "\n",
    "X_test = pd.read_csv(base_path+'x_test.csv')\n",
    "X_test = X_test.drop(columns = 'Unnamed: 0')\n",
    "\n",
    "y_train = pd.read_csv(base_path+'y_train.csv')\n",
    "y_test = pd.read_csv(base_path+'y_test.csv')"
   ]
  },
  {
   "cell_type": "markdown",
   "id": "eca7db35-2630-4084-ad51-ab9c103fe22f",
   "metadata": {},
   "source": [
    "### Cluster 1: t-sne, kmeans (chrismca)\n",
    "* Feature selection\n",
    "* Standard Scaler\n",
    "* Dimensionality reduction (t-sne, perplexity = 150)\n",
    "* kmeans (k=4): fit to training set\n",
    "* kmeans (k=4): assign cluster to test set"
   ]
  },
  {
   "cell_type": "code",
   "execution_count": 3,
   "id": "0bce3b60-f783-4728-be8c-b659cab6fdf1",
   "metadata": {},
   "outputs": [],
   "source": [
    "# Feature Selection\n",
    "X_train_sel = X_train.drop(columns = ['position', 'state_province', 'committed_to',\n",
    "                                       'committed_to', 'year', 'conference',\n",
    "                                       'side_of_ball', 'position_group', 'stars',\n",
    "                                       'hometown_city', 'athlete_id', 'name', 'hometown_country', # Andreea added on 10/1\n",
    "                                       'post_season_wins_rolling_2year']) # not many distinct values"
   ]
  },
  {
   "cell_type": "code",
   "execution_count": 4,
   "id": "29ef33bf-a7af-4550-991f-74ea9c7c879d",
   "metadata": {},
   "outputs": [],
   "source": [
    "from sklearn.preprocessing import StandardScaler\n",
    "\n",
    "# Standard Scaler\n",
    "scaler = StandardScaler()\n",
    "\n",
    "X_train_scal = scaler.fit_transform(X_train_sel)"
   ]
  },
  {
   "cell_type": "code",
   "execution_count": 5,
   "id": "c22d2b40-46e3-408b-807c-a7d496e2c76a",
   "metadata": {},
   "outputs": [],
   "source": [
    "# SVD of training set\n",
    "from sklearn.decomposition import TruncatedSVD\n",
    "\n",
    "# Train svd object on training set\n",
    "svd = TruncatedSVD(n_components=2, random_state=42)\n",
    "svd = svd.fit(X_train_scal) \n",
    "\n",
    "# Apply fitted object to the training set\n",
    "X_train_SVD = svd.transform(X_train_scal) "
   ]
  },
  {
   "cell_type": "code",
   "execution_count": 6,
   "id": "ec8c199f-b98e-43b5-a27d-cc451c8d0ec1",
   "metadata": {},
   "outputs": [],
   "source": [
    "# Train clustering object and predict on training set\n",
    "from sklearn.cluster import KMeans\n",
    "\n",
    "k = 4\n",
    "kmeans = KMeans(n_clusters=k, random_state=42, n_init = 'auto')\n",
    "kmeans_svd = kmeans.fit(X_train_SVD)\n",
    "\n",
    "train_SVD_kmeans_cluster = kmeans_svd.predict(X_train_SVD)"
   ]
  },
  {
   "cell_type": "code",
   "execution_count": 7,
   "id": "d0a8669b-6198-4196-b3d7-84b187a3088d",
   "metadata": {},
   "outputs": [],
   "source": [
    "# Feature selection for test set\n",
    "X_test_sel = X_test.drop(columns = ['position', 'state_province', 'committed_to',\n",
    "                                       'committed_to', 'year', 'conference',\n",
    "                                       'side_of_ball', 'position_group', 'stars',\n",
    "                                       'hometown_city', 'athlete_id', 'name', 'hometown_country', # Andreea added on 10/1\n",
    "                                       'post_season_wins_rolling_2year']) # not many distinct values\n",
    "\n",
    "# scale test set (based off fitted scaler from training set)\n",
    "X_test_scal = scaler.transform(X_test_sel)\n",
    "\n",
    "# Apply SVD to test set (based off fitted svd object)\n",
    "X_test_SVD = svd.transform(X_test_scal)\n",
    "\n",
    "# use training set clusters to predict test set\n",
    "test_SVD_kmeans_cluster = kmeans_svd.predict(X_test_SVD)"
   ]
  },
  {
   "cell_type": "markdown",
   "id": "6e6e2f6d-012b-4a25-8c2a-066fb55ed130",
   "metadata": {},
   "source": [
    "## Straight up KMeans (Andreea)\n",
    "* Feature Selection\n",
    "* Scale the data\n",
    "* Run kmeans with k = 4 on training set\n",
    "* Run kmeans \"predcition\" on test set"
   ]
  },
  {
   "cell_type": "code",
   "execution_count": 8,
   "id": "ae74107e-0d6e-4d2d-8691-7346455711b0",
   "metadata": {},
   "outputs": [],
   "source": [
    "# Feature Selection\n",
    "\n",
    "numerical_features =  ['height', 'weight', 'distance_miles', 'stars','win_pct_rolling_2year','rating']\n",
    "X_train_sel = X_train[numerical_features]"
   ]
  },
  {
   "cell_type": "code",
   "execution_count": 9,
   "id": "b43e9364-193e-4112-8971-a8634e0c6953",
   "metadata": {},
   "outputs": [],
   "source": [
    "# Standard Scaler\n",
    "\n",
    "scaler = StandardScaler()\n",
    "X_train_scal = scaler.fit_transform(X_train_sel)"
   ]
  },
  {
   "cell_type": "code",
   "execution_count": 10,
   "id": "19f7118b-3db3-4192-afa2-cc653da64511",
   "metadata": {},
   "outputs": [],
   "source": [
    "k = 4\n",
    "\n",
    "# train kmeans on training set\n",
    "kmeans = KMeans(n_clusters=k, random_state=42, n_init = 'auto')\n",
    "kmeans = kmeans.fit(X_train_scal)\n",
    "\n",
    "train_kmeans_cluster = kmeans.predict(X_train_scal)"
   ]
  },
  {
   "cell_type": "code",
   "execution_count": 11,
   "id": "3e1bd272-9171-4ae7-8e21-249d63fecc73",
   "metadata": {},
   "outputs": [],
   "source": [
    "# Feature Selection\n",
    "X_test_sel = X_test[numerical_features]\n",
    "\n",
    "# Standard Scaler (using trained scaler from above)\n",
    "X_test_scal = scaler.transform(X_test_sel)\n",
    "\n",
    "# predict kmeans on test set\n",
    "test_kmeans_cluster = kmeans.predict(X_test_scal)"
   ]
  },
  {
   "cell_type": "markdown",
   "id": "2c0806f4-6380-427a-b954-d3b7e04b14c7",
   "metadata": {},
   "source": [
    "### Append clusters to train and test data sets"
   ]
  },
  {
   "cell_type": "code",
   "execution_count": 12,
   "id": "38912993-0998-4f71-8aa4-bc9d47e018fe",
   "metadata": {},
   "outputs": [],
   "source": [
    "X_train['SVD_KMeans_Cluster'] = train_SVD_kmeans_cluster\n",
    "X_test['SVD_KMeans_Cluster'] = test_SVD_kmeans_cluster"
   ]
  },
  {
   "cell_type": "code",
   "execution_count": 13,
   "id": "bb299a72-408c-4beb-9c8d-5e68d1e37fca",
   "metadata": {},
   "outputs": [],
   "source": [
    "X_train['KMeans_Cluster'] = train_kmeans_cluster\n",
    "X_test['KMeans_Cluster'] = test_kmeans_cluster"
   ]
  },
  {
   "cell_type": "markdown",
   "id": "887f5873-3a00-4556-97cd-7fe571e171cf",
   "metadata": {},
   "source": [
    "### Save new X datasets as CSVs"
   ]
  },
  {
   "cell_type": "code",
   "execution_count": 14,
   "id": "47fe5148-d01a-4801-a173-121b0557ed92",
   "metadata": {},
   "outputs": [],
   "source": [
    "base_path = '../data/train_test_split/'\n",
    "\n",
    "X_train.to_csv(base_path + 'x_train_cluster.csv', index = False)\n",
    "X_test.to_csv(base_path + 'x_test_cluster.csv', index = False)"
   ]
  }
 ],
 "metadata": {
  "kernelspec": {
   "display_name": "Python 3",
   "language": "python",
   "name": "python3"
  },
  "language_info": {
   "codemirror_mode": {
    "name": "ipython",
    "version": 3
   },
   "file_extension": ".py",
   "mimetype": "text/x-python",
   "name": "python",
   "nbconvert_exporter": "python",
   "pygments_lexer": "ipython3",
   "version": "3.8.8"
  }
 },
 "nbformat": 4,
 "nbformat_minor": 5
}
