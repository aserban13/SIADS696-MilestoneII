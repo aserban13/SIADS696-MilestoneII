{
 "cells": [
  {
   "cell_type": "code",
   "execution_count": 13,
   "metadata": {},
   "outputs": [],
   "source": [
    "import pandas as pd\n",
    "from sklearn.preprocessing import StandardScaler\n",
    "from sklearn.cluster import DBSCAN\n",
    "import altair as alt"
   ]
  },
  {
   "cell_type": "code",
   "execution_count": 4,
   "metadata": {},
   "outputs": [
    {
     "data": {
      "text/html": [
       "<div>\n",
       "<style scoped>\n",
       "    .dataframe tbody tr th:only-of-type {\n",
       "        vertical-align: middle;\n",
       "    }\n",
       "\n",
       "    .dataframe tbody tr th {\n",
       "        vertical-align: top;\n",
       "    }\n",
       "\n",
       "    .dataframe thead th {\n",
       "        text-align: right;\n",
       "    }\n",
       "</style>\n",
       "<table border=\"1\" class=\"dataframe\">\n",
       "  <thead>\n",
       "    <tr style=\"text-align: right;\">\n",
       "      <th></th>\n",
       "      <th>rating</th>\n",
       "      <th>ranking</th>\n",
       "      <th>year</th>\n",
       "      <th>position</th>\n",
       "      <th>height</th>\n",
       "      <th>weight</th>\n",
       "      <th>latitude</th>\n",
       "      <th>longitude</th>\n",
       "      <th>state_province</th>\n",
       "      <th>stars</th>\n",
       "      <th>committed_to</th>\n",
       "      <th>is_drafted</th>\n",
       "      <th>conference</th>\n",
       "      <th>latitude_school</th>\n",
       "      <th>longitude_school</th>\n",
       "      <th>distance_miles</th>\n",
       "      <th>side_of_ball</th>\n",
       "      <th>position_group</th>\n",
       "    </tr>\n",
       "  </thead>\n",
       "  <tbody>\n",
       "    <tr>\n",
       "      <th>0</th>\n",
       "      <td>0.9992</td>\n",
       "      <td>1.0</td>\n",
       "      <td>2015</td>\n",
       "      <td>DT</td>\n",
       "      <td>74.0</td>\n",
       "      <td>313.0</td>\n",
       "      <td>31.578206</td>\n",
       "      <td>-84.155681</td>\n",
       "      <td>GA</td>\n",
       "      <td>5</td>\n",
       "      <td>Georgia</td>\n",
       "      <td>0.0</td>\n",
       "      <td>SEC</td>\n",
       "      <td>33.94982</td>\n",
       "      <td>-83.373381</td>\n",
       "      <td>170.049603</td>\n",
       "      <td>defense</td>\n",
       "      <td>d_line</td>\n",
       "    </tr>\n",
       "    <tr>\n",
       "      <th>1</th>\n",
       "      <td>0.9991</td>\n",
       "      <td>1.0</td>\n",
       "      <td>2015</td>\n",
       "      <td>DT</td>\n",
       "      <td>74.5</td>\n",
       "      <td>313.0</td>\n",
       "      <td>31.578206</td>\n",
       "      <td>-84.155681</td>\n",
       "      <td>GA</td>\n",
       "      <td>5</td>\n",
       "      <td>Georgia</td>\n",
       "      <td>0.0</td>\n",
       "      <td>SEC</td>\n",
       "      <td>33.94982</td>\n",
       "      <td>-83.373381</td>\n",
       "      <td>170.049603</td>\n",
       "      <td>defense</td>\n",
       "      <td>d_line</td>\n",
       "    </tr>\n",
       "    <tr>\n",
       "      <th>2</th>\n",
       "      <td>0.9879</td>\n",
       "      <td>27.0</td>\n",
       "      <td>2015</td>\n",
       "      <td>ATH</td>\n",
       "      <td>72.0</td>\n",
       "      <td>168.0</td>\n",
       "      <td>33.173177</td>\n",
       "      <td>-84.914936</td>\n",
       "      <td>GA</td>\n",
       "      <td>5</td>\n",
       "      <td>Georgia</td>\n",
       "      <td>1.0</td>\n",
       "      <td>SEC</td>\n",
       "      <td>33.94982</td>\n",
       "      <td>-83.373381</td>\n",
       "      <td>103.714733</td>\n",
       "      <td>athlete</td>\n",
       "      <td>athlete</td>\n",
       "    </tr>\n",
       "    <tr>\n",
       "      <th>3</th>\n",
       "      <td>0.9769</td>\n",
       "      <td>48.0</td>\n",
       "      <td>2015</td>\n",
       "      <td>OLB</td>\n",
       "      <td>74.0</td>\n",
       "      <td>207.0</td>\n",
       "      <td>32.305158</td>\n",
       "      <td>-84.027407</td>\n",
       "      <td>GA</td>\n",
       "      <td>4</td>\n",
       "      <td>Georgia</td>\n",
       "      <td>1.0</td>\n",
       "      <td>SEC</td>\n",
       "      <td>33.94982</td>\n",
       "      <td>-83.373381</td>\n",
       "      <td>119.771399</td>\n",
       "      <td>defense</td>\n",
       "      <td>linebacker</td>\n",
       "    </tr>\n",
       "    <tr>\n",
       "      <th>4</th>\n",
       "      <td>0.9680</td>\n",
       "      <td>65.0</td>\n",
       "      <td>2015</td>\n",
       "      <td>SDE</td>\n",
       "      <td>76.0</td>\n",
       "      <td>265.0</td>\n",
       "      <td>33.853270</td>\n",
       "      <td>-84.220073</td>\n",
       "      <td>GA</td>\n",
       "      <td>4</td>\n",
       "      <td>Georgia</td>\n",
       "      <td>0.0</td>\n",
       "      <td>SEC</td>\n",
       "      <td>33.94982</td>\n",
       "      <td>-83.373381</td>\n",
       "      <td>49.011958</td>\n",
       "      <td>defense</td>\n",
       "      <td>d_line</td>\n",
       "    </tr>\n",
       "  </tbody>\n",
       "</table>\n",
       "</div>"
      ],
      "text/plain": [
       "   rating  ranking  year position  height  weight   latitude  longitude  \\\n",
       "0  0.9992      1.0  2015       DT    74.0   313.0  31.578206 -84.155681   \n",
       "1  0.9991      1.0  2015       DT    74.5   313.0  31.578206 -84.155681   \n",
       "2  0.9879     27.0  2015      ATH    72.0   168.0  33.173177 -84.914936   \n",
       "3  0.9769     48.0  2015      OLB    74.0   207.0  32.305158 -84.027407   \n",
       "4  0.9680     65.0  2015      SDE    76.0   265.0  33.853270 -84.220073   \n",
       "\n",
       "  state_province  stars committed_to  is_drafted conference  latitude_school  \\\n",
       "0             GA      5      Georgia         0.0        SEC         33.94982   \n",
       "1             GA      5      Georgia         0.0        SEC         33.94982   \n",
       "2             GA      5      Georgia         1.0        SEC         33.94982   \n",
       "3             GA      4      Georgia         1.0        SEC         33.94982   \n",
       "4             GA      4      Georgia         0.0        SEC         33.94982   \n",
       "\n",
       "   longitude_school  distance_miles side_of_ball position_group  \n",
       "0        -83.373381      170.049603      defense         d_line  \n",
       "1        -83.373381      170.049603      defense         d_line  \n",
       "2        -83.373381      103.714733      athlete        athlete  \n",
       "3        -83.373381      119.771399      defense     linebacker  \n",
       "4        -83.373381       49.011958      defense         d_line  "
      ]
     },
     "execution_count": 4,
     "metadata": {},
     "output_type": "execute_result"
    }
   ],
   "source": [
    "df = pd.read_csv('..\\data\\imputed_dataset.csv')\n",
    "df.head()"
   ]
  },
  {
   "cell_type": "code",
   "execution_count": 5,
   "metadata": {},
   "outputs": [],
   "source": [
    "# Define numerical and categorical values\n",
    "numerical_features = ['rating', 'ranking', 'height', 'weight', 'distance_miles', 'stars']\n",
    "categorical_features = ['side_of_ball', 'position_group']\n",
    "target = ['is_drafted']\n"
   ]
  },
  {
   "cell_type": "code",
   "execution_count": 10,
   "metadata": {},
   "outputs": [],
   "source": [
    "# Features and target\n",
    "X = df[numerical_features]\n",
    "y = df[target]"
   ]
  },
  {
   "cell_type": "code",
   "execution_count": 11,
   "metadata": {},
   "outputs": [],
   "source": [
    "model = DBSCAN()\n",
    "clusters = model.fit_predict(X)"
   ]
  },
  {
   "cell_type": "code",
   "execution_count": 12,
   "metadata": {},
   "outputs": [
    {
     "data": {
      "text/plain": [
       "array([-1, -1, -1, ..., -1, -1, -1])"
      ]
     },
     "execution_count": 12,
     "metadata": {},
     "output_type": "execute_result"
    }
   ],
   "source": [
    "df['Cluster'] = clusters"
   ]
  }
 ],
 "metadata": {
  "kernelspec": {
   "display_name": "venv",
   "language": "python",
   "name": "python3"
  },
  "language_info": {
   "codemirror_mode": {
    "name": "ipython",
    "version": 3
   },
   "file_extension": ".py",
   "mimetype": "text/x-python",
   "name": "python",
   "nbconvert_exporter": "python",
   "pygments_lexer": "ipython3",
   "version": "3.11.9"
  }
 },
 "nbformat": 4,
 "nbformat_minor": 2
}
