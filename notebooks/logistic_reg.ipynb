{
 "cells": [
  {
   "cell_type": "code",
   "execution_count": 1,
   "metadata": {},
   "outputs": [],
   "source": [
    "import pandas as pd\n",
    "from sklearn.preprocessing import StandardScaler, OneHotEncoder\n",
    "from sklearn.compose import ColumnTransformer\n",
    "from sklearn.pipeline import Pipeline\n",
    "from sklearn.model_selection import train_test_split\n",
    "from sklearn.linear_model import LogisticRegression\n",
    "from sklearn.metrics import accuracy_score, confusion_matrix\n",
    "import altair as alt"
   ]
  },
  {
   "cell_type": "code",
   "execution_count": 2,
   "metadata": {},
   "outputs": [
    {
     "data": {
      "text/html": [
       "<div>\n",
       "<style scoped>\n",
       "    .dataframe tbody tr th:only-of-type {\n",
       "        vertical-align: middle;\n",
       "    }\n",
       "\n",
       "    .dataframe tbody tr th {\n",
       "        vertical-align: top;\n",
       "    }\n",
       "\n",
       "    .dataframe thead th {\n",
       "        text-align: right;\n",
       "    }\n",
       "</style>\n",
       "<table border=\"1\" class=\"dataframe\">\n",
       "  <thead>\n",
       "    <tr style=\"text-align: right;\">\n",
       "      <th></th>\n",
       "      <th>rating</th>\n",
       "      <th>ranking</th>\n",
       "      <th>year</th>\n",
       "      <th>position</th>\n",
       "      <th>height</th>\n",
       "      <th>weight</th>\n",
       "      <th>latitude</th>\n",
       "      <th>longitude</th>\n",
       "      <th>state_province</th>\n",
       "      <th>stars</th>\n",
       "      <th>...</th>\n",
       "      <th>school</th>\n",
       "      <th>season</th>\n",
       "      <th>wins_rolling_2year</th>\n",
       "      <th>games_played_rolling_2year</th>\n",
       "      <th>post_season_wins_rolling_2year</th>\n",
       "      <th>point_diff_rolling_2year</th>\n",
       "      <th>win_pct_rolling_2year</th>\n",
       "      <th>distance_miles</th>\n",
       "      <th>side_of_ball</th>\n",
       "      <th>position_group</th>\n",
       "    </tr>\n",
       "  </thead>\n",
       "  <tbody>\n",
       "    <tr>\n",
       "      <th>0</th>\n",
       "      <td>0.9644</td>\n",
       "      <td>71.0</td>\n",
       "      <td>2012</td>\n",
       "      <td>DT</td>\n",
       "      <td>76.0</td>\n",
       "      <td>290.0</td>\n",
       "      <td>35.334011</td>\n",
       "      <td>-81.865103</td>\n",
       "      <td>NC</td>\n",
       "      <td>4</td>\n",
       "      <td>...</td>\n",
       "      <td>Clemson</td>\n",
       "      <td>2012.0</td>\n",
       "      <td>16.0</td>\n",
       "      <td>27.0</td>\n",
       "      <td>0.0</td>\n",
       "      <td>128.0</td>\n",
       "      <td>0.846154</td>\n",
       "      <td>71.511790</td>\n",
       "      <td>defense</td>\n",
       "      <td>d_line</td>\n",
       "    </tr>\n",
       "    <tr>\n",
       "      <th>1</th>\n",
       "      <td>0.9632</td>\n",
       "      <td>79.0</td>\n",
       "      <td>2012</td>\n",
       "      <td>WR</td>\n",
       "      <td>71.0</td>\n",
       "      <td>175.0</td>\n",
       "      <td>35.227200</td>\n",
       "      <td>-80.843083</td>\n",
       "      <td>NC</td>\n",
       "      <td>4</td>\n",
       "      <td>...</td>\n",
       "      <td>Clemson</td>\n",
       "      <td>2012.0</td>\n",
       "      <td>16.0</td>\n",
       "      <td>27.0</td>\n",
       "      <td>0.0</td>\n",
       "      <td>128.0</td>\n",
       "      <td>0.846154</td>\n",
       "      <td>119.438575</td>\n",
       "      <td>offense</td>\n",
       "      <td>pass_catcher</td>\n",
       "    </tr>\n",
       "    <tr>\n",
       "      <th>2</th>\n",
       "      <td>0.9567</td>\n",
       "      <td>92.0</td>\n",
       "      <td>2012</td>\n",
       "      <td>S</td>\n",
       "      <td>73.0</td>\n",
       "      <td>195.0</td>\n",
       "      <td>30.438083</td>\n",
       "      <td>-84.280933</td>\n",
       "      <td>FL</td>\n",
       "      <td>4</td>\n",
       "      <td>...</td>\n",
       "      <td>Clemson</td>\n",
       "      <td>2012.0</td>\n",
       "      <td>16.0</td>\n",
       "      <td>27.0</td>\n",
       "      <td>0.0</td>\n",
       "      <td>128.0</td>\n",
       "      <td>0.846154</td>\n",
       "      <td>304.721993</td>\n",
       "      <td>defense</td>\n",
       "      <td>d_backfield</td>\n",
       "    </tr>\n",
       "    <tr>\n",
       "      <th>3</th>\n",
       "      <td>0.9264</td>\n",
       "      <td>187.0</td>\n",
       "      <td>2012</td>\n",
       "      <td>DUAL</td>\n",
       "      <td>75.0</td>\n",
       "      <td>205.0</td>\n",
       "      <td>42.886717</td>\n",
       "      <td>-78.878392</td>\n",
       "      <td>NY</td>\n",
       "      <td>4</td>\n",
       "      <td>...</td>\n",
       "      <td>Clemson</td>\n",
       "      <td>2012.0</td>\n",
       "      <td>16.0</td>\n",
       "      <td>27.0</td>\n",
       "      <td>0.0</td>\n",
       "      <td>128.0</td>\n",
       "      <td>0.846154</td>\n",
       "      <td>605.799029</td>\n",
       "      <td>offense</td>\n",
       "      <td>qb</td>\n",
       "    </tr>\n",
       "    <tr>\n",
       "      <th>4</th>\n",
       "      <td>0.9133</td>\n",
       "      <td>231.0</td>\n",
       "      <td>2012</td>\n",
       "      <td>ATH</td>\n",
       "      <td>73.0</td>\n",
       "      <td>180.0</td>\n",
       "      <td>35.842865</td>\n",
       "      <td>-90.703452</td>\n",
       "      <td>AR</td>\n",
       "      <td>4</td>\n",
       "      <td>...</td>\n",
       "      <td>Clemson</td>\n",
       "      <td>2012.0</td>\n",
       "      <td>16.0</td>\n",
       "      <td>27.0</td>\n",
       "      <td>0.0</td>\n",
       "      <td>128.0</td>\n",
       "      <td>0.846154</td>\n",
       "      <td>450.556207</td>\n",
       "      <td>athlete</td>\n",
       "      <td>athlete</td>\n",
       "    </tr>\n",
       "  </tbody>\n",
       "</table>\n",
       "<p>5 rows × 25 columns</p>\n",
       "</div>"
      ],
      "text/plain": [
       "   rating  ranking  year position  height  weight   latitude  longitude  \\\n",
       "0  0.9644     71.0  2012       DT    76.0   290.0  35.334011 -81.865103   \n",
       "1  0.9632     79.0  2012       WR    71.0   175.0  35.227200 -80.843083   \n",
       "2  0.9567     92.0  2012        S    73.0   195.0  30.438083 -84.280933   \n",
       "3  0.9264    187.0  2012     DUAL    75.0   205.0  42.886717 -78.878392   \n",
       "4  0.9133    231.0  2012      ATH    73.0   180.0  35.842865 -90.703452   \n",
       "\n",
       "  state_province  stars  ...   school  season wins_rolling_2year  \\\n",
       "0             NC      4  ...  Clemson  2012.0               16.0   \n",
       "1             NC      4  ...  Clemson  2012.0               16.0   \n",
       "2             FL      4  ...  Clemson  2012.0               16.0   \n",
       "3             NY      4  ...  Clemson  2012.0               16.0   \n",
       "4             AR      4  ...  Clemson  2012.0               16.0   \n",
       "\n",
       "   games_played_rolling_2year  post_season_wins_rolling_2year  \\\n",
       "0                        27.0                             0.0   \n",
       "1                        27.0                             0.0   \n",
       "2                        27.0                             0.0   \n",
       "3                        27.0                             0.0   \n",
       "4                        27.0                             0.0   \n",
       "\n",
       "  point_diff_rolling_2year  win_pct_rolling_2year  distance_miles  \\\n",
       "0                    128.0               0.846154       71.511790   \n",
       "1                    128.0               0.846154      119.438575   \n",
       "2                    128.0               0.846154      304.721993   \n",
       "3                    128.0               0.846154      605.799029   \n",
       "4                    128.0               0.846154      450.556207   \n",
       "\n",
       "   side_of_ball  position_group  \n",
       "0       defense          d_line  \n",
       "1       offense    pass_catcher  \n",
       "2       defense     d_backfield  \n",
       "3       offense              qb  \n",
       "4       athlete         athlete  \n",
       "\n",
       "[5 rows x 25 columns]"
      ]
     },
     "execution_count": 2,
     "metadata": {},
     "output_type": "execute_result"
    }
   ],
   "source": [
    "df = pd.read_csv('..\\data\\imputed_dataset.csv')\n",
    "df.head()"
   ]
  },
  {
   "cell_type": "code",
   "execution_count": 3,
   "metadata": {},
   "outputs": [],
   "source": [
    "# Define numerical and categorical values\n",
    "numerical_features = ['rating', 'ranking', 'height', 'weight', 'distance_miles', 'stars', 'wins_rolling_2year', 'games_played_rolling_2year', 'post_season_wins_rolling_2year', 'point_diff_rolling_2year', 'win_pct_rolling_2year']\n",
    "categorical_features = ['conference', 'side_of_ball', 'position_group', 'season']\n",
    "target = ['is_drafted']"
   ]
  },
  {
   "cell_type": "code",
   "execution_count": 4,
   "metadata": {},
   "outputs": [],
   "source": [
    "# Features and target\n",
    "X = df[numerical_features+categorical_features]\n",
    "y = df[target]"
   ]
  },
  {
   "cell_type": "code",
   "execution_count": 5,
   "metadata": {},
   "outputs": [],
   "source": [
    "preprocessor = ColumnTransformer(\n",
    "    transformers=[\n",
    "        ('num', StandardScaler(), numerical_features),\n",
    "        ('cat', OneHotEncoder(handle_unknown='ignore'), categorical_features)\n",
    "    ]\n",
    ")\n",
    "\n",
    "pipe = Pipeline(steps=[\n",
    "    ('preprocessor', preprocessor),\n",
    "    ('classifier', LogisticRegression(class_weight='balanced'))\n",
    "])"
   ]
  },
  {
   "cell_type": "code",
   "execution_count": 6,
   "metadata": {},
   "outputs": [],
   "source": [
    "X_train, X_test, y_train, y_test = train_test_split(X, y, test_size=0.2, random_state=19)"
   ]
  },
  {
   "cell_type": "code",
   "execution_count": 7,
   "metadata": {},
   "outputs": [
    {
     "name": "stderr",
     "output_type": "stream",
     "text": [
      "c:\\Users\\ryano\\repos\\SIADS696-MilestoneII\\venv\\Lib\\site-packages\\sklearn\\utils\\validation.py:1339: DataConversionWarning: A column-vector y was passed when a 1d array was expected. Please change the shape of y to (n_samples, ), for example using ravel().\n",
      "  y = column_or_1d(y, warn=True)\n"
     ]
    }
   ],
   "source": [
    "pipe.fit(X_train, y_train)\n",
    "y_pred = pipe.predict(X_test)"
   ]
  },
  {
   "cell_type": "code",
   "execution_count": 8,
   "metadata": {},
   "outputs": [],
   "source": [
    "accuracy = accuracy_score(y_test, y_pred)"
   ]
  },
  {
   "cell_type": "code",
   "execution_count": 9,
   "metadata": {},
   "outputs": [],
   "source": [
    "cm = confusion_matrix(y_test, y_pred)"
   ]
  },
  {
   "cell_type": "code",
   "execution_count": 10,
   "metadata": {},
   "outputs": [
    {
     "data": {
      "text/plain": [
       "0.695615866388309"
      ]
     },
     "execution_count": 10,
     "metadata": {},
     "output_type": "execute_result"
    }
   ],
   "source": [
    "accuracy"
   ]
  },
  {
   "cell_type": "code",
   "execution_count": 11,
   "metadata": {},
   "outputs": [
    {
     "data": {
      "text/plain": [
       "array([[3071, 1314],\n",
       "       [ 144,  261]])"
      ]
     },
     "execution_count": 11,
     "metadata": {},
     "output_type": "execute_result"
    }
   ],
   "source": [
    "cm"
   ]
  },
  {
   "cell_type": "code",
   "execution_count": 12,
   "metadata": {},
   "outputs": [],
   "source": [
    "def get_feature_names(preprocessor):\n",
    "    \"Get feature names after preprocessing\"\n",
    "    feature_names = []\n",
    "    for _, transformer, columns in preprocessor.transformers_:\n",
    "        if hasattr(transformer, 'get_feature_names_out'):\n",
    "            feature_names.extend(transformer.get_feature_names_out(columns))\n",
    "        else:\n",
    "            feature_names.extend(columns)\n",
    "    return feature_names\n",
    "\n",
    "transformed_feature_names = get_feature_names(preprocessor)"
   ]
  },
  {
   "cell_type": "code",
   "execution_count": 13,
   "metadata": {},
   "outputs": [],
   "source": [
    "coefficients = pd.DataFrame({'feature': transformed_feature_names,\n",
    "                              'value': pipe.named_steps['classifier'].coef_[0]}).sort_values('value', ascending=False)"
   ]
  },
  {
   "cell_type": "code",
   "execution_count": 14,
   "metadata": {},
   "outputs": [
    {
     "data": {
      "text/html": [
       "<div>\n",
       "<style scoped>\n",
       "    .dataframe tbody tr th:only-of-type {\n",
       "        vertical-align: middle;\n",
       "    }\n",
       "\n",
       "    .dataframe tbody tr th {\n",
       "        vertical-align: top;\n",
       "    }\n",
       "\n",
       "    .dataframe thead th {\n",
       "        text-align: right;\n",
       "    }\n",
       "</style>\n",
       "<table border=\"1\" class=\"dataframe\">\n",
       "  <thead>\n",
       "    <tr style=\"text-align: right;\">\n",
       "      <th></th>\n",
       "      <th>feature</th>\n",
       "      <th>value</th>\n",
       "    </tr>\n",
       "  </thead>\n",
       "  <tbody>\n",
       "    <tr>\n",
       "      <th>0</th>\n",
       "      <td>rating</td>\n",
       "      <td>0.829051</td>\n",
       "    </tr>\n",
       "    <tr>\n",
       "      <th>1</th>\n",
       "      <td>ranking</td>\n",
       "      <td>0.419658</td>\n",
       "    </tr>\n",
       "    <tr>\n",
       "      <th>14</th>\n",
       "      <td>conference_Big Ten</td>\n",
       "      <td>0.349436</td>\n",
       "    </tr>\n",
       "    <tr>\n",
       "      <th>20</th>\n",
       "      <td>conference_SEC</td>\n",
       "      <td>0.315500</td>\n",
       "    </tr>\n",
       "    <tr>\n",
       "      <th>39</th>\n",
       "      <td>season_2016.0</td>\n",
       "      <td>0.305498</td>\n",
       "    </tr>\n",
       "  </tbody>\n",
       "</table>\n",
       "</div>"
      ],
      "text/plain": [
       "               feature     value\n",
       "0               rating  0.829051\n",
       "1              ranking  0.419658\n",
       "14  conference_Big Ten  0.349436\n",
       "20      conference_SEC  0.315500\n",
       "39       season_2016.0  0.305498"
      ]
     },
     "execution_count": 14,
     "metadata": {},
     "output_type": "execute_result"
    }
   ],
   "source": [
    "coefficients.head()"
   ]
  },
  {
   "cell_type": "code",
   "execution_count": 15,
   "metadata": {},
   "outputs": [],
   "source": [
    "chart = alt.Chart(coefficients).mark_bar().encode(\n",
    "    x=alt.X('value', sort=alt.EncodingSortField(field='value', order='descending')),\n",
    "    y=alt.Y('feature', sort=None)\n",
    ")"
   ]
  },
  {
   "cell_type": "code",
   "execution_count": 16,
   "metadata": {},
   "outputs": [
    {
     "data": {
      "text/html": [
       "\n",
       "<style>\n",
       "  #altair-viz-98e0cb6b0da24e23835cf8ba34e2825a.vega-embed {\n",
       "    width: 100%;\n",
       "    display: flex;\n",
       "  }\n",
       "\n",
       "  #altair-viz-98e0cb6b0da24e23835cf8ba34e2825a.vega-embed details,\n",
       "  #altair-viz-98e0cb6b0da24e23835cf8ba34e2825a.vega-embed details summary {\n",
       "    position: relative;\n",
       "  }\n",
       "</style>\n",
       "<div id=\"altair-viz-98e0cb6b0da24e23835cf8ba34e2825a\"></div>\n",
       "<script type=\"text/javascript\">\n",
       "  var VEGA_DEBUG = (typeof VEGA_DEBUG == \"undefined\") ? {} : VEGA_DEBUG;\n",
       "  (function(spec, embedOpt){\n",
       "    let outputDiv = document.currentScript.previousElementSibling;\n",
       "    if (outputDiv.id !== \"altair-viz-98e0cb6b0da24e23835cf8ba34e2825a\") {\n",
       "      outputDiv = document.getElementById(\"altair-viz-98e0cb6b0da24e23835cf8ba34e2825a\");\n",
       "    }\n",
       "    const paths = {\n",
       "      \"vega\": \"https://cdn.jsdelivr.net/npm/vega@5?noext\",\n",
       "      \"vega-lib\": \"https://cdn.jsdelivr.net/npm/vega-lib?noext\",\n",
       "      \"vega-lite\": \"https://cdn.jsdelivr.net/npm/vega-lite@5.20.1?noext\",\n",
       "      \"vega-embed\": \"https://cdn.jsdelivr.net/npm/vega-embed@6?noext\",\n",
       "    };\n",
       "\n",
       "    function maybeLoadScript(lib, version) {\n",
       "      var key = `${lib.replace(\"-\", \"\")}_version`;\n",
       "      return (VEGA_DEBUG[key] == version) ?\n",
       "        Promise.resolve(paths[lib]) :\n",
       "        new Promise(function(resolve, reject) {\n",
       "          var s = document.createElement('script');\n",
       "          document.getElementsByTagName(\"head\")[0].appendChild(s);\n",
       "          s.async = true;\n",
       "          s.onload = () => {\n",
       "            VEGA_DEBUG[key] = version;\n",
       "            return resolve(paths[lib]);\n",
       "          };\n",
       "          s.onerror = () => reject(`Error loading script: ${paths[lib]}`);\n",
       "          s.src = paths[lib];\n",
       "        });\n",
       "    }\n",
       "\n",
       "    function showError(err) {\n",
       "      outputDiv.innerHTML = `<div class=\"error\" style=\"color:red;\">${err}</div>`;\n",
       "      throw err;\n",
       "    }\n",
       "\n",
       "    function displayChart(vegaEmbed) {\n",
       "      vegaEmbed(outputDiv, spec, embedOpt)\n",
       "        .catch(err => showError(`Javascript Error: ${err.message}<br>This usually means there's a typo in your chart specification. See the javascript console for the full traceback.`));\n",
       "    }\n",
       "\n",
       "    if(typeof define === \"function\" && define.amd) {\n",
       "      requirejs.config({paths});\n",
       "      require([\"vega-embed\"], displayChart, err => showError(`Error loading script: ${err.message}`));\n",
       "    } else {\n",
       "      maybeLoadScript(\"vega\", \"5\")\n",
       "        .then(() => maybeLoadScript(\"vega-lite\", \"5.20.1\"))\n",
       "        .then(() => maybeLoadScript(\"vega-embed\", \"6\"))\n",
       "        .catch(showError)\n",
       "        .then(() => displayChart(vegaEmbed));\n",
       "    }\n",
       "  })({\"config\": {\"view\": {\"continuousWidth\": 300, \"continuousHeight\": 300}}, \"data\": {\"name\": \"data-485cb88c3aeed60c2b0946b53fdeb50f\"}, \"mark\": {\"type\": \"bar\"}, \"encoding\": {\"x\": {\"field\": \"value\", \"sort\": {\"field\": \"value\", \"order\": \"descending\"}, \"type\": \"quantitative\"}, \"y\": {\"field\": \"feature\", \"sort\": null, \"type\": \"nominal\"}}, \"$schema\": \"https://vega.github.io/schema/vega-lite/v5.20.1.json\", \"datasets\": {\"data-485cb88c3aeed60c2b0946b53fdeb50f\": [{\"feature\": \"rating\", \"value\": 0.8290505684042808}, {\"feature\": \"ranking\", \"value\": 0.41965776543562555}, {\"feature\": \"conference_Big Ten\", \"value\": 0.3494359932122093}, {\"feature\": \"conference_SEC\", \"value\": 0.31550004341748167}, {\"feature\": \"season_2016.0\", \"value\": 0.30549761681337745}, {\"feature\": \"conference_ACC\", \"value\": 0.3051519299287097}, {\"feature\": \"season_2014.0\", \"value\": 0.3009397033653338}, {\"feature\": \"conference_Pac-12\", \"value\": 0.2904211013742516}, {\"feature\": \"season_2013.0\", \"value\": 0.21690813033105497}, {\"feature\": \"season_2017.0\", \"value\": 0.2165843564882381}, {\"feature\": \"point_diff_rolling_2year\", \"value\": 0.20519088563596188}, {\"feature\": \"position_group_running_back\", \"value\": 0.19904178629667607}, {\"feature\": \"position_group_d_backfield\", \"value\": 0.1813627936635406}, {\"feature\": \"height\", \"value\": 0.17446526056969994}, {\"feature\": \"conference_Big 12\", \"value\": 0.15326930458206406}, {\"feature\": \"win_pct_rolling_2year\", \"value\": 0.08704865961428312}, {\"feature\": \"season_2012.0\", \"value\": 0.06978950325176964}, {\"feature\": \"stars\", \"value\": 0.06806523951469745}, {\"feature\": \"conference_FBS Independents\", \"value\": 0.0642578422519344}, {\"feature\": \"season_2015.0\", \"value\": 0.05624580851432456}, {\"feature\": \"position_group_athlete\", \"value\": 0.051258156584767914}, {\"feature\": \"side_of_ball_athlete\", \"value\": 0.051258156584767685}, {\"feature\": \"position_group_d_line\", \"value\": 0.03287904599003261}, {\"feature\": \"position_group_pass_catcher\", \"value\": 0.011018164062625162}, {\"feature\": \"wins_rolling_2year\", \"value\": -0.00879038852793479}, {\"feature\": \"games_played_rolling_2year\", \"value\": -0.04167417929370054}, {\"feature\": \"position_group_o_line\", \"value\": -0.04353035215750447}, {\"feature\": \"post_season_wins_rolling_2year\", \"value\": -0.04520486889803428}, {\"feature\": \"season_2018.0\", \"value\": -0.0497125492506515}, {\"feature\": \"conference_American Athletic\", \"value\": -0.06165649582865645}, {\"feature\": \"side_of_ball_offense\", \"value\": -0.06670154071640473}, {\"feature\": \"side_of_ball_defense\", \"value\": -0.07805856059750861}, {\"feature\": \"distance_miles\", \"value\": -0.10546379661469814}, {\"feature\": \"weight\", \"value\": -0.1227905924544135}, {\"feature\": \"season_2019.0\", \"value\": -0.1890912471294298}, {\"feature\": \"side_of_ball_special\", \"value\": -0.20039836085732615}, {\"feature\": \"position_group_special\", \"value\": -0.20039836085732646}, {\"feature\": \"position_group_qb\", \"value\": -0.23323113891820257}, {\"feature\": \"position_group_linebacker\", \"value\": -0.2923004002510786}, {\"feature\": \"conference_Mountain West\", \"value\": -0.34524353237746686}, {\"feature\": \"conference_Mid-American\", \"value\": -0.38702187532062643}, {\"feature\": \"conference_Sun Belt\", \"value\": -0.42844034003648235}, {\"feature\": \"season_nan\", \"value\": -0.4854576813131095}, {\"feature\": \"conference_Conference USA\", \"value\": -0.5495742767898915}, {\"feature\": \"season_2020.0\", \"value\": -0.7356039466573803}]}}, {\"mode\": \"vega-lite\"});\n",
       "</script>"
      ],
      "text/plain": [
       "alt.Chart(...)"
      ]
     },
     "execution_count": 16,
     "metadata": {},
     "output_type": "execute_result"
    }
   ],
   "source": [
    "chart"
   ]
  }
 ],
 "metadata": {
  "kernelspec": {
   "display_name": "venv",
   "language": "python",
   "name": "python3"
  },
  "language_info": {
   "codemirror_mode": {
    "name": "ipython",
    "version": 3
   },
   "file_extension": ".py",
   "mimetype": "text/x-python",
   "name": "python",
   "nbconvert_exporter": "python",
   "pygments_lexer": "ipython3",
   "version": "3.11.9"
  }
 },
 "nbformat": 4,
 "nbformat_minor": 2
}
