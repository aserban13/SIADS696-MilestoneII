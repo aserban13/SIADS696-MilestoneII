{
 "cells": [
  {
   "cell_type": "code",
   "execution_count": 131,
   "metadata": {},
   "outputs": [],
   "source": [
    "import pandas as pd\n",
    "from sklearn.preprocessing import StandardScaler, OneHotEncoder\n",
    "from sklearn.compose import ColumnTransformer\n",
    "from sklearn.pipeline import Pipeline\n",
    "from sklearn.model_selection import train_test_split\n",
    "from sklearn.linear_model import LogisticRegression\n",
    "from sklearn.metrics import accuracy_score, confusion_matrix\n",
    "import altair as alt"
   ]
  },
  {
   "cell_type": "code",
   "execution_count": 132,
   "metadata": {},
   "outputs": [
    {
     "data": {
      "text/html": [
       "<div>\n",
       "<style scoped>\n",
       "    .dataframe tbody tr th:only-of-type {\n",
       "        vertical-align: middle;\n",
       "    }\n",
       "\n",
       "    .dataframe tbody tr th {\n",
       "        vertical-align: top;\n",
       "    }\n",
       "\n",
       "    .dataframe thead th {\n",
       "        text-align: right;\n",
       "    }\n",
       "</style>\n",
       "<table border=\"1\" class=\"dataframe\">\n",
       "  <thead>\n",
       "    <tr style=\"text-align: right;\">\n",
       "      <th></th>\n",
       "      <th>rating</th>\n",
       "      <th>ranking</th>\n",
       "      <th>year</th>\n",
       "      <th>position</th>\n",
       "      <th>height</th>\n",
       "      <th>weight</th>\n",
       "      <th>latitude</th>\n",
       "      <th>longitude</th>\n",
       "      <th>state_province</th>\n",
       "      <th>stars</th>\n",
       "      <th>committed_to</th>\n",
       "      <th>is_drafted</th>\n",
       "      <th>conference</th>\n",
       "      <th>latitude_school</th>\n",
       "      <th>longitude_school</th>\n",
       "      <th>distance_miles</th>\n",
       "      <th>side_of_ball</th>\n",
       "      <th>position_group</th>\n",
       "    </tr>\n",
       "  </thead>\n",
       "  <tbody>\n",
       "    <tr>\n",
       "      <th>0</th>\n",
       "      <td>0.9992</td>\n",
       "      <td>1.0</td>\n",
       "      <td>2015</td>\n",
       "      <td>DT</td>\n",
       "      <td>74.0</td>\n",
       "      <td>313.0</td>\n",
       "      <td>31.578206</td>\n",
       "      <td>-84.155681</td>\n",
       "      <td>GA</td>\n",
       "      <td>5</td>\n",
       "      <td>Georgia</td>\n",
       "      <td>0.0</td>\n",
       "      <td>SEC</td>\n",
       "      <td>33.94982</td>\n",
       "      <td>-83.373381</td>\n",
       "      <td>170.049603</td>\n",
       "      <td>defense</td>\n",
       "      <td>d_line</td>\n",
       "    </tr>\n",
       "    <tr>\n",
       "      <th>1</th>\n",
       "      <td>0.9991</td>\n",
       "      <td>1.0</td>\n",
       "      <td>2015</td>\n",
       "      <td>DT</td>\n",
       "      <td>74.5</td>\n",
       "      <td>313.0</td>\n",
       "      <td>31.578206</td>\n",
       "      <td>-84.155681</td>\n",
       "      <td>GA</td>\n",
       "      <td>5</td>\n",
       "      <td>Georgia</td>\n",
       "      <td>0.0</td>\n",
       "      <td>SEC</td>\n",
       "      <td>33.94982</td>\n",
       "      <td>-83.373381</td>\n",
       "      <td>170.049603</td>\n",
       "      <td>defense</td>\n",
       "      <td>d_line</td>\n",
       "    </tr>\n",
       "    <tr>\n",
       "      <th>2</th>\n",
       "      <td>0.9879</td>\n",
       "      <td>27.0</td>\n",
       "      <td>2015</td>\n",
       "      <td>ATH</td>\n",
       "      <td>72.0</td>\n",
       "      <td>168.0</td>\n",
       "      <td>33.173177</td>\n",
       "      <td>-84.914936</td>\n",
       "      <td>GA</td>\n",
       "      <td>5</td>\n",
       "      <td>Georgia</td>\n",
       "      <td>1.0</td>\n",
       "      <td>SEC</td>\n",
       "      <td>33.94982</td>\n",
       "      <td>-83.373381</td>\n",
       "      <td>103.714733</td>\n",
       "      <td>athlete</td>\n",
       "      <td>athlete</td>\n",
       "    </tr>\n",
       "    <tr>\n",
       "      <th>3</th>\n",
       "      <td>0.9769</td>\n",
       "      <td>48.0</td>\n",
       "      <td>2015</td>\n",
       "      <td>OLB</td>\n",
       "      <td>74.0</td>\n",
       "      <td>207.0</td>\n",
       "      <td>32.305158</td>\n",
       "      <td>-84.027407</td>\n",
       "      <td>GA</td>\n",
       "      <td>4</td>\n",
       "      <td>Georgia</td>\n",
       "      <td>1.0</td>\n",
       "      <td>SEC</td>\n",
       "      <td>33.94982</td>\n",
       "      <td>-83.373381</td>\n",
       "      <td>119.771399</td>\n",
       "      <td>defense</td>\n",
       "      <td>linebacker</td>\n",
       "    </tr>\n",
       "    <tr>\n",
       "      <th>4</th>\n",
       "      <td>0.9680</td>\n",
       "      <td>65.0</td>\n",
       "      <td>2015</td>\n",
       "      <td>SDE</td>\n",
       "      <td>76.0</td>\n",
       "      <td>265.0</td>\n",
       "      <td>33.853270</td>\n",
       "      <td>-84.220073</td>\n",
       "      <td>GA</td>\n",
       "      <td>4</td>\n",
       "      <td>Georgia</td>\n",
       "      <td>0.0</td>\n",
       "      <td>SEC</td>\n",
       "      <td>33.94982</td>\n",
       "      <td>-83.373381</td>\n",
       "      <td>49.011958</td>\n",
       "      <td>defense</td>\n",
       "      <td>d_line</td>\n",
       "    </tr>\n",
       "  </tbody>\n",
       "</table>\n",
       "</div>"
      ],
      "text/plain": [
       "   rating  ranking  year position  height  weight   latitude  longitude  \\\n",
       "0  0.9992      1.0  2015       DT    74.0   313.0  31.578206 -84.155681   \n",
       "1  0.9991      1.0  2015       DT    74.5   313.0  31.578206 -84.155681   \n",
       "2  0.9879     27.0  2015      ATH    72.0   168.0  33.173177 -84.914936   \n",
       "3  0.9769     48.0  2015      OLB    74.0   207.0  32.305158 -84.027407   \n",
       "4  0.9680     65.0  2015      SDE    76.0   265.0  33.853270 -84.220073   \n",
       "\n",
       "  state_province  stars committed_to  is_drafted conference  latitude_school  \\\n",
       "0             GA      5      Georgia         0.0        SEC         33.94982   \n",
       "1             GA      5      Georgia         0.0        SEC         33.94982   \n",
       "2             GA      5      Georgia         1.0        SEC         33.94982   \n",
       "3             GA      4      Georgia         1.0        SEC         33.94982   \n",
       "4             GA      4      Georgia         0.0        SEC         33.94982   \n",
       "\n",
       "   longitude_school  distance_miles side_of_ball position_group  \n",
       "0        -83.373381      170.049603      defense         d_line  \n",
       "1        -83.373381      170.049603      defense         d_line  \n",
       "2        -83.373381      103.714733      athlete        athlete  \n",
       "3        -83.373381      119.771399      defense     linebacker  \n",
       "4        -83.373381       49.011958      defense         d_line  "
      ]
     },
     "execution_count": 132,
     "metadata": {},
     "output_type": "execute_result"
    }
   ],
   "source": [
    "df = pd.read_csv('..\\data\\imputed_dataset.csv')\n",
    "df.head()"
   ]
  },
  {
   "cell_type": "code",
   "execution_count": 133,
   "metadata": {},
   "outputs": [],
   "source": [
    "# Define numerical and categorical values\n",
    "numerical_features = ['rating', 'ranking', 'height', 'weight', 'distance_miles', 'stars']\n",
    "categorical_features = ['side_of_ball', 'position_group']\n",
    "target = ['is_drafted']"
   ]
  },
  {
   "cell_type": "code",
   "execution_count": 134,
   "metadata": {},
   "outputs": [],
   "source": [
    "# Features and target\n",
    "X = df[numerical_features+categorical_features]\n",
    "y = df[target]"
   ]
  },
  {
   "cell_type": "code",
   "execution_count": 135,
   "metadata": {},
   "outputs": [],
   "source": [
    "preprocessor = ColumnTransformer(\n",
    "    transformers=[\n",
    "        ('num', StandardScaler(), numerical_features),\n",
    "        ('cat', OneHotEncoder(handle_unknown='ignore'), categorical_features)\n",
    "    ]\n",
    ")\n",
    "\n",
    "pipe = Pipeline(steps=[\n",
    "    ('preprocessor', preprocessor),\n",
    "    ('classifier', LogisticRegression(class_weight='balanced'))\n",
    "])"
   ]
  },
  {
   "cell_type": "code",
   "execution_count": 136,
   "metadata": {},
   "outputs": [],
   "source": [
    "X_train, X_test, y_train, y_test = train_test_split(X, y, test_size=0.2, random_state=19)"
   ]
  },
  {
   "cell_type": "code",
   "execution_count": 137,
   "metadata": {},
   "outputs": [
    {
     "name": "stderr",
     "output_type": "stream",
     "text": [
      "c:\\Users\\ryano\\repos\\SIADS696-MilestoneII\\venv\\Lib\\site-packages\\sklearn\\utils\\validation.py:1339: DataConversionWarning: A column-vector y was passed when a 1d array was expected. Please change the shape of y to (n_samples, ), for example using ravel().\n",
      "  y = column_or_1d(y, warn=True)\n"
     ]
    }
   ],
   "source": [
    "pipe.fit(X_train, y_train)\n",
    "y_pred = pipe.predict(X_test)"
   ]
  },
  {
   "cell_type": "code",
   "execution_count": 138,
   "metadata": {},
   "outputs": [],
   "source": [
    "accuracy = accuracy_score(y_test, y_pred)"
   ]
  },
  {
   "cell_type": "code",
   "execution_count": 139,
   "metadata": {},
   "outputs": [],
   "source": [
    "cm = confusion_matrix(y_test, y_pred)"
   ]
  },
  {
   "cell_type": "code",
   "execution_count": 140,
   "metadata": {},
   "outputs": [
    {
     "data": {
      "text/plain": [
       "0.6837831906956331"
      ]
     },
     "execution_count": 140,
     "metadata": {},
     "output_type": "execute_result"
    }
   ],
   "source": [
    "accuracy"
   ]
  },
  {
   "cell_type": "code",
   "execution_count": 141,
   "metadata": {},
   "outputs": [
    {
     "data": {
      "text/plain": [
       "array([[2962, 1348],\n",
       "       [  93,  154]])"
      ]
     },
     "execution_count": 141,
     "metadata": {},
     "output_type": "execute_result"
    }
   ],
   "source": [
    "cm"
   ]
  },
  {
   "cell_type": "code",
   "execution_count": 142,
   "metadata": {},
   "outputs": [],
   "source": [
    "def get_feature_names(preprocessor):\n",
    "    \"Get feature names after preprocessing\"\n",
    "    feature_names = []\n",
    "    for _, transformer, columns in preprocessor.transformers_:\n",
    "        if hasattr(transformer, 'get_feature_names_out'):\n",
    "            feature_names.extend(transformer.get_feature_names_out(columns))\n",
    "        else:\n",
    "            feature_names.extend(columns)\n",
    "    return feature_names\n",
    "\n",
    "transformed_feature_names = get_feature_names(preprocessor)"
   ]
  },
  {
   "cell_type": "code",
   "execution_count": 175,
   "metadata": {},
   "outputs": [],
   "source": [
    "coefficients = pd.DataFrame({'feature': transformed_feature_names,\n",
    "                              'value': pipe.named_steps['classifier'].coef_[0]}).sort_values('value', ascending=False)"
   ]
  },
  {
   "cell_type": "code",
   "execution_count": 176,
   "metadata": {},
   "outputs": [
    {
     "data": {
      "text/html": [
       "<div>\n",
       "<style scoped>\n",
       "    .dataframe tbody tr th:only-of-type {\n",
       "        vertical-align: middle;\n",
       "    }\n",
       "\n",
       "    .dataframe tbody tr th {\n",
       "        vertical-align: top;\n",
       "    }\n",
       "\n",
       "    .dataframe thead th {\n",
       "        text-align: right;\n",
       "    }\n",
       "</style>\n",
       "<table border=\"1\" class=\"dataframe\">\n",
       "  <thead>\n",
       "    <tr style=\"text-align: right;\">\n",
       "      <th></th>\n",
       "      <th>feature</th>\n",
       "      <th>value</th>\n",
       "    </tr>\n",
       "  </thead>\n",
       "  <tbody>\n",
       "    <tr>\n",
       "      <th>0</th>\n",
       "      <td>rating</td>\n",
       "      <td>0.533164</td>\n",
       "    </tr>\n",
       "    <tr>\n",
       "      <th>18</th>\n",
       "      <td>position_group_running_back</td>\n",
       "      <td>0.449425</td>\n",
       "    </tr>\n",
       "    <tr>\n",
       "      <th>12</th>\n",
       "      <td>position_group_d_backfield</td>\n",
       "      <td>0.279032</td>\n",
       "    </tr>\n",
       "    <tr>\n",
       "      <th>9</th>\n",
       "      <td>side_of_ball_special</td>\n",
       "      <td>0.145899</td>\n",
       "    </tr>\n",
       "    <tr>\n",
       "      <th>19</th>\n",
       "      <td>position_group_special</td>\n",
       "      <td>0.145899</td>\n",
       "    </tr>\n",
       "  </tbody>\n",
       "</table>\n",
       "</div>"
      ],
      "text/plain": [
       "                        feature     value\n",
       "0                        rating  0.533164\n",
       "18  position_group_running_back  0.449425\n",
       "12   position_group_d_backfield  0.279032\n",
       "9          side_of_ball_special  0.145899\n",
       "19       position_group_special  0.145899"
      ]
     },
     "execution_count": 176,
     "metadata": {},
     "output_type": "execute_result"
    }
   ],
   "source": [
    "coefficients.head()"
   ]
  },
  {
   "cell_type": "code",
   "execution_count": 181,
   "metadata": {},
   "outputs": [],
   "source": [
    "chart = alt.Chart(coefficients).mark_bar().encode(\n",
    "    x=alt.X('value', sort=alt.EncodingSortField(field='value', order='descending')),\n",
    "    y=alt.Y('feature', sort=None)\n",
    ")"
   ]
  },
  {
   "cell_type": "code",
   "execution_count": 182,
   "metadata": {},
   "outputs": [
    {
     "data": {
      "text/html": [
       "\n",
       "<style>\n",
       "  #altair-viz-e8e1e40d95b145e1bb288ddb2b07159c.vega-embed {\n",
       "    width: 100%;\n",
       "    display: flex;\n",
       "  }\n",
       "\n",
       "  #altair-viz-e8e1e40d95b145e1bb288ddb2b07159c.vega-embed details,\n",
       "  #altair-viz-e8e1e40d95b145e1bb288ddb2b07159c.vega-embed details summary {\n",
       "    position: relative;\n",
       "  }\n",
       "</style>\n",
       "<div id=\"altair-viz-e8e1e40d95b145e1bb288ddb2b07159c\"></div>\n",
       "<script type=\"text/javascript\">\n",
       "  var VEGA_DEBUG = (typeof VEGA_DEBUG == \"undefined\") ? {} : VEGA_DEBUG;\n",
       "  (function(spec, embedOpt){\n",
       "    let outputDiv = document.currentScript.previousElementSibling;\n",
       "    if (outputDiv.id !== \"altair-viz-e8e1e40d95b145e1bb288ddb2b07159c\") {\n",
       "      outputDiv = document.getElementById(\"altair-viz-e8e1e40d95b145e1bb288ddb2b07159c\");\n",
       "    }\n",
       "    const paths = {\n",
       "      \"vega\": \"https://cdn.jsdelivr.net/npm/vega@5?noext\",\n",
       "      \"vega-lib\": \"https://cdn.jsdelivr.net/npm/vega-lib?noext\",\n",
       "      \"vega-lite\": \"https://cdn.jsdelivr.net/npm/vega-lite@5.20.1?noext\",\n",
       "      \"vega-embed\": \"https://cdn.jsdelivr.net/npm/vega-embed@6?noext\",\n",
       "    };\n",
       "\n",
       "    function maybeLoadScript(lib, version) {\n",
       "      var key = `${lib.replace(\"-\", \"\")}_version`;\n",
       "      return (VEGA_DEBUG[key] == version) ?\n",
       "        Promise.resolve(paths[lib]) :\n",
       "        new Promise(function(resolve, reject) {\n",
       "          var s = document.createElement('script');\n",
       "          document.getElementsByTagName(\"head\")[0].appendChild(s);\n",
       "          s.async = true;\n",
       "          s.onload = () => {\n",
       "            VEGA_DEBUG[key] = version;\n",
       "            return resolve(paths[lib]);\n",
       "          };\n",
       "          s.onerror = () => reject(`Error loading script: ${paths[lib]}`);\n",
       "          s.src = paths[lib];\n",
       "        });\n",
       "    }\n",
       "\n",
       "    function showError(err) {\n",
       "      outputDiv.innerHTML = `<div class=\"error\" style=\"color:red;\">${err}</div>`;\n",
       "      throw err;\n",
       "    }\n",
       "\n",
       "    function displayChart(vegaEmbed) {\n",
       "      vegaEmbed(outputDiv, spec, embedOpt)\n",
       "        .catch(err => showError(`Javascript Error: ${err.message}<br>This usually means there's a typo in your chart specification. See the javascript console for the full traceback.`));\n",
       "    }\n",
       "\n",
       "    if(typeof define === \"function\" && define.amd) {\n",
       "      requirejs.config({paths});\n",
       "      require([\"vega-embed\"], displayChart, err => showError(`Error loading script: ${err.message}`));\n",
       "    } else {\n",
       "      maybeLoadScript(\"vega\", \"5\")\n",
       "        .then(() => maybeLoadScript(\"vega-lite\", \"5.20.1\"))\n",
       "        .then(() => maybeLoadScript(\"vega-embed\", \"6\"))\n",
       "        .catch(showError)\n",
       "        .then(() => displayChart(vegaEmbed));\n",
       "    }\n",
       "  })({\"config\": {\"view\": {\"continuousWidth\": 300, \"continuousHeight\": 300}}, \"data\": {\"name\": \"data-50c65584c1f5a4b7bee2bb2324b788aa\"}, \"mark\": {\"type\": \"bar\"}, \"encoding\": {\"x\": {\"field\": \"value\", \"sort\": {\"field\": \"value\", \"order\": \"descending\"}, \"type\": \"quantitative\"}, \"y\": {\"field\": \"feature\", \"sort\": null, \"type\": \"nominal\"}}, \"$schema\": \"https://vega.github.io/schema/vega-lite/v5.20.1.json\", \"datasets\": {\"data-50c65584c1f5a4b7bee2bb2324b788aa\": [{\"feature\": \"rating\", \"value\": 0.5331638522281559}, {\"feature\": \"position_group_running_back\", \"value\": 0.44942525878151734}, {\"feature\": \"position_group_d_backfield\", \"value\": 0.2790323511458162}, {\"feature\": \"side_of_ball_special\", \"value\": 0.14589871741422492}, {\"feature\": \"position_group_special\", \"value\": 0.14589871741422492}, {\"feature\": \"height\", \"value\": 0.13026740312420668}, {\"feature\": \"weight\", \"value\": 0.12123563188905222}, {\"feature\": \"position_group_pass_catcher\", \"value\": 0.09288262627997505}, {\"feature\": \"side_of_ball_athlete\", \"value\": 0.026467290039472256}, {\"feature\": \"position_group_athlete\", \"value\": 0.026467290039472256}, {\"feature\": \"stars\", \"value\": 0.017927599090512003}, {\"feature\": \"side_of_ball_unknown\", \"value\": -0.0031973482992543574}, {\"feature\": \"position_group_unknown\", \"value\": -0.0031973482992543574}, {\"feature\": \"ranking\", \"value\": -0.0652099245227986}, {\"feature\": \"side_of_ball_offense\", \"value\": -0.10716922641408773}, {\"feature\": \"side_of_ball_defense\", \"value\": -0.14115679202729695}, {\"feature\": \"position_group_qb\", \"value\": -0.15274760483965527}, {\"feature\": \"position_group_d_line\", \"value\": -0.1671409120958421}, {\"feature\": \"distance_miles\", \"value\": -0.17388846639969213}, {\"feature\": \"position_group_linebacker\", \"value\": -0.2530482310772713}, {\"feature\": \"position_group_o_line\", \"value\": -0.49672950663592685}]}}, {\"mode\": \"vega-lite\"});\n",
       "</script>"
      ],
      "text/plain": [
       "alt.Chart(...)"
      ]
     },
     "execution_count": 182,
     "metadata": {},
     "output_type": "execute_result"
    }
   ],
   "source": [
    "chart"
   ]
  }
 ],
 "metadata": {
  "kernelspec": {
   "display_name": "venv",
   "language": "python",
   "name": "python3"
  },
  "language_info": {
   "codemirror_mode": {
    "name": "ipython",
    "version": 3
   },
   "file_extension": ".py",
   "mimetype": "text/x-python",
   "name": "python",
   "nbconvert_exporter": "python",
   "pygments_lexer": "ipython3",
   "version": "3.11.9"
  }
 },
 "nbformat": 4,
 "nbformat_minor": 2
}
