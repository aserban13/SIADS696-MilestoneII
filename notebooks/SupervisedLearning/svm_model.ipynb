{
 "cells": [
  {
   "cell_type": "markdown",
   "metadata": {},
   "source": [
    "# SVM Model"
   ]
  },
  {
   "cell_type": "code",
   "execution_count": 2,
   "metadata": {},
   "outputs": [],
   "source": [
    "# pip install shap"
   ]
  },
  {
   "cell_type": "code",
   "execution_count": 3,
   "metadata": {},
   "outputs": [],
   "source": [
    "import pandas as pd \n",
    "import numpy as np\n",
    "from sklearn.model_selection import train_test_split, cross_val_score\n",
    "from sklearn.preprocessing import StandardScaler\n",
    "from sklearn.svm import SVC\n",
    "from sklearn.metrics import accuracy_score, classification_report, confusion_matrix, f1_score\n",
    "\n"
   ]
  },
  {
   "cell_type": "code",
   "execution_count": 4,
   "metadata": {},
   "outputs": [],
   "source": [
    "# df_old = pd.read_csv('../../data/M2_final.csv') \n",
    "df = pd.read_csv('../imputed_dataset.csv')\n",
    "\n"
   ]
  },
  {
   "cell_type": "code",
   "execution_count": 5,
   "metadata": {},
   "outputs": [
    {
     "data": {
      "text/html": [
       "<div>\n",
       "<style scoped>\n",
       "    .dataframe tbody tr th:only-of-type {\n",
       "        vertical-align: middle;\n",
       "    }\n",
       "\n",
       "    .dataframe tbody tr th {\n",
       "        vertical-align: top;\n",
       "    }\n",
       "\n",
       "    .dataframe thead th {\n",
       "        text-align: right;\n",
       "    }\n",
       "</style>\n",
       "<table border=\"1\" class=\"dataframe\">\n",
       "  <thead>\n",
       "    <tr style=\"text-align: right;\">\n",
       "      <th></th>\n",
       "      <th>rating</th>\n",
       "      <th>ranking</th>\n",
       "      <th>year</th>\n",
       "      <th>position</th>\n",
       "      <th>height</th>\n",
       "      <th>weight</th>\n",
       "      <th>latitude</th>\n",
       "      <th>longitude</th>\n",
       "      <th>stars</th>\n",
       "      <th>committed_to</th>\n",
       "      <th>...</th>\n",
       "      <th>latitude_school</th>\n",
       "      <th>longitude_school</th>\n",
       "      <th>wins_rolling_2year</th>\n",
       "      <th>games_played_rolling_2year</th>\n",
       "      <th>post_season_wins_rolling_2year</th>\n",
       "      <th>point_diff_rolling_2year</th>\n",
       "      <th>win_pct_rolling_2year</th>\n",
       "      <th>distance_miles</th>\n",
       "      <th>side_of_ball</th>\n",
       "      <th>position_group</th>\n",
       "    </tr>\n",
       "  </thead>\n",
       "  <tbody>\n",
       "    <tr>\n",
       "      <th>0</th>\n",
       "      <td>0.9644</td>\n",
       "      <td>71.0</td>\n",
       "      <td>2012</td>\n",
       "      <td>DT</td>\n",
       "      <td>76.0</td>\n",
       "      <td>290.0</td>\n",
       "      <td>35.334011</td>\n",
       "      <td>-81.865103</td>\n",
       "      <td>4</td>\n",
       "      <td>Clemson</td>\n",
       "      <td>...</td>\n",
       "      <td>34.678774</td>\n",
       "      <td>-82.843243</td>\n",
       "      <td>16.0</td>\n",
       "      <td>27.0</td>\n",
       "      <td>0.0</td>\n",
       "      <td>128.0</td>\n",
       "      <td>0.846154</td>\n",
       "      <td>71.511790</td>\n",
       "      <td>defense</td>\n",
       "      <td>d_line</td>\n",
       "    </tr>\n",
       "    <tr>\n",
       "      <th>1</th>\n",
       "      <td>0.9632</td>\n",
       "      <td>79.0</td>\n",
       "      <td>2012</td>\n",
       "      <td>WR</td>\n",
       "      <td>71.0</td>\n",
       "      <td>175.0</td>\n",
       "      <td>35.227200</td>\n",
       "      <td>-80.843083</td>\n",
       "      <td>4</td>\n",
       "      <td>Clemson</td>\n",
       "      <td>...</td>\n",
       "      <td>34.678774</td>\n",
       "      <td>-82.843243</td>\n",
       "      <td>16.0</td>\n",
       "      <td>27.0</td>\n",
       "      <td>0.0</td>\n",
       "      <td>128.0</td>\n",
       "      <td>0.846154</td>\n",
       "      <td>119.438575</td>\n",
       "      <td>offense</td>\n",
       "      <td>pass_catcher</td>\n",
       "    </tr>\n",
       "    <tr>\n",
       "      <th>2</th>\n",
       "      <td>0.9567</td>\n",
       "      <td>92.0</td>\n",
       "      <td>2012</td>\n",
       "      <td>S</td>\n",
       "      <td>73.0</td>\n",
       "      <td>195.0</td>\n",
       "      <td>30.438083</td>\n",
       "      <td>-84.280933</td>\n",
       "      <td>4</td>\n",
       "      <td>Clemson</td>\n",
       "      <td>...</td>\n",
       "      <td>34.678774</td>\n",
       "      <td>-82.843243</td>\n",
       "      <td>16.0</td>\n",
       "      <td>27.0</td>\n",
       "      <td>0.0</td>\n",
       "      <td>128.0</td>\n",
       "      <td>0.846154</td>\n",
       "      <td>304.721993</td>\n",
       "      <td>defense</td>\n",
       "      <td>d_backfield</td>\n",
       "    </tr>\n",
       "    <tr>\n",
       "      <th>3</th>\n",
       "      <td>0.9264</td>\n",
       "      <td>187.0</td>\n",
       "      <td>2012</td>\n",
       "      <td>DUAL</td>\n",
       "      <td>75.0</td>\n",
       "      <td>205.0</td>\n",
       "      <td>42.886717</td>\n",
       "      <td>-78.878392</td>\n",
       "      <td>4</td>\n",
       "      <td>Clemson</td>\n",
       "      <td>...</td>\n",
       "      <td>34.678774</td>\n",
       "      <td>-82.843243</td>\n",
       "      <td>16.0</td>\n",
       "      <td>27.0</td>\n",
       "      <td>0.0</td>\n",
       "      <td>128.0</td>\n",
       "      <td>0.846154</td>\n",
       "      <td>605.799029</td>\n",
       "      <td>offense</td>\n",
       "      <td>qb</td>\n",
       "    </tr>\n",
       "    <tr>\n",
       "      <th>4</th>\n",
       "      <td>0.9133</td>\n",
       "      <td>231.0</td>\n",
       "      <td>2012</td>\n",
       "      <td>ATH</td>\n",
       "      <td>73.0</td>\n",
       "      <td>180.0</td>\n",
       "      <td>35.842865</td>\n",
       "      <td>-90.703452</td>\n",
       "      <td>4</td>\n",
       "      <td>Clemson</td>\n",
       "      <td>...</td>\n",
       "      <td>34.678774</td>\n",
       "      <td>-82.843243</td>\n",
       "      <td>16.0</td>\n",
       "      <td>27.0</td>\n",
       "      <td>0.0</td>\n",
       "      <td>128.0</td>\n",
       "      <td>0.846154</td>\n",
       "      <td>450.556207</td>\n",
       "      <td>athlete</td>\n",
       "      <td>athlete</td>\n",
       "    </tr>\n",
       "  </tbody>\n",
       "</table>\n",
       "<p>5 rows × 22 columns</p>\n",
       "</div>"
      ],
      "text/plain": [
       "   rating  ranking  year position  height  weight   latitude  longitude  \\\n",
       "0  0.9644     71.0  2012       DT    76.0   290.0  35.334011 -81.865103   \n",
       "1  0.9632     79.0  2012       WR    71.0   175.0  35.227200 -80.843083   \n",
       "2  0.9567     92.0  2012        S    73.0   195.0  30.438083 -84.280933   \n",
       "3  0.9264    187.0  2012     DUAL    75.0   205.0  42.886717 -78.878392   \n",
       "4  0.9133    231.0  2012      ATH    73.0   180.0  35.842865 -90.703452   \n",
       "\n",
       "   stars committed_to  ...  latitude_school longitude_school  \\\n",
       "0      4      Clemson  ...        34.678774       -82.843243   \n",
       "1      4      Clemson  ...        34.678774       -82.843243   \n",
       "2      4      Clemson  ...        34.678774       -82.843243   \n",
       "3      4      Clemson  ...        34.678774       -82.843243   \n",
       "4      4      Clemson  ...        34.678774       -82.843243   \n",
       "\n",
       "   wins_rolling_2year  games_played_rolling_2year  \\\n",
       "0                16.0                        27.0   \n",
       "1                16.0                        27.0   \n",
       "2                16.0                        27.0   \n",
       "3                16.0                        27.0   \n",
       "4                16.0                        27.0   \n",
       "\n",
       "   post_season_wins_rolling_2year  point_diff_rolling_2year  \\\n",
       "0                             0.0                     128.0   \n",
       "1                             0.0                     128.0   \n",
       "2                             0.0                     128.0   \n",
       "3                             0.0                     128.0   \n",
       "4                             0.0                     128.0   \n",
       "\n",
       "   win_pct_rolling_2year  distance_miles  side_of_ball  position_group  \n",
       "0               0.846154       71.511790       defense          d_line  \n",
       "1               0.846154      119.438575       offense    pass_catcher  \n",
       "2               0.846154      304.721993       defense     d_backfield  \n",
       "3               0.846154      605.799029       offense              qb  \n",
       "4               0.846154      450.556207       athlete         athlete  \n",
       "\n",
       "[5 rows x 22 columns]"
      ]
     },
     "execution_count": 5,
     "metadata": {},
     "output_type": "execute_result"
    }
   ],
   "source": [
    "df.head() "
   ]
  },
  {
   "cell_type": "code",
   "execution_count": 6,
   "metadata": {},
   "outputs": [
    {
     "data": {
      "text/plain": [
       "Index(['rating', 'ranking', 'year', 'position', 'height', 'weight', 'latitude',\n",
       "       'longitude', 'stars', 'committed_to', 'is_drafted', 'conference',\n",
       "       'latitude_school', 'longitude_school', 'wins_rolling_2year',\n",
       "       'games_played_rolling_2year', 'post_season_wins_rolling_2year',\n",
       "       'point_diff_rolling_2year', 'win_pct_rolling_2year', 'distance_miles',\n",
       "       'side_of_ball', 'position_group'],\n",
       "      dtype='object')"
      ]
     },
     "execution_count": 6,
     "metadata": {},
     "output_type": "execute_result"
    }
   ],
   "source": [
    "df.columns "
   ]
  },
  {
   "cell_type": "code",
   "execution_count": 7,
   "metadata": {},
   "outputs": [
    {
     "data": {
      "text/plain": [
       "0.08514636488913016"
      ]
     },
     "execution_count": 7,
     "metadata": {},
     "output_type": "execute_result"
    }
   ],
   "source": [
    "## Unbalanced dataset \n",
    "df['is_drafted'].mean()"
   ]
  },
  {
   "cell_type": "code",
   "execution_count": 8,
   "metadata": {},
   "outputs": [
    {
     "data": {
      "text/plain": [
       "<bound method IndexOpsMixin.value_counts of 0        1.0\n",
       "1        0.0\n",
       "2        0.0\n",
       "3        1.0\n",
       "4        1.0\n",
       "        ... \n",
       "23942    0.0\n",
       "23943    0.0\n",
       "23944    0.0\n",
       "23945    0.0\n",
       "23946    0.0\n",
       "Name: is_drafted, Length: 23947, dtype: float64>"
      ]
     },
     "execution_count": 8,
     "metadata": {},
     "output_type": "execute_result"
    }
   ],
   "source": [
    "df['is_drafted'].value_counts"
   ]
  },
  {
   "cell_type": "code",
   "execution_count": 9,
   "metadata": {},
   "outputs": [],
   "source": [
    "from sklearn.utils import resample\n",
    "\n",
    "# Separate majority and minority classes\n",
    "majority_df = df[df['is_drafted'] == 0.0]\n",
    "minority_df = df[df['is_drafted'] == 1.0]\n",
    "\n",
    "# Perform undersampling of the majority class\n",
    "majority_undersampled = resample(majority_df, \n",
    "                                 replace=False,    # sample without replacement\n",
    "                                 n_samples=len(minority_df),  # to match minority class\n",
    "                                 random_state=42)  # reproducible results\n",
    "\n",
    "# Combine minority class with undersampled majority class\n",
    "balanced_data = pd.concat([majority_undersampled, minority_df])"
   ]
  },
  {
   "cell_type": "code",
   "execution_count": 10,
   "metadata": {},
   "outputs": [],
   "source": [
    "numerical_features = ['rating', 'ranking', 'height', 'weight', 'distance_miles', 'stars', 'games_played_rolling_2year','win_pct_rolling_2year']\n",
    "categorical_features = ['side_of_ball', 'position_group']\n",
    "target = ['is_drafted']\n"
   ]
  },
  {
   "cell_type": "code",
   "execution_count": 11,
   "metadata": {},
   "outputs": [],
   "source": [
    "# Separate features and target in the balanced dataset\n",
    "X_balanced = balanced_data[numerical_features+categorical_features]\n",
    "y_balanced = balanced_data[target]\n",
    "\n",
    "# Encoding categorical features (if any)\n",
    "X_balanced = pd.get_dummies(X_balanced) # Uncomment if you have categorical features\n",
    "\n"
   ]
  },
  {
   "cell_type": "code",
   "execution_count": 12,
   "metadata": {},
   "outputs": [],
   "source": [
    "# Split the balanced data into training and testing sets\n",
    "X_train, X_test, y_train, y_test = train_test_split(X_balanced, y_balanced, test_size=0.3, random_state=42)\n"
   ]
  },
  {
   "cell_type": "code",
   "execution_count": 13,
   "metadata": {},
   "outputs": [],
   "source": [
    "# Standardize the features\n",
    "scaler = StandardScaler()\n",
    "X_train = scaler.fit_transform(X_train)\n",
    "X_test = scaler.transform(X_test)\n"
   ]
  },
  {
   "cell_type": "code",
   "execution_count": 14,
   "metadata": {},
   "outputs": [
    {
     "name": "stderr",
     "output_type": "stream",
     "text": [
      "/Users/ASerban/Library/Python/3.9/lib/python/site-packages/sklearn/utils/validation.py:1183: DataConversionWarning: A column-vector y was passed when a 1d array was expected. Please change the shape of y to (n_samples, ), for example using ravel().\n",
      "  y = column_or_1d(y, warn=True)\n",
      "/Users/ASerban/Library/Python/3.9/lib/python/site-packages/sklearn/utils/validation.py:1183: DataConversionWarning: A column-vector y was passed when a 1d array was expected. Please change the shape of y to (n_samples, ), for example using ravel().\n",
      "  y = column_or_1d(y, warn=True)\n",
      "/Users/ASerban/Library/Python/3.9/lib/python/site-packages/sklearn/utils/validation.py:1183: DataConversionWarning: A column-vector y was passed when a 1d array was expected. Please change the shape of y to (n_samples, ), for example using ravel().\n",
      "  y = column_or_1d(y, warn=True)\n",
      "/Users/ASerban/Library/Python/3.9/lib/python/site-packages/sklearn/utils/validation.py:1183: DataConversionWarning: A column-vector y was passed when a 1d array was expected. Please change the shape of y to (n_samples, ), for example using ravel().\n",
      "  y = column_or_1d(y, warn=True)\n",
      "/Users/ASerban/Library/Python/3.9/lib/python/site-packages/sklearn/utils/validation.py:1183: DataConversionWarning: A column-vector y was passed when a 1d array was expected. Please change the shape of y to (n_samples, ), for example using ravel().\n",
      "  y = column_or_1d(y, warn=True)\n",
      "/Users/ASerban/Library/Python/3.9/lib/python/site-packages/sklearn/utils/validation.py:1183: DataConversionWarning: A column-vector y was passed when a 1d array was expected. Please change the shape of y to (n_samples, ), for example using ravel().\n",
      "  y = column_or_1d(y, warn=True)\n",
      "/Users/ASerban/Library/Python/3.9/lib/python/site-packages/sklearn/utils/validation.py:1183: DataConversionWarning: A column-vector y was passed when a 1d array was expected. Please change the shape of y to (n_samples, ), for example using ravel().\n",
      "  y = column_or_1d(y, warn=True)\n",
      "/Users/ASerban/Library/Python/3.9/lib/python/site-packages/sklearn/utils/validation.py:1183: DataConversionWarning: A column-vector y was passed when a 1d array was expected. Please change the shape of y to (n_samples, ), for example using ravel().\n",
      "  y = column_or_1d(y, warn=True)\n",
      "/Users/ASerban/Library/Python/3.9/lib/python/site-packages/sklearn/utils/validation.py:1183: DataConversionWarning: A column-vector y was passed when a 1d array was expected. Please change the shape of y to (n_samples, ), for example using ravel().\n",
      "  y = column_or_1d(y, warn=True)\n",
      "/Users/ASerban/Library/Python/3.9/lib/python/site-packages/sklearn/utils/validation.py:1183: DataConversionWarning: A column-vector y was passed when a 1d array was expected. Please change the shape of y to (n_samples, ), for example using ravel().\n",
      "  y = column_or_1d(y, warn=True)\n",
      "/Users/ASerban/Library/Python/3.9/lib/python/site-packages/sklearn/utils/validation.py:1183: DataConversionWarning: A column-vector y was passed when a 1d array was expected. Please change the shape of y to (n_samples, ), for example using ravel().\n",
      "  y = column_or_1d(y, warn=True)\n",
      "/Users/ASerban/Library/Python/3.9/lib/python/site-packages/sklearn/utils/validation.py:1183: DataConversionWarning: A column-vector y was passed when a 1d array was expected. Please change the shape of y to (n_samples, ), for example using ravel().\n",
      "  y = column_or_1d(y, warn=True)\n",
      "/Users/ASerban/Library/Python/3.9/lib/python/site-packages/sklearn/utils/validation.py:1183: DataConversionWarning: A column-vector y was passed when a 1d array was expected. Please change the shape of y to (n_samples, ), for example using ravel().\n",
      "  y = column_or_1d(y, warn=True)\n",
      "/Users/ASerban/Library/Python/3.9/lib/python/site-packages/sklearn/utils/validation.py:1183: DataConversionWarning: A column-vector y was passed when a 1d array was expected. Please change the shape of y to (n_samples, ), for example using ravel().\n",
      "  y = column_or_1d(y, warn=True)\n",
      "/Users/ASerban/Library/Python/3.9/lib/python/site-packages/sklearn/utils/validation.py:1183: DataConversionWarning: A column-vector y was passed when a 1d array was expected. Please change the shape of y to (n_samples, ), for example using ravel().\n",
      "  y = column_or_1d(y, warn=True)\n",
      "/Users/ASerban/Library/Python/3.9/lib/python/site-packages/sklearn/utils/validation.py:1183: DataConversionWarning: A column-vector y was passed when a 1d array was expected. Please change the shape of y to (n_samples, ), for example using ravel().\n",
      "  y = column_or_1d(y, warn=True)\n",
      "/Users/ASerban/Library/Python/3.9/lib/python/site-packages/sklearn/utils/validation.py:1183: DataConversionWarning: A column-vector y was passed when a 1d array was expected. Please change the shape of y to (n_samples, ), for example using ravel().\n",
      "  y = column_or_1d(y, warn=True)\n",
      "/Users/ASerban/Library/Python/3.9/lib/python/site-packages/sklearn/utils/validation.py:1183: DataConversionWarning: A column-vector y was passed when a 1d array was expected. Please change the shape of y to (n_samples, ), for example using ravel().\n",
      "  y = column_or_1d(y, warn=True)\n",
      "/Users/ASerban/Library/Python/3.9/lib/python/site-packages/sklearn/utils/validation.py:1183: DataConversionWarning: A column-vector y was passed when a 1d array was expected. Please change the shape of y to (n_samples, ), for example using ravel().\n",
      "  y = column_or_1d(y, warn=True)\n",
      "/Users/ASerban/Library/Python/3.9/lib/python/site-packages/sklearn/utils/validation.py:1183: DataConversionWarning: A column-vector y was passed when a 1d array was expected. Please change the shape of y to (n_samples, ), for example using ravel().\n",
      "  y = column_or_1d(y, warn=True)\n"
     ]
    },
    {
     "name": "stdout",
     "output_type": "stream",
     "text": [
      "Kernel performance:\n",
      "Kernel: linear, Cross-Validation Accuracy: 0.6760\n",
      "Kernel: poly, Cross-Validation Accuracy: 0.6497\n",
      "Kernel: rbf, Cross-Validation Accuracy: 0.6425\n",
      "Kernel: sigmoid, Cross-Validation Accuracy: 0.5869\n"
     ]
    }
   ],
   "source": [
    "## Hyperparameter tuning\n",
    "# Define the kernels to evaluate\n",
    "kernels = ['linear', 'poly', 'rbf', 'sigmoid']\n",
    "\n",
    "best_kernel = None\n",
    "best_score = 0\n",
    "results = []\n",
    "\n",
    "# Evaluate each kernel\n",
    "for kernel in kernels:\n",
    "    svm_model = SVC(kernel=kernel)\n",
    "    cv_scores = cross_val_score(svm_model, X_train, y_train, cv=5, scoring='f1')\n",
    "    mean_cv_score = cv_scores.mean()\n",
    "    results.append((kernel, mean_cv_score))\n",
    "    \n",
    "    if mean_cv_score > best_score:\n",
    "        best_score = mean_cv_score\n",
    "        best_kernel = kernel\n",
    "        \n",
    "print(\"Kernel performance:\")\n",
    "for kernel, score in results:\n",
    "    print(f\"Kernel: {kernel}, Cross-Validation Accuracy: {score:.4f}\")\n"
   ]
  },
  {
   "cell_type": "code",
   "execution_count": 15,
   "metadata": {},
   "outputs": [
    {
     "name": "stderr",
     "output_type": "stream",
     "text": [
      "/Users/ASerban/Library/Python/3.9/lib/python/site-packages/sklearn/utils/validation.py:1183: DataConversionWarning: A column-vector y was passed when a 1d array was expected. Please change the shape of y to (n_samples, ), for example using ravel().\n",
      "  y = column_or_1d(y, warn=True)\n"
     ]
    }
   ],
   "source": [
    "# Initialize the SVM model with the kernel of your choice (linear, poly, rbf etc.)\n",
    "svm_model = SVC(kernel='rbf', random_state=42)\n",
    "\n",
    "# Train the model\n",
    "svm_model.fit(X_train, y_train)\n",
    "\n",
    "# Make predictions\n",
    "y_pred = svm_model.predict(X_test)"
   ]
  },
  {
   "cell_type": "code",
   "execution_count": 16,
   "metadata": {},
   "outputs": [
    {
     "name": "stdout",
     "output_type": "stream",
     "text": [
      "Accuracy: 0.6650326797385621\n",
      "Confusion Matrix:\n",
      "[[452 181]\n",
      " [229 362]]\n",
      "Classification Report:\n",
      "              precision    recall  f1-score   support\n",
      "\n",
      "         0.0       0.66      0.71      0.69       633\n",
      "         1.0       0.67      0.61      0.64       591\n",
      "\n",
      "    accuracy                           0.67      1224\n",
      "   macro avg       0.67      0.66      0.66      1224\n",
      "weighted avg       0.67      0.67      0.66      1224\n",
      "\n",
      "F1 Score: 0.6640615488542787\n"
     ]
    }
   ],
   "source": [
    "# Calculate accuracy\n",
    "accuracy = accuracy_score(y_test, y_pred)\n",
    "\n",
    "# Generate confusion matrix\n",
    "conf_matrix = confusion_matrix(y_test, y_pred)\n",
    "\n",
    "# Generate classification report\n",
    "class_report = classification_report(y_test, y_pred)\n",
    "\n",
    "f1 = f1_score(y_test, y_pred, average='weighted') # You can change 'weighted' to 'micro' or 'macro' based on your needs\n",
    "\n",
    "print(f'Accuracy: {accuracy}')\n",
    "print(f'Confusion Matrix:\\n{conf_matrix}')\n",
    "print(f'Classification Report:\\n{class_report}')\n",
    "print(f'F1 Score: {f1}')\n"
   ]
  },
  {
   "cell_type": "code",
   "execution_count": 20,
   "metadata": {},
   "outputs": [
    {
     "data": {
      "image/png": "[encoded data removed]",
      "text/plain": [
       "<Figure size 1000x700 with 2 Axes>"
      ]
     },
     "metadata": {},
     "output_type": "display_data"
    }
   ],
   "source": [
    "import matplotlib.pyplot as plt\n",
    "import seaborn as sns \n",
    "# Plot the Confusion Matrix\n",
    "plt.figure(figsize=(10,7))\n",
    "sns.heatmap(conf_matrix, annot=True, fmt='d', cmap='Blues', xticklabels=np.unique(y_balanced), yticklabels=np.unique(y_balanced))\n",
    "plt.xlabel('Predicted Labels')\n",
    "plt.ylabel('True Labels')\n",
    "plt.title('Confusion Matrix')\n",
    "plt.show()\n"
   ]
  },
  {
   "cell_type": "code",
   "execution_count": 21,
   "metadata": {},
   "outputs": [
    {
     "ename": "NameError",
     "evalue": "name 'X' is not defined",
     "output_type": "error",
     "traceback": [
      "\u001b[0;31m---------------------------------------------------------------------------\u001b[0m",
      "\u001b[0;31mNameError\u001b[0m                                 Traceback (most recent call last)",
      "Cell \u001b[0;32mIn[21], line 7\u001b[0m\n\u001b[1;32m      4\u001b[0m perm_importance \u001b[38;5;241m=\u001b[39m permutation_importance(svm_model, X_test, y_test, n_repeats\u001b[38;5;241m=\u001b[39m\u001b[38;5;241m30\u001b[39m, random_state\u001b[38;5;241m=\u001b[39m\u001b[38;5;241m42\u001b[39m)\n\u001b[1;32m      6\u001b[0m \u001b[38;5;66;03m# Create a DataFrame for better visualization\u001b[39;00m\n\u001b[0;32m----> 7\u001b[0m importance_df \u001b[38;5;241m=\u001b[39m pd\u001b[38;5;241m.\u001b[39mDataFrame({\u001b[38;5;124m'\u001b[39m\u001b[38;5;124mFeature\u001b[39m\u001b[38;5;124m'\u001b[39m: \u001b[43mX\u001b[49m\u001b[38;5;241m.\u001b[39mcolumns, \u001b[38;5;124m'\u001b[39m\u001b[38;5;124mImportance\u001b[39m\u001b[38;5;124m'\u001b[39m: perm_importance\u001b[38;5;241m.\u001b[39mimportances_mean})\n\u001b[1;32m      9\u001b[0m \u001b[38;5;66;03m# Sort the DataFrame by importance\u001b[39;00m\n\u001b[1;32m     10\u001b[0m importance_df \u001b[38;5;241m=\u001b[39m importance_df\u001b[38;5;241m.\u001b[39msort_values(by\u001b[38;5;241m=\u001b[39m\u001b[38;5;124m'\u001b[39m\u001b[38;5;124mImportance\u001b[39m\u001b[38;5;124m'\u001b[39m, ascending\u001b[38;5;241m=\u001b[39m\u001b[38;5;28;01mFalse\u001b[39;00m)\n",
      "\u001b[0;31mNameError\u001b[0m: name 'X' is not defined"
     ]
    }
   ],
   "source": [
    "from sklearn.inspection import permutation_importance\n",
    "\n",
    "# Calculate permutation importance\n",
    "perm_importance = permutation_importance(svm_model, X_test, y_test, n_repeats=30, random_state=42)\n"
   ]
  },
  {
   "cell_type": "code",
   "execution_count": 22,
   "metadata": {},
   "outputs": [
    {
     "name": "stdout",
     "output_type": "stream",
     "text": [
      "                        Feature  Importance\n",
      "1                       ranking    0.054194\n",
      "0                        rating    0.017347\n",
      "5                         stars    0.013589\n",
      "2                        height    0.010430\n",
      "6    games_played_rolling_2year    0.007707\n",
      "7         win_pct_rolling_2year    0.006291\n",
      "11         side_of_ball_special    0.004847\n",
      "20       position_group_special    0.004847\n",
      "13   position_group_d_backfield    0.004248\n",
      "4                distance_miles    0.003159\n",
      "3                        weight    0.002424\n",
      "9          side_of_ball_defense    0.002397\n",
      "16        position_group_o_line    0.002397\n",
      "15    position_group_linebacker    0.001688\n",
      "19  position_group_running_back    0.001144\n",
      "14        position_group_d_line   -0.000163\n",
      "10         side_of_ball_offense   -0.001117\n",
      "18            position_group_qb   -0.001144\n",
      "17  position_group_pass_catcher   -0.001362\n",
      "8          side_of_ball_athlete   -0.002533\n",
      "12       position_group_athlete   -0.002533\n"
     ]
    },
    {
     "data": {
      "image/png": "[encoded data removed]",
      "text/plain": [
       "<Figure size 1000x600 with 1 Axes>"
      ]
     },
     "metadata": {},
     "output_type": "display_data"
    }
   ],
   "source": [
    "\n",
    "# Create a DataFrame for better visualization\n",
    "importance_df = pd.DataFrame({'Feature': X_balanced.columns, 'Importance': perm_importance.importances_mean})\n",
    "\n",
    "# Sort the DataFrame by importance\n",
    "importance_df = importance_df.sort_values(by='Importance', ascending=False)\n",
    "\n",
    "print(importance_df)\n",
    "\n",
    "# Plot the feature importances\n",
    "plt.figure(figsize=(10, 6))\n",
    "plt.barh(importance_df['Feature'], importance_df['Importance'])\n",
    "plt.xlabel('Importance')\n",
    "plt.ylabel('Feature')\n",
    "plt.title('Permutation Feature Importances from Non-Linear SVM')\n",
    "plt.show()"
   ]
  },
  {
   "cell_type": "code",
   "execution_count": null,
   "metadata": {},
   "outputs": [],
   "source": []
  }
 ],
 "metadata": {
  "kernelspec": {
   "display_name": "Python 3",
   "language": "python",
   "name": "python3"
  },
  "language_info": {
   "codemirror_mode": {
    "name": "ipython",
    "version": 3
   },
   "file_extension": ".py",
   "mimetype": "text/x-python",
   "name": "python",
   "nbconvert_exporter": "python",
   "pygments_lexer": "ipython3",
   "version": "3.9.9"
  }
 },
 "nbformat": 4,
 "nbformat_minor": 2
}
