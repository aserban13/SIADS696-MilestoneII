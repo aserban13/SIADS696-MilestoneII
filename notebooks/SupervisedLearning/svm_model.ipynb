{
 "cells": [
  {
   "cell_type": "markdown",
   "metadata": {},
   "source": [
    "# Support Vector Machine (SVM) Model\n"
   ]
  },
  {
   "cell_type": "code",
   "execution_count": 1,
   "metadata": {},
   "outputs": [],
   "source": [
    "# Uncomment to get the correct versions\n",
    "from IPython.display import clear_output\n",
    "!pip install -r ../requirements.txt\n",
    "clear_output() \n"
   ]
  },
  {
   "cell_type": "code",
   "execution_count": 2,
   "metadata": {},
   "outputs": [],
   "source": [
    "import pandas as pd \n",
    "import numpy as np\n",
    "from sklearn.model_selection import train_test_split, cross_val_score\n",
    "from sklearn.preprocessing import StandardScaler\n",
    "from sklearn.svm import SVC\n",
    "from sklearn.metrics import accuracy_score, classification_report, confusion_matrix, f1_score, precision_score\n",
    "\n"
   ]
  },
  {
   "cell_type": "code",
   "execution_count": 3,
   "metadata": {},
   "outputs": [],
   "source": [
    "pd.set_option('display.max_columns', None)\n",
    "pd.set_option('display.max_rows', None)"
   ]
  },
  {
   "cell_type": "code",
   "execution_count": 4,
   "metadata": {},
   "outputs": [],
   "source": [
    "# Get the data\n",
    "\n",
    "x_train_path = '../../data/train_test_split/x_train_cluster.csv'\n",
    "y_train_path = '../../data/train_test_split/y_train.csv'\n",
    "\n",
    "x_test_path = '../../data/train_test_split/x_test_cluster.csv'\n",
    "y_test_path = '../../data/train_test_split/y_test.csv'\n",
    "\n",
    "x_train_df = pd.read_csv(x_train_path) \n",
    "y_train_df = pd.read_csv(y_train_path) \n",
    "\n",
    "x_test_df = pd.read_csv(x_test_path)\n",
    "y_test_df = pd.read_csv(y_test_path)\n",
    "\n"
   ]
  },
  {
   "cell_type": "code",
   "execution_count": 5,
   "metadata": {},
   "outputs": [],
   "source": [
    "x_train_df['dataset_type'] = 'train'\n",
    "x_test_df['dataset_type'] = 'test'\n",
    "\n",
    "# Combine train and test\n",
    "train_df = pd.merge(x_train_df, y_train_df, how='left', left_index=True, right_index=True)\n",
    "test_df = pd.merge(x_test_df, y_test_df,how='left', left_index=True, right_index=True)\n"
   ]
  },
  {
   "cell_type": "code",
   "execution_count": 6,
   "metadata": {},
   "outputs": [],
   "source": [
    "# Convert all the clusters into objects\n",
    "train_df['KMeans_Cluster'] = train_df['KMeans_Cluster'].astype(object)\n",
    "test_df['KMeans_Cluster'] = test_df['KMeans_Cluster'].astype(object)\n",
    "\n",
    "train_df['SVD_KMeans_Cluster'] = train_df['SVD_KMeans_Cluster'].astype(object)\n",
    "test_df['SVD_KMeans_Cluster'] = test_df['SVD_KMeans_Cluster'].astype(object)\n",
    "\n",
    "train_df['DBSCAN_Cluster_PCA'] = train_df['DBSCAN_Cluster_PCA'].astype(object)\n",
    "test_df['DBSCAN_Cluster_PCA'] = test_df['DBSCAN_Cluster_PCA'].astype(object)"
   ]
  },
  {
   "cell_type": "code",
   "execution_count": 7,
   "metadata": {},
   "outputs": [],
   "source": [
    "\n",
    "combined_df = pd.concat([train_df, test_df], axis=0)\n",
    "combined_df.reset_index(drop=True, inplace=True)\n"
   ]
  },
  {
   "cell_type": "code",
   "execution_count": 8,
   "metadata": {},
   "outputs": [
    {
     "data": {
      "text/html": [
       "<div>\n",
       "<style scoped>\n",
       "    .dataframe tbody tr th:only-of-type {\n",
       "        vertical-align: middle;\n",
       "    }\n",
       "\n",
       "    .dataframe tbody tr th {\n",
       "        vertical-align: top;\n",
       "    }\n",
       "\n",
       "    .dataframe thead th {\n",
       "        text-align: right;\n",
       "    }\n",
       "</style>\n",
       "<table border=\"1\" class=\"dataframe\">\n",
       "  <thead>\n",
       "    <tr style=\"text-align: right;\">\n",
       "      <th></th>\n",
       "      <th>Unnamed: 0.1</th>\n",
       "      <th>name</th>\n",
       "      <th>rating</th>\n",
       "      <th>ranking</th>\n",
       "      <th>year</th>\n",
       "      <th>position</th>\n",
       "      <th>height</th>\n",
       "      <th>weight</th>\n",
       "      <th>latitude</th>\n",
       "      <th>longitude</th>\n",
       "      <th>hometown_city</th>\n",
       "      <th>state_province</th>\n",
       "      <th>hometown_country</th>\n",
       "      <th>stars</th>\n",
       "      <th>committed_to</th>\n",
       "      <th>athlete_id</th>\n",
       "      <th>conference</th>\n",
       "      <th>latitude_school</th>\n",
       "      <th>longitude_school</th>\n",
       "      <th>wins_rolling_2year</th>\n",
       "      <th>games_played_rolling_2year</th>\n",
       "      <th>post_season_wins_rolling_2year</th>\n",
       "      <th>point_diff_rolling_2year</th>\n",
       "      <th>win_pct_rolling_2year</th>\n",
       "      <th>distance_miles</th>\n",
       "      <th>side_of_ball</th>\n",
       "      <th>position_group</th>\n",
       "      <th>DBSCAN_Cluster_PCA</th>\n",
       "      <th>SVD_KMeans_Cluster</th>\n",
       "      <th>KMeans_Cluster</th>\n",
       "      <th>dataset_type</th>\n",
       "      <th>Unnamed: 0</th>\n",
       "      <th>is_drafted</th>\n",
       "    </tr>\n",
       "  </thead>\n",
       "  <tbody>\n",
       "    <tr>\n",
       "      <th>0</th>\n",
       "      <td>361</td>\n",
       "      <td>C.J. Prosise</td>\n",
       "      <td>0.8915</td>\n",
       "      <td>365.0</td>\n",
       "      <td>2012</td>\n",
       "      <td>S</td>\n",
       "      <td>74.0</td>\n",
       "      <td>190.0</td>\n",
       "      <td>35.166812</td>\n",
       "      <td>-80.751458</td>\n",
       "      <td>Woodberry Forest</td>\n",
       "      <td>VA</td>\n",
       "      <td>USA</td>\n",
       "      <td>4</td>\n",
       "      <td>Notre Dame</td>\n",
       "      <td>535958.0</td>\n",
       "      <td>FBS Independents</td>\n",
       "      <td>41.698378</td>\n",
       "      <td>-86.233942</td>\n",
       "      <td>16.0</td>\n",
       "      <td>26.0</td>\n",
       "      <td>1.0</td>\n",
       "      <td>190.0</td>\n",
       "      <td>0.615385</td>\n",
       "      <td>539.828641</td>\n",
       "      <td>defense</td>\n",
       "      <td>d_backfield</td>\n",
       "      <td>0</td>\n",
       "      <td>1</td>\n",
       "      <td>2</td>\n",
       "      <td>train</td>\n",
       "      <td>361</td>\n",
       "      <td>1.0</td>\n",
       "    </tr>\n",
       "    <tr>\n",
       "      <th>1</th>\n",
       "      <td>14685</td>\n",
       "      <td>Jaylon Haynes</td>\n",
       "      <td>0.8166</td>\n",
       "      <td>1684.0</td>\n",
       "      <td>2017</td>\n",
       "      <td>DT</td>\n",
       "      <td>73.0</td>\n",
       "      <td>290.0</td>\n",
       "      <td>29.312480</td>\n",
       "      <td>-96.098238</td>\n",
       "      <td>Wharton</td>\n",
       "      <td>TX</td>\n",
       "      <td>USA</td>\n",
       "      <td>3</td>\n",
       "      <td>UTSA</td>\n",
       "      <td>4245215.0</td>\n",
       "      <td>American Athletic</td>\n",
       "      <td>29.416983</td>\n",
       "      <td>-98.478814</td>\n",
       "      <td>9.0</td>\n",
       "      <td>25.0</td>\n",
       "      <td>0.0</td>\n",
       "      <td>-118.0</td>\n",
       "      <td>0.360000</td>\n",
       "      <td>143.529399</td>\n",
       "      <td>defense</td>\n",
       "      <td>d_line</td>\n",
       "      <td>0</td>\n",
       "      <td>3</td>\n",
       "      <td>1</td>\n",
       "      <td>train</td>\n",
       "      <td>14685</td>\n",
       "      <td>0.0</td>\n",
       "    </tr>\n",
       "    <tr>\n",
       "      <th>2</th>\n",
       "      <td>15617</td>\n",
       "      <td>Nasser Clark</td>\n",
       "      <td>0.7667</td>\n",
       "      <td>3299.0</td>\n",
       "      <td>2017</td>\n",
       "      <td>RB</td>\n",
       "      <td>70.0</td>\n",
       "      <td>190.0</td>\n",
       "      <td>34.597245</td>\n",
       "      <td>-83.763306</td>\n",
       "      <td>Cleveland</td>\n",
       "      <td>GA</td>\n",
       "      <td>USA</td>\n",
       "      <td>2</td>\n",
       "      <td>Army</td>\n",
       "      <td>NaN</td>\n",
       "      <td>American Athletic</td>\n",
       "      <td>41.387492</td>\n",
       "      <td>-73.964089</td>\n",
       "      <td>10.0</td>\n",
       "      <td>25.0</td>\n",
       "      <td>1.0</td>\n",
       "      <td>62.0</td>\n",
       "      <td>0.400000</td>\n",
       "      <td>709.669019</td>\n",
       "      <td>offense</td>\n",
       "      <td>running_back</td>\n",
       "      <td>1</td>\n",
       "      <td>3</td>\n",
       "      <td>0</td>\n",
       "      <td>train</td>\n",
       "      <td>15617</td>\n",
       "      <td>0.0</td>\n",
       "    </tr>\n",
       "    <tr>\n",
       "      <th>3</th>\n",
       "      <td>3870</td>\n",
       "      <td>Courtney Miggins</td>\n",
       "      <td>0.8111</td>\n",
       "      <td>1568.0</td>\n",
       "      <td>2013</td>\n",
       "      <td>SDE</td>\n",
       "      <td>77.0</td>\n",
       "      <td>240.0</td>\n",
       "      <td>33.712331</td>\n",
       "      <td>-84.105194</td>\n",
       "      <td>Lithonia</td>\n",
       "      <td>GA</td>\n",
       "      <td>USA</td>\n",
       "      <td>3</td>\n",
       "      <td>Louisiana</td>\n",
       "      <td>NaN</td>\n",
       "      <td>Sun Belt</td>\n",
       "      <td>30.215843</td>\n",
       "      <td>-92.041737</td>\n",
       "      <td>18.0</td>\n",
       "      <td>26.0</td>\n",
       "      <td>2.0</td>\n",
       "      <td>128.0</td>\n",
       "      <td>0.692308</td>\n",
       "      <td>523.980272</td>\n",
       "      <td>defense</td>\n",
       "      <td>d_line</td>\n",
       "      <td>0</td>\n",
       "      <td>1</td>\n",
       "      <td>1</td>\n",
       "      <td>train</td>\n",
       "      <td>3870</td>\n",
       "      <td>0.0</td>\n",
       "    </tr>\n",
       "    <tr>\n",
       "      <th>4</th>\n",
       "      <td>20038</td>\n",
       "      <td>Zaylin Wood</td>\n",
       "      <td>0.8383</td>\n",
       "      <td>1429.0</td>\n",
       "      <td>2019</td>\n",
       "      <td>SDE</td>\n",
       "      <td>74.0</td>\n",
       "      <td>262.0</td>\n",
       "      <td>33.537889</td>\n",
       "      <td>-85.253282</td>\n",
       "      <td>Bowdon</td>\n",
       "      <td>GA</td>\n",
       "      <td>USA</td>\n",
       "      <td>3</td>\n",
       "      <td>Middle Tennessee</td>\n",
       "      <td>4428925.0</td>\n",
       "      <td>Conference USA</td>\n",
       "      <td>35.851146</td>\n",
       "      <td>-86.368165</td>\n",
       "      <td>15.0</td>\n",
       "      <td>27.0</td>\n",
       "      <td>1.0</td>\n",
       "      <td>29.0</td>\n",
       "      <td>0.555556</td>\n",
       "      <td>171.919819</td>\n",
       "      <td>defense</td>\n",
       "      <td>d_line</td>\n",
       "      <td>0</td>\n",
       "      <td>1</td>\n",
       "      <td>1</td>\n",
       "      <td>train</td>\n",
       "      <td>20038</td>\n",
       "      <td>0.0</td>\n",
       "    </tr>\n",
       "  </tbody>\n",
       "</table>\n",
       "</div>"
      ],
      "text/plain": [
       "   Unnamed: 0.1              name  rating  ranking  year position  height  \\\n",
       "0           361      C.J. Prosise  0.8915    365.0  2012        S    74.0   \n",
       "1         14685     Jaylon Haynes  0.8166   1684.0  2017       DT    73.0   \n",
       "2         15617      Nasser Clark  0.7667   3299.0  2017       RB    70.0   \n",
       "3          3870  Courtney Miggins  0.8111   1568.0  2013      SDE    77.0   \n",
       "4         20038       Zaylin Wood  0.8383   1429.0  2019      SDE    74.0   \n",
       "\n",
       "   weight   latitude  longitude     hometown_city state_province  \\\n",
       "0   190.0  35.166812 -80.751458  Woodberry Forest             VA   \n",
       "1   290.0  29.312480 -96.098238           Wharton             TX   \n",
       "2   190.0  34.597245 -83.763306         Cleveland             GA   \n",
       "3   240.0  33.712331 -84.105194          Lithonia             GA   \n",
       "4   262.0  33.537889 -85.253282            Bowdon             GA   \n",
       "\n",
       "  hometown_country  stars      committed_to  athlete_id         conference  \\\n",
       "0              USA      4        Notre Dame    535958.0   FBS Independents   \n",
       "1              USA      3              UTSA   4245215.0  American Athletic   \n",
       "2              USA      2              Army         NaN  American Athletic   \n",
       "3              USA      3         Louisiana         NaN           Sun Belt   \n",
       "4              USA      3  Middle Tennessee   4428925.0     Conference USA   \n",
       "\n",
       "   latitude_school  longitude_school  wins_rolling_2year  \\\n",
       "0        41.698378        -86.233942                16.0   \n",
       "1        29.416983        -98.478814                 9.0   \n",
       "2        41.387492        -73.964089                10.0   \n",
       "3        30.215843        -92.041737                18.0   \n",
       "4        35.851146        -86.368165                15.0   \n",
       "\n",
       "   games_played_rolling_2year  post_season_wins_rolling_2year  \\\n",
       "0                        26.0                             1.0   \n",
       "1                        25.0                             0.0   \n",
       "2                        25.0                             1.0   \n",
       "3                        26.0                             2.0   \n",
       "4                        27.0                             1.0   \n",
       "\n",
       "   point_diff_rolling_2year  win_pct_rolling_2year  distance_miles  \\\n",
       "0                     190.0               0.615385      539.828641   \n",
       "1                    -118.0               0.360000      143.529399   \n",
       "2                      62.0               0.400000      709.669019   \n",
       "3                     128.0               0.692308      523.980272   \n",
       "4                      29.0               0.555556      171.919819   \n",
       "\n",
       "  side_of_ball position_group DBSCAN_Cluster_PCA SVD_KMeans_Cluster  \\\n",
       "0      defense    d_backfield                  0                  1   \n",
       "1      defense         d_line                  0                  3   \n",
       "2      offense   running_back                  1                  3   \n",
       "3      defense         d_line                  0                  1   \n",
       "4      defense         d_line                  0                  1   \n",
       "\n",
       "  KMeans_Cluster dataset_type  Unnamed: 0  is_drafted  \n",
       "0              2        train         361         1.0  \n",
       "1              1        train       14685         0.0  \n",
       "2              0        train       15617         0.0  \n",
       "3              1        train        3870         0.0  \n",
       "4              1        train       20038         0.0  "
      ]
     },
     "execution_count": 8,
     "metadata": {},
     "output_type": "execute_result"
    }
   ],
   "source": [
    "combined_df.head() "
   ]
  },
  {
   "cell_type": "code",
   "execution_count": 9,
   "metadata": {},
   "outputs": [
    {
     "data": {
      "text/html": [
       "<div>\n",
       "<style scoped>\n",
       "    .dataframe tbody tr th:only-of-type {\n",
       "        vertical-align: middle;\n",
       "    }\n",
       "\n",
       "    .dataframe tbody tr th {\n",
       "        vertical-align: top;\n",
       "    }\n",
       "\n",
       "    .dataframe thead th {\n",
       "        text-align: right;\n",
       "    }\n",
       "</style>\n",
       "<table border=\"1\" class=\"dataframe\">\n",
       "  <thead>\n",
       "    <tr style=\"text-align: right;\">\n",
       "      <th></th>\n",
       "      <th>Unnamed: 0.1</th>\n",
       "      <th>name</th>\n",
       "      <th>rating</th>\n",
       "      <th>ranking</th>\n",
       "      <th>year</th>\n",
       "      <th>position</th>\n",
       "      <th>height</th>\n",
       "      <th>weight</th>\n",
       "      <th>latitude</th>\n",
       "      <th>longitude</th>\n",
       "      <th>hometown_city</th>\n",
       "      <th>state_province</th>\n",
       "      <th>hometown_country</th>\n",
       "      <th>stars</th>\n",
       "      <th>committed_to</th>\n",
       "      <th>athlete_id</th>\n",
       "      <th>conference</th>\n",
       "      <th>latitude_school</th>\n",
       "      <th>longitude_school</th>\n",
       "      <th>wins_rolling_2year</th>\n",
       "      <th>games_played_rolling_2year</th>\n",
       "      <th>post_season_wins_rolling_2year</th>\n",
       "      <th>point_diff_rolling_2year</th>\n",
       "      <th>win_pct_rolling_2year</th>\n",
       "      <th>distance_miles</th>\n",
       "      <th>side_of_ball</th>\n",
       "      <th>position_group</th>\n",
       "      <th>DBSCAN_Cluster_PCA</th>\n",
       "      <th>SVD_KMeans_Cluster</th>\n",
       "      <th>KMeans_Cluster</th>\n",
       "      <th>dataset_type</th>\n",
       "      <th>Unnamed: 0</th>\n",
       "      <th>is_drafted</th>\n",
       "    </tr>\n",
       "  </thead>\n",
       "  <tbody>\n",
       "    <tr>\n",
       "      <th>0</th>\n",
       "      <td>361</td>\n",
       "      <td>C.J. Prosise</td>\n",
       "      <td>0.8915</td>\n",
       "      <td>365.0</td>\n",
       "      <td>2012</td>\n",
       "      <td>S</td>\n",
       "      <td>74.0</td>\n",
       "      <td>190.0</td>\n",
       "      <td>35.166812</td>\n",
       "      <td>-80.751458</td>\n",
       "      <td>Woodberry Forest</td>\n",
       "      <td>VA</td>\n",
       "      <td>USA</td>\n",
       "      <td>4</td>\n",
       "      <td>Notre Dame</td>\n",
       "      <td>535958.0</td>\n",
       "      <td>FBS Independents</td>\n",
       "      <td>41.698378</td>\n",
       "      <td>-86.233942</td>\n",
       "      <td>16.0</td>\n",
       "      <td>26.0</td>\n",
       "      <td>1.0</td>\n",
       "      <td>190.0</td>\n",
       "      <td>0.615385</td>\n",
       "      <td>539.828641</td>\n",
       "      <td>defense</td>\n",
       "      <td>d_backfield</td>\n",
       "      <td>0</td>\n",
       "      <td>1</td>\n",
       "      <td>2</td>\n",
       "      <td>train</td>\n",
       "      <td>361</td>\n",
       "      <td>1.0</td>\n",
       "    </tr>\n",
       "    <tr>\n",
       "      <th>1</th>\n",
       "      <td>14685</td>\n",
       "      <td>Jaylon Haynes</td>\n",
       "      <td>0.8166</td>\n",
       "      <td>1684.0</td>\n",
       "      <td>2017</td>\n",
       "      <td>DT</td>\n",
       "      <td>73.0</td>\n",
       "      <td>290.0</td>\n",
       "      <td>29.312480</td>\n",
       "      <td>-96.098238</td>\n",
       "      <td>Wharton</td>\n",
       "      <td>TX</td>\n",
       "      <td>USA</td>\n",
       "      <td>3</td>\n",
       "      <td>UTSA</td>\n",
       "      <td>4245215.0</td>\n",
       "      <td>American Athletic</td>\n",
       "      <td>29.416983</td>\n",
       "      <td>-98.478814</td>\n",
       "      <td>9.0</td>\n",
       "      <td>25.0</td>\n",
       "      <td>0.0</td>\n",
       "      <td>-118.0</td>\n",
       "      <td>0.360000</td>\n",
       "      <td>143.529399</td>\n",
       "      <td>defense</td>\n",
       "      <td>d_line</td>\n",
       "      <td>0</td>\n",
       "      <td>3</td>\n",
       "      <td>1</td>\n",
       "      <td>train</td>\n",
       "      <td>14685</td>\n",
       "      <td>0.0</td>\n",
       "    </tr>\n",
       "    <tr>\n",
       "      <th>2</th>\n",
       "      <td>15617</td>\n",
       "      <td>Nasser Clark</td>\n",
       "      <td>0.7667</td>\n",
       "      <td>3299.0</td>\n",
       "      <td>2017</td>\n",
       "      <td>RB</td>\n",
       "      <td>70.0</td>\n",
       "      <td>190.0</td>\n",
       "      <td>34.597245</td>\n",
       "      <td>-83.763306</td>\n",
       "      <td>Cleveland</td>\n",
       "      <td>GA</td>\n",
       "      <td>USA</td>\n",
       "      <td>2</td>\n",
       "      <td>Army</td>\n",
       "      <td>NaN</td>\n",
       "      <td>American Athletic</td>\n",
       "      <td>41.387492</td>\n",
       "      <td>-73.964089</td>\n",
       "      <td>10.0</td>\n",
       "      <td>25.0</td>\n",
       "      <td>1.0</td>\n",
       "      <td>62.0</td>\n",
       "      <td>0.400000</td>\n",
       "      <td>709.669019</td>\n",
       "      <td>offense</td>\n",
       "      <td>running_back</td>\n",
       "      <td>1</td>\n",
       "      <td>3</td>\n",
       "      <td>0</td>\n",
       "      <td>train</td>\n",
       "      <td>15617</td>\n",
       "      <td>0.0</td>\n",
       "    </tr>\n",
       "    <tr>\n",
       "      <th>3</th>\n",
       "      <td>3870</td>\n",
       "      <td>Courtney Miggins</td>\n",
       "      <td>0.8111</td>\n",
       "      <td>1568.0</td>\n",
       "      <td>2013</td>\n",
       "      <td>SDE</td>\n",
       "      <td>77.0</td>\n",
       "      <td>240.0</td>\n",
       "      <td>33.712331</td>\n",
       "      <td>-84.105194</td>\n",
       "      <td>Lithonia</td>\n",
       "      <td>GA</td>\n",
       "      <td>USA</td>\n",
       "      <td>3</td>\n",
       "      <td>Louisiana</td>\n",
       "      <td>NaN</td>\n",
       "      <td>Sun Belt</td>\n",
       "      <td>30.215843</td>\n",
       "      <td>-92.041737</td>\n",
       "      <td>18.0</td>\n",
       "      <td>26.0</td>\n",
       "      <td>2.0</td>\n",
       "      <td>128.0</td>\n",
       "      <td>0.692308</td>\n",
       "      <td>523.980272</td>\n",
       "      <td>defense</td>\n",
       "      <td>d_line</td>\n",
       "      <td>0</td>\n",
       "      <td>1</td>\n",
       "      <td>1</td>\n",
       "      <td>train</td>\n",
       "      <td>3870</td>\n",
       "      <td>0.0</td>\n",
       "    </tr>\n",
       "    <tr>\n",
       "      <th>4</th>\n",
       "      <td>20038</td>\n",
       "      <td>Zaylin Wood</td>\n",
       "      <td>0.8383</td>\n",
       "      <td>1429.0</td>\n",
       "      <td>2019</td>\n",
       "      <td>SDE</td>\n",
       "      <td>74.0</td>\n",
       "      <td>262.0</td>\n",
       "      <td>33.537889</td>\n",
       "      <td>-85.253282</td>\n",
       "      <td>Bowdon</td>\n",
       "      <td>GA</td>\n",
       "      <td>USA</td>\n",
       "      <td>3</td>\n",
       "      <td>Middle Tennessee</td>\n",
       "      <td>4428925.0</td>\n",
       "      <td>Conference USA</td>\n",
       "      <td>35.851146</td>\n",
       "      <td>-86.368165</td>\n",
       "      <td>15.0</td>\n",
       "      <td>27.0</td>\n",
       "      <td>1.0</td>\n",
       "      <td>29.0</td>\n",
       "      <td>0.555556</td>\n",
       "      <td>171.919819</td>\n",
       "      <td>defense</td>\n",
       "      <td>d_line</td>\n",
       "      <td>0</td>\n",
       "      <td>1</td>\n",
       "      <td>1</td>\n",
       "      <td>train</td>\n",
       "      <td>20038</td>\n",
       "      <td>0.0</td>\n",
       "    </tr>\n",
       "  </tbody>\n",
       "</table>\n",
       "</div>"
      ],
      "text/plain": [
       "   Unnamed: 0.1              name  rating  ranking  year position  height  \\\n",
       "0           361      C.J. Prosise  0.8915    365.0  2012        S    74.0   \n",
       "1         14685     Jaylon Haynes  0.8166   1684.0  2017       DT    73.0   \n",
       "2         15617      Nasser Clark  0.7667   3299.0  2017       RB    70.0   \n",
       "3          3870  Courtney Miggins  0.8111   1568.0  2013      SDE    77.0   \n",
       "4         20038       Zaylin Wood  0.8383   1429.0  2019      SDE    74.0   \n",
       "\n",
       "   weight   latitude  longitude     hometown_city state_province  \\\n",
       "0   190.0  35.166812 -80.751458  Woodberry Forest             VA   \n",
       "1   290.0  29.312480 -96.098238           Wharton             TX   \n",
       "2   190.0  34.597245 -83.763306         Cleveland             GA   \n",
       "3   240.0  33.712331 -84.105194          Lithonia             GA   \n",
       "4   262.0  33.537889 -85.253282            Bowdon             GA   \n",
       "\n",
       "  hometown_country  stars      committed_to  athlete_id         conference  \\\n",
       "0              USA      4        Notre Dame    535958.0   FBS Independents   \n",
       "1              USA      3              UTSA   4245215.0  American Athletic   \n",
       "2              USA      2              Army         NaN  American Athletic   \n",
       "3              USA      3         Louisiana         NaN           Sun Belt   \n",
       "4              USA      3  Middle Tennessee   4428925.0     Conference USA   \n",
       "\n",
       "   latitude_school  longitude_school  wins_rolling_2year  \\\n",
       "0        41.698378        -86.233942                16.0   \n",
       "1        29.416983        -98.478814                 9.0   \n",
       "2        41.387492        -73.964089                10.0   \n",
       "3        30.215843        -92.041737                18.0   \n",
       "4        35.851146        -86.368165                15.0   \n",
       "\n",
       "   games_played_rolling_2year  post_season_wins_rolling_2year  \\\n",
       "0                        26.0                             1.0   \n",
       "1                        25.0                             0.0   \n",
       "2                        25.0                             1.0   \n",
       "3                        26.0                             2.0   \n",
       "4                        27.0                             1.0   \n",
       "\n",
       "   point_diff_rolling_2year  win_pct_rolling_2year  distance_miles  \\\n",
       "0                     190.0               0.615385      539.828641   \n",
       "1                    -118.0               0.360000      143.529399   \n",
       "2                      62.0               0.400000      709.669019   \n",
       "3                     128.0               0.692308      523.980272   \n",
       "4                      29.0               0.555556      171.919819   \n",
       "\n",
       "  side_of_ball position_group DBSCAN_Cluster_PCA SVD_KMeans_Cluster  \\\n",
       "0      defense    d_backfield                  0                  1   \n",
       "1      defense         d_line                  0                  3   \n",
       "2      offense   running_back                  1                  3   \n",
       "3      defense         d_line                  0                  1   \n",
       "4      defense         d_line                  0                  1   \n",
       "\n",
       "  KMeans_Cluster dataset_type  Unnamed: 0  is_drafted  \n",
       "0              2        train         361         1.0  \n",
       "1              1        train       14685         0.0  \n",
       "2              0        train       15617         0.0  \n",
       "3              1        train        3870         0.0  \n",
       "4              1        train       20038         0.0  "
      ]
     },
     "execution_count": 9,
     "metadata": {},
     "output_type": "execute_result"
    }
   ],
   "source": [
    "train_df.head() "
   ]
  },
  {
   "cell_type": "code",
   "execution_count": 10,
   "metadata": {},
   "outputs": [
    {
     "name": "stdout",
     "output_type": "stream",
     "text": [
      "Training Conversion Rate:  8.62 %\n",
      "Testing Conversion Rate:  8.24 %\n"
     ]
    }
   ],
   "source": [
    "# Display the Target rates of the training and testing datast \n",
    "print('Training Conversion Rate: ', round(train_df['is_drafted'].mean(),4)* 100.0, '%')\n",
    "print('Testing Conversion Rate: ', round(test_df['is_drafted'].mean(),4) * 100.0, '%')\n",
    "\n"
   ]
  },
  {
   "cell_type": "code",
   "execution_count": 11,
   "metadata": {},
   "outputs": [],
   "source": [
    "numerical_features = ['rating', 'ranking', 'height', 'weight', 'distance_miles', 'stars', 'games_played_rolling_2year','win_pct_rolling_2year']\n",
    "\n",
    "# numerical_features = ['games_played_rolling_2year']\n",
    "clusters = ['KMeans_Cluster', 'SVD_KMeans_Cluster', 'DBSCAN_Cluster_PCA']\n",
    "categorical_features = ['position_group',  'state_province', 'side_of_ball']\n",
    "\n",
    "\n",
    "features = numerical_features+clusters+categorical_features\n",
    "target = ['is_drafted']\n"
   ]
  },
  {
   "cell_type": "markdown",
   "metadata": {},
   "source": [
    "## Pre-process the data"
   ]
  },
  {
   "cell_type": "code",
   "execution_count": 12,
   "metadata": {},
   "outputs": [],
   "source": [
    "from sklearn.compose import ColumnTransformer\n",
    "from sklearn.preprocessing import StandardScaler, OneHotEncoder\n",
    "\n",
    "# Transformer\n",
    "preprocessor = ColumnTransformer(\n",
    "    transformers=[\n",
    "        ('num', StandardScaler(), numerical_features),\n",
    "        ('cat', OneHotEncoder(handle_unknown='ignore'), categorical_features+clusters)\n",
    "    ])"
   ]
  },
  {
   "cell_type": "markdown",
   "metadata": {},
   "source": [
    "## Prepare the data"
   ]
  },
  {
   "cell_type": "code",
   "execution_count": 13,
   "metadata": {},
   "outputs": [],
   "source": [
    "# Separate features and target in the balanced dataset\n",
    "X = train_df[features]\n",
    "y = train_df[target]\n"
   ]
  },
  {
   "cell_type": "code",
   "execution_count": 14,
   "metadata": {},
   "outputs": [],
   "source": [
    "# Pre-process the train and test datasets\n",
    "X_train = preprocessor.fit_transform(X)\n",
    "\n",
    "X_test = test_df[features]\n",
    "X_test_processed = preprocessor.transform(X_test)\n"
   ]
  },
  {
   "cell_type": "code",
   "execution_count": 15,
   "metadata": {},
   "outputs": [],
   "source": [
    "# Get the target variables\n",
    "y_train = y\n",
    "y_test = test_df[['is_drafted']]"
   ]
  },
  {
   "cell_type": "markdown",
   "metadata": {},
   "source": [
    "### Hyperparameter Tuning"
   ]
  },
  {
   "cell_type": "code",
   "execution_count": 16,
   "metadata": {},
   "outputs": [],
   "source": [
    "# !pip install scikit-optimize\n"
   ]
  },
  {
   "cell_type": "code",
   "execution_count": 17,
   "metadata": {},
   "outputs": [],
   "source": [
    "# from skopt import BayesSearchCV\n",
    "# from sklearn.svm import SVC\n",
    "# from skopt.space import Real, Categorical, Integer\n",
    "\n",
    "# # Define the search space\n",
    "# search_space = {\n",
    "#     'kernel': Categorical(['linear', 'poly', 'rbf', 'sigmoid']),\n",
    "#     'C': Real(1e-3, 1e3, prior='log-uniform'),  # Log-uniform for scaling\n",
    "#     'gamma': Real(1e-3, 1e1, prior='log-uniform'),  # Only used for 'rbf', 'poly', and 'sigmoid' kernels\n",
    "#     'degree': Integer(2, 5)  # Only relevant for 'poly' kernel\n",
    "# }\n",
    "\n",
    "# # Initialize the SVC model\n",
    "# svm_model = SVC(class_weight='balanced', random_state=42)\n",
    "\n",
    "# # Bayesian optimization with 5-fold cross-validation\n",
    "# opt = BayesSearchCV(estimator=svm_model, search_spaces=search_space, \n",
    "#                     scoring='f1', n_iter=30, cv=5, n_jobs=-1, random_state=42)\n",
    "\n",
    "# # Fit the optimizer to the training data\n",
    "# opt.fit(X_train, y_train)\n",
    "\n",
    "# # Get the best parameters and score\n",
    "# best_params = opt.best_params_\n",
    "# best_score = opt.best_score_\n",
    "\n",
    "# clear_output()\n",
    "# print(\"Best hyperparameters:\", best_params)\n",
    "# print(f\"Best cross-validated F1 score: {best_score:.4f}\")\n"
   ]
  },
  {
   "cell_type": "code",
   "execution_count": 18,
   "metadata": {},
   "outputs": [],
   "source": [
    "# from sklearn.model_selection import GridSearchCV\n",
    "# from sklearn.svm import SVC\n",
    "\n",
    "# # Define hyperparameter grid\n",
    "# param_grid = {\n",
    "#     'kernel': ['linear', 'poly', 'rbf', 'sigmoid'],\n",
    "#     'C': [0.1, 1],  # Regularization parameter\n",
    "#     'gamma': ['scale', 'auto', 0.001],  # Kernel coefficient for non-linear kernels\n",
    "#     'degree': [2, 3]  # Degree for 'poly' kernel\n",
    "# }\n",
    "\n",
    "# # Initialize SVC with class weight balancing\n",
    "# svm_model = SVC(class_weight='balanced', random_state=42)\n",
    "\n",
    "# # Perform grid search with 5-fold cross-validation\n",
    "# grid_search = GridSearchCV(estimator=svm_model, param_grid=param_grid, \n",
    "#                            scoring='f1', cv=5, verbose=2, n_jobs=-1)\n",
    "\n",
    "# # Fit grid search to training data\n",
    "# grid_search.fit(X_train, y_train)\n",
    "\n",
    "# # Get the best parameters and score\n",
    "# best_params = grid_search.best_params_\n",
    "# best_score = grid_search.best_score_\n",
    "\n",
    "# clear_output() \n",
    "\n",
    "# print(\"Best hyperparameters:\", best_params)\n",
    "# print(f\"Best cross-validated F1 score: {best_score:.4f}\")\n",
    "\n",
    "# # Optional: Extract all the results\n",
    "# cv_results = grid_search.cv_results_\n",
    "# results_df = pd.DataFrame(cv_results)\n",
    "\n",
    "# # Display the results\n",
    "# results_df = results_df[['params', 'mean_test_score', 'rank_test_score']].sort_values(by='rank_test_score')\n",
    "# print(\"All cross-validation results:\")\n",
    "# print(results_df)\n",
    "\n"
   ]
  },
  {
   "cell_type": "markdown",
   "metadata": {},
   "source": [
    "## Best Model\n"
   ]
  },
  {
   "cell_type": "code",
   "execution_count": 19,
   "metadata": {},
   "outputs": [],
   "source": [
    "# Initialize the SVM model with the kernel of your choice (linear, poly, rbf etc.)\n",
    "svm_model = SVC(kernel='linear', class_weight='balanced', random_state=42)"
   ]
  },
  {
   "cell_type": "code",
   "execution_count": 20,
   "metadata": {},
   "outputs": [
    {
     "name": "stderr",
     "output_type": "stream",
     "text": [
      "/Users/andreeaserban/anaconda3/envs/MilestoneI/lib/python3.11/site-packages/sklearn/utils/validation.py:1339: DataConversionWarning: A column-vector y was passed when a 1d array was expected. Please change the shape of y to (n_samples, ), for example using ravel().\n",
      "  y = column_or_1d(y, warn=True)\n"
     ]
    }
   ],
   "source": [
    "\n",
    "# Train the model\n",
    "svm_model.fit(X_train, y_train)\n",
    "\n",
    "# Make predictions\n",
    "y_pred = svm_model.predict(X_test_processed)"
   ]
  },
  {
   "cell_type": "code",
   "execution_count": 21,
   "metadata": {},
   "outputs": [],
   "source": [
    "# ## Create a Model Pipeline\n",
    "# from sklearn.pipeline import Pipeline\n",
    "\n",
    "# model_pipeline = Pipeline(steps=[('preprocessor', preprocessor),\n",
    "#                                  ('model', svm_model)])\n"
   ]
  },
  {
   "cell_type": "code",
   "execution_count": 22,
   "metadata": {},
   "outputs": [],
   "source": [
    "# preprocessor = model_pipeline['preprocessor']\n",
    "# svm_model = model_pipeline['model']\n"
   ]
  },
  {
   "cell_type": "code",
   "execution_count": null,
   "metadata": {},
   "outputs": [],
   "source": []
  },
  {
   "cell_type": "markdown",
   "metadata": {},
   "source": [
    "## Model Performance \n",
    "\n",
    "Calculate/Visualize the following: \n",
    "- F1- Score (Cross val mean and std)\n",
    "- Confusion Matrix \n",
    "- Feature Importance"
   ]
  },
  {
   "cell_type": "code",
   "execution_count": 24,
   "metadata": {},
   "outputs": [],
   "source": [
    "import evaluate_model as em "
   ]
  },
  {
   "cell_type": "code",
   "execution_count": 25,
   "metadata": {},
   "outputs": [
    {
     "data": {
      "text/plain": [
       "np.float64(0.834920634920635)"
      ]
     },
     "execution_count": 25,
     "metadata": {},
     "output_type": "execute_result"
    }
   ],
   "source": [
    "em.calculate_f1_score(y_test , y_pred)"
   ]
  },
  {
   "cell_type": "code",
   "execution_count": 26,
   "metadata": {},
   "outputs": [
    {
     "data": {
      "text/plain": [
       "np.float64(0.834920634920635)"
      ]
     },
     "execution_count": 26,
     "metadata": {},
     "output_type": "execute_result"
    }
   ],
   "source": [
    "em.calculate_f1_score(y_test , y_pred)"
   ]
  },
  {
   "cell_type": "code",
   "execution_count": 27,
   "metadata": {},
   "outputs": [
    {
     "data": {
      "image/png": "[encoded data removed]",
      "text/plain": [
       "<Figure size 1000x700 with 2 Axes>"
      ]
     },
     "metadata": {},
     "output_type": "display_data"
    },
    {
     "data": {
      "text/plain": [
       "array([[4797,  695],\n",
       "       [ 293,  200]])"
      ]
     },
     "execution_count": 27,
     "metadata": {},
     "output_type": "execute_result"
    }
   ],
   "source": [
    "em.create_confusion_matrix(y_test, y_pred)"
   ]
  },
  {
   "cell_type": "code",
   "execution_count": 38,
   "metadata": {},
   "outputs": [
    {
     "name": "stdout",
     "output_type": "stream",
     "text": [
      "The autoreload extension is already loaded. To reload it, use:\n",
      "  %reload_ext autoreload\n"
     ]
    }
   ],
   "source": [
    "%load_ext autoreload\n",
    "%autoreload 2"
   ]
  },
  {
   "cell_type": "code",
   "execution_count": 39,
   "metadata": {},
   "outputs": [],
   "source": [
    "%reload_ext autoreload"
   ]
  },
  {
   "cell_type": "code",
   "execution_count": 42,
   "metadata": {},
   "outputs": [
    {
     "name": "stderr",
     "output_type": "stream",
     "text": [
      "/Users/andreeaserban/anaconda3/envs/MilestoneI/lib/python3.11/site-packages/sklearn/utils/validation.py:1339: DataConversionWarning: A column-vector y was passed when a 1d array was expected. Please change the shape of y to (n_samples, ), for example using ravel().\n",
      "  y = column_or_1d(y, warn=True)\n",
      "/Users/andreeaserban/anaconda3/envs/MilestoneI/lib/python3.11/site-packages/sklearn/utils/validation.py:1339: DataConversionWarning: A column-vector y was passed when a 1d array was expected. Please change the shape of y to (n_samples, ), for example using ravel().\n",
      "  y = column_or_1d(y, warn=True)\n",
      "/Users/andreeaserban/anaconda3/envs/MilestoneI/lib/python3.11/site-packages/sklearn/utils/validation.py:1339: DataConversionWarning: A column-vector y was passed when a 1d array was expected. Please change the shape of y to (n_samples, ), for example using ravel().\n",
      "  y = column_or_1d(y, warn=True)\n",
      "/Users/andreeaserban/anaconda3/envs/MilestoneI/lib/python3.11/site-packages/sklearn/utils/validation.py:1339: DataConversionWarning: A column-vector y was passed when a 1d array was expected. Please change the shape of y to (n_samples, ), for example using ravel().\n",
      "  y = column_or_1d(y, warn=True)\n",
      "/Users/andreeaserban/anaconda3/envs/MilestoneI/lib/python3.11/site-packages/sklearn/utils/validation.py:1339: DataConversionWarning: A column-vector y was passed when a 1d array was expected. Please change the shape of y to (n_samples, ), for example using ravel().\n",
      "  y = column_or_1d(y, warn=True)\n"
     ]
    }
   ],
   "source": [
    "model_scores, model_scores_mean, model_scores_std = em.evaluate_cross_val_score(svm_model, X_test_processed, y_test)"
   ]
  },
  {
   "cell_type": "code",
   "execution_count": 43,
   "metadata": {},
   "outputs": [
    {
     "name": "stdout",
     "output_type": "stream",
     "text": [
      "0.7092731829573935\n",
      "0.007049297613944523\n"
     ]
    }
   ],
   "source": [
    "print(model_scores_mean )\n",
    "print(model_scores_std )"
   ]
  },
  {
   "cell_type": "code",
   "execution_count": 26,
   "metadata": {},
   "outputs": [],
   "source": [
    "# # Calculate accuracy\n",
    "# # accuracy = accuracy_score(y_test, y_pred)\n",
    "# # # confusion matrix\n",
    "# conf_matrix = confusion_matrix(y_test, y_pred)\n",
    "# # # classification report\n",
    "# # class_report = classification_report(y_test, y_pred)\n",
    "# # f1 scoore\n",
    "# f1scores  = f1_score(y_test, y_pred, average='weighted') # You can change 'weighted' to 'micro' or 'macro' based on your needs\n",
    "# # type(y_pred)\n",
    "# # precision score \n",
    "# # prec_score = precision_score(y_test, y_pred)\n",
    "\n",
    "# # print(f'Accuracy: {accuracy}')\n",
    "# # print(f'Confusion Matrix:\\n{conf_matrix}')\n",
    "# # print(f'Classification Report:\\n{class_report}')\n",
    "# # print(f'F1 Score: {f1_score}')\n",
    "# # print(f'Precision Score: {prec_score}')\n",
    "\n"
   ]
  },
  {
   "cell_type": "code",
   "execution_count": 27,
   "metadata": {},
   "outputs": [],
   "source": [
    "# import matplotlib.pyplot as plt\n",
    "# import seaborn as sns \n",
    "# # Plot the Confusion Matrix\n",
    "# plt.figure(figsize=(10,7))\n",
    "# sns.heatmap(conf_matrix, annot=True, fmt='d', cmap='Blues', xticklabels=np.unique(y), yticklabels=np.unique(y))\n",
    "# plt.xlabel('Predicted Labels')\n",
    "# plt.ylabel('True Labels')\n",
    "# plt.title('Confusion Matrix')\n",
    "# plt.show()\n"
   ]
  },
  {
   "cell_type": "code",
   "execution_count": 28,
   "metadata": {},
   "outputs": [],
   "source": [
    "## Evaluate the model "
   ]
  },
  {
   "cell_type": "code",
   "execution_count": 31,
   "metadata": {},
   "outputs": [],
   "source": [
    "# svm_model"
   ]
  },
  {
   "cell_type": "code",
   "execution_count": 32,
   "metadata": {},
   "outputs": [],
   "source": [
    "# from sklearn.inspection import permutation_importance\n",
    "\n",
    "# # Calculate permutation importance\n",
    "# perm_importance = permutation_importance(svm_model, X_test_processed.toarray(), y_test, n_repeats=30, random_state=42)\n"
   ]
  },
  {
   "cell_type": "code",
   "execution_count": 33,
   "metadata": {},
   "outputs": [],
   "source": [
    "\n",
    "# # Create a DataFrame for better visualization\n",
    "# importance_df = pd.DataFrame({'Feature': preprocessor.get_feature_names_out(), 'Importance': perm_importance.importances_mean})\n",
    "\n",
    "# # Sort the DataFrame by importance\n",
    "# importance_df = importance_df.sort_values(by='Importance', ascending=False)\n",
    "\n",
    "# print(importance_df)\n",
    "\n",
    "# # Plot the feature importances\n",
    "# plt.figure(figsize=(10, 6))\n",
    "# plt.barh(importance_df['Feature'], importance_df['Importance'])\n",
    "# plt.xlabel('Importance')\n",
    "# plt.ylabel('Feature')\n",
    "# plt.title('Permutation Feature Importances from SVM')\n",
    "# plt.show()"
   ]
  },
  {
   "cell_type": "code",
   "execution_count": null,
   "metadata": {},
   "outputs": [],
   "source": []
  },
  {
   "cell_type": "code",
   "execution_count": null,
   "metadata": {},
   "outputs": [],
   "source": []
  },
  {
   "cell_type": "code",
   "execution_count": null,
   "metadata": {},
   "outputs": [],
   "source": []
  }
 ],
 "metadata": {
  "kernelspec": {
   "display_name": "Python 3",
   "language": "python",
   "name": "python3"
  },
  "language_info": {
   "codemirror_mode": {
    "name": "ipython",
    "version": 3
   },
   "file_extension": ".py",
   "mimetype": "text/x-python",
   "name": "python",
   "nbconvert_exporter": "python",
   "pygments_lexer": "ipython3",
   "version": "3.11.7"
  }
 },
 "nbformat": 4,
 "nbformat_minor": 2
}
