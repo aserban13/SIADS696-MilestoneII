{
 "cells": [
  {
   "cell_type": "code",
   "execution_count": 3,
   "id": "62ad71b7-80a8-4809-9fa1-36211f05dde1",
   "metadata": {},
   "outputs": [],
   "source": [
    "from sklearn.metrics import confusion_matrix, make_scorer, f1_score\n",
    "from sklearn.model_selection import cross_val_score\n",
    "from sklearn.inspection import permutation_importance\n",
    "import matplotlib.pyplot as plt\n",
    "import seaborn as sns \n",
    "import pandas as pd\n",
    "import numpy as np\n",
    "import joblib\n",
    "\n",
    "def evaluate_cross_val_score(model_object, X_test_processed, y_test): \n",
    "    \"\"\"\n",
    "    Caluclate the cross validation score mean for this model \n",
    "\n",
    "    model: The model with the approproate parameters (after hypyerparmaeter tuned)\n",
    "    X: The whole pre-processed dataset with the features \n",
    "    y: The whoole datasets target variable \n",
    "    \"\"\"\n",
    "\n",
    "    model_scores = cross_val_score(model_object, X_test_processed, y_test, cv=5, scoring='f1_micro')\n",
    "\n",
    "    return (model_scores, model_scores.mean(), model_scores.std()) "
   ]
  },
  {
   "cell_type": "code",
   "execution_count": 6,
   "id": "a179759b-fac7-4374-8e2d-f4395d560059",
   "metadata": {},
   "outputs": [],
   "source": [
    "# load model object\n",
    "model = joblib.load('random_forest.joblib')\n",
    "\n",
    "# Load training set\n",
    "root_directory = '../../../data/train_test_split/'\n",
    "\n",
    "X_test_transformed = pd.read_csv(root_directory+'x_test_rf.csv')\n",
    "y_test = pd.read_csv(root_directory+'y_test.csv')['is_drafted']"
   ]
  },
  {
   "cell_type": "code",
   "execution_count": 7,
   "id": "265c0191-346f-4468-9dab-f7b973e0a44a",
   "metadata": {},
   "outputs": [
    {
     "data": {
      "text/plain": [
       "(array([0.86131997, 0.86549708, 0.87050961, 0.8663325 , 0.86382623]),\n",
       " 0.8654970760233918,\n",
       " 0.003035238450223006)"
      ]
     },
     "execution_count": 7,
     "metadata": {},
     "output_type": "execute_result"
    }
   ],
   "source": [
    "evaluate_cross_val_score(model, X_test_transformed, y_test)"
   ]
  }
 ],
 "metadata": {
  "kernelspec": {
   "display_name": "Python 3 (ipykernel)",
   "language": "python",
   "name": "python3"
  },
  "language_info": {
   "codemirror_mode": {
    "name": "ipython",
    "version": 3
   },
   "file_extension": ".py",
   "mimetype": "text/x-python",
   "name": "python",
   "nbconvert_exporter": "python",
   "pygments_lexer": "ipython3",
   "version": "3.8.8"
  }
 },
 "nbformat": 4,
 "nbformat_minor": 5
}
