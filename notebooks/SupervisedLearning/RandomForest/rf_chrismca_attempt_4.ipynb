{
 "cells": [
  {
   "cell_type": "code",
   "execution_count": 1,
   "id": "8e515252-d92b-41dc-8095-40bde4f087c8",
   "metadata": {},
   "outputs": [],
   "source": [
    "import numpy as np\n",
    "import pandas as pd\n",
    "import altair as alt\n",
    "pd.set_option('display.max_colwidth', None)\n",
    "pd.set_option('display.max_columns', None)\n",
    "\n",
    "\n",
    "root_directory = '../../../data/train_test_split/'\n",
    "\n",
    "X_train = pd.read_csv(root_directory+'x_train_cluster.csv')\n",
    "y_train = pd.read_csv(root_directory+'y_train.csv')['is_drafted']\n",
    "\n",
    "X_test = pd.read_csv(root_directory+'x_test_cluster.csv')\n",
    "y_test = pd.read_csv(root_directory+'y_test.csv')['is_drafted']"
   ]
  },
  {
   "cell_type": "code",
   "execution_count": 2,
   "id": "4be1bbe1-0942-407a-8273-44f17e048b2f",
   "metadata": {},
   "outputs": [],
   "source": [
    "# Group conferences together to avoid too many features\n",
    "conference_group_dict = {'Big Ten': 'power_5', 'SEC': 'power_5', 'Big 12': 'power_5',\n",
    "                         'Pac-12': 'power_5', 'ACC': 'power_5',\n",
    "                         \n",
    "                         'FBS Independents' : 'independent',\n",
    "                         \n",
    "                         'Mid-American' : 'group_5', 'Mountrain West' : 'group_5', \n",
    "                         'Sun Belt': 'group_5', 'Conference USA': 'group_5', \n",
    "                         'American Athletic': 'group_5'}\n",
    "\n",
    "X_test[\"conference_group\"] = X_test[\"conference\"].map(conference_group_dict)\n",
    "X_train[\"conference_group\"] = X_train[\"conference\"].map(conference_group_dict)"
   ]
  },
  {
   "cell_type": "code",
   "execution_count": 3,
   "id": "8a80a082-23e3-4313-ae9b-c286dd283608",
   "metadata": {},
   "outputs": [],
   "source": [
    "drop_cols = ['name', 'hometown_city', 'state_province', 'committed_to', 'conference',\n",
    "             'athlete_id', 'year', 'position', 'hometown_country',\n",
    "             'Unnamed: 0.1', 'DBSCAN_Cluster_PCA']\n",
    "\n",
    "X_train = X_train.drop(columns = drop_cols, axis = 1)\n",
    "X_test = X_test.drop(columns = drop_cols, axis = 1)"
   ]
  },
  {
   "cell_type": "code",
   "execution_count": 4,
   "id": "13c44365-0ec2-4955-b531-5e990807b8af",
   "metadata": {},
   "outputs": [],
   "source": [
    "cols = list(X_train.columns)\n",
    "\n",
    "# Identify categorical columns manually\n",
    "categorical_cols = ['stars', 'side_of_ball', 'conference_group',\n",
    "                    'position_group', 'SVD_KMeans_Cluster', 'KMeans_Cluster']\n",
    "\n",
    "# all non-categorical columns are numerical\n",
    "numerical_cols = set(cols) - set(categorical_cols)\n",
    "numerical_cols = list(numerical_cols)"
   ]
  },
  {
   "cell_type": "code",
   "execution_count": 5,
   "id": "b1d1d553-e568-4690-89cd-4e6c25bcc8e3",
   "metadata": {},
   "outputs": [],
   "source": [
    "from sklearn.pipeline import Pipeline\n",
    "from sklearn.compose import ColumnTransformer\n",
    "from sklearn.impute import SimpleImputer\n",
    "from sklearn.preprocessing import OneHotEncoder\n",
    "from sklearn.preprocessing import StandardScaler\n",
    "\n",
    "# Define the preprocessing for categorical columns\n",
    "categorical_transformer = Pipeline(steps=[\n",
    "    ('imputer', SimpleImputer(strategy='constant', fill_value='unknown')),\n",
    "    ('onehot', OneHotEncoder(handle_unknown='ignore'))\n",
    "])\n",
    "\n",
    "# Define the preprocessing for numerical columns\n",
    "numerical_transformer = Pipeline(steps=[\n",
    "    ('scaler', StandardScaler())\n",
    "])\n",
    "\n",
    "# Combine preprocessing steps for categorical and numerical columns\n",
    "preprocessor = ColumnTransformer(transformers=[\n",
    "    ('cat', categorical_transformer, categorical_cols),\n",
    "    ('num', numerical_transformer, numerical_cols)\n",
    "])\n",
    "\n",
    "# Establish pipeline defintion\n",
    "pipeline = Pipeline(steps=[('preprocessor', preprocessor)])\n",
    "\n",
    "# Fit the pipeline to the training data\n",
    "pipeline.fit(X_train)\n",
    "\n",
    "# Transform the training data\n",
    "X_train_transformed = pipeline.transform(X_train)"
   ]
  },
  {
   "cell_type": "code",
   "execution_count": 6,
   "id": "2cf62c63-2038-456c-aa12-2b65339d4a5a",
   "metadata": {},
   "outputs": [
    {
     "name": "stdout",
     "output_type": "stream",
     "text": [
      "Fitting 3 folds for each of 10 candidates, totalling 30 fits\n",
      "[CV] END bootstrap=True, criterion=gini, max_depth=30, max_features=sqrt, min_samples_leaf=8, min_samples_split=5, n_estimators=400; total time=  15.5s\n",
      "[CV] END bootstrap=True, criterion=gini, max_depth=30, max_features=sqrt, min_samples_leaf=8, min_samples_split=5, n_estimators=400; total time=  15.6s\n",
      "[CV] END bootstrap=True, criterion=gini, max_depth=30, max_features=sqrt, min_samples_leaf=8, min_samples_split=5, n_estimators=400; total time=  15.6s\n",
      "[CV] END bootstrap=False, criterion=gini, max_depth=40, max_features=log2, min_samples_leaf=2, min_samples_split=5, n_estimators=50; total time=   2.5s\n",
      "[CV] END bootstrap=False, criterion=gini, max_depth=40, max_features=log2, min_samples_leaf=2, min_samples_split=5, n_estimators=50; total time=   2.5s\n",
      "[CV] END bootstrap=False, criterion=gini, max_depth=40, max_features=log2, min_samples_leaf=2, min_samples_split=5, n_estimators=50; total time=   2.7s\n",
      "[CV] END bootstrap=True, criterion=entropy, max_depth=20, max_features=sqrt, min_samples_leaf=2, min_samples_split=2, n_estimators=500; total time=  24.7s\n",
      "[CV] END bootstrap=True, criterion=entropy, max_depth=20, max_features=sqrt, min_samples_leaf=2, min_samples_split=2, n_estimators=500; total time=  25.4s\n",
      "[CV] END bootstrap=True, criterion=entropy, max_depth=60, max_features=sqrt, min_samples_leaf=8, min_samples_split=2, n_estimators=300; total time=  14.1s\n",
      "[CV] END bootstrap=True, criterion=entropy, max_depth=60, max_features=sqrt, min_samples_leaf=8, min_samples_split=2, n_estimators=300; total time=  14.5s\n",
      "[CV] END bootstrap=True, criterion=entropy, max_depth=60, max_features=sqrt, min_samples_leaf=8, min_samples_split=2, n_estimators=300; total time=  12.7s\n"
     ]
    },
    {
     "name": "stderr",
     "output_type": "stream",
     "text": [
      "/opt/anaconda3/lib/python3.8/site-packages/sklearn/ensemble/_forest.py:424: FutureWarning: `max_features='auto'` has been deprecated in 1.1 and will be removed in 1.3. To keep the past behaviour, explicitly set `max_features='sqrt'` or remove this parameter as it is also the default value for RandomForestClassifiers and ExtraTreesClassifiers.\n",
      "  warn(\n"
     ]
    },
    {
     "name": "stdout",
     "output_type": "stream",
     "text": [
      "[CV] END bootstrap=True, criterion=entropy, max_depth=20, max_features=sqrt, min_samples_leaf=2, min_samples_split=2, n_estimators=500; total time=  23.3s\n"
     ]
    },
    {
     "name": "stderr",
     "output_type": "stream",
     "text": [
      "/opt/anaconda3/lib/python3.8/site-packages/sklearn/ensemble/_forest.py:424: FutureWarning: `max_features='auto'` has been deprecated in 1.1 and will be removed in 1.3. To keep the past behaviour, explicitly set `max_features='sqrt'` or remove this parameter as it is also the default value for RandomForestClassifiers and ExtraTreesClassifiers.\n",
      "  warn(\n"
     ]
    },
    {
     "name": "stdout",
     "output_type": "stream",
     "text": [
      "[CV] END bootstrap=False, criterion=gini, max_depth=60, max_features=log2, min_samples_leaf=2, min_samples_split=2, n_estimators=300; total time=  13.8s\n"
     ]
    },
    {
     "name": "stderr",
     "output_type": "stream",
     "text": [
      "/opt/anaconda3/lib/python3.8/site-packages/sklearn/ensemble/_forest.py:424: FutureWarning: `max_features='auto'` has been deprecated in 1.1 and will be removed in 1.3. To keep the past behaviour, explicitly set `max_features='sqrt'` or remove this parameter as it is also the default value for RandomForestClassifiers and ExtraTreesClassifiers.\n",
      "  warn(\n"
     ]
    },
    {
     "name": "stdout",
     "output_type": "stream",
     "text": [
      "[CV] END bootstrap=True, criterion=entropy, max_depth=30, max_features=sqrt, min_samples_leaf=10, min_samples_split=20, n_estimators=1000; total time=  40.4s\n",
      "[CV] END bootstrap=True, criterion=entropy, max_depth=30, max_features=sqrt, min_samples_leaf=10, min_samples_split=20, n_estimators=1000; total time=  40.8s\n",
      "[CV] END bootstrap=True, criterion=entropy, max_depth=30, max_features=sqrt, min_samples_leaf=10, min_samples_split=20, n_estimators=1000; total time=  41.0s\n",
      "[CV] END bootstrap=True, criterion=entropy, max_depth=10, max_features=log2, min_samples_leaf=1, min_samples_split=15, n_estimators=100; total time=   1.9s\n",
      "[CV] END bootstrap=True, criterion=entropy, max_depth=10, max_features=log2, min_samples_leaf=1, min_samples_split=15, n_estimators=100; total time=   1.9s\n",
      "[CV] END bootstrap=True, criterion=entropy, max_depth=10, max_features=log2, min_samples_leaf=1, min_samples_split=15, n_estimators=100; total time=   1.8s\n",
      "[CV] END bootstrap=False, criterion=gini, max_depth=60, max_features=log2, min_samples_leaf=2, min_samples_split=2, n_estimators=300; total time=  11.2s\n",
      "[CV] END bootstrap=False, criterion=gini, max_depth=60, max_features=log2, min_samples_leaf=2, min_samples_split=2, n_estimators=300; total time=  10.0s\n",
      "[CV] END bootstrap=False, criterion=entropy, max_depth=80, max_features=auto, min_samples_leaf=1, min_samples_split=2, n_estimators=300; total time=  13.7s\n",
      "[CV] END bootstrap=False, criterion=entropy, max_depth=80, max_features=auto, min_samples_leaf=1, min_samples_split=2, n_estimators=300; total time=  14.1s\n",
      "[CV] END bootstrap=False, criterion=entropy, max_depth=80, max_features=auto, min_samples_leaf=1, min_samples_split=2, n_estimators=300; total time=  14.1s\n",
      "[CV] END bootstrap=False, criterion=entropy, max_depth=None, max_features=sqrt, min_samples_leaf=2, min_samples_split=20, n_estimators=300; total time=  12.2s\n",
      "[CV] END bootstrap=False, criterion=entropy, max_depth=None, max_features=sqrt, min_samples_leaf=2, min_samples_split=20, n_estimators=300; total time=  12.3s\n",
      "[CV] END bootstrap=False, criterion=entropy, max_depth=None, max_features=sqrt, min_samples_leaf=2, min_samples_split=20, n_estimators=300; total time=  12.2s\n",
      "[CV] END bootstrap=False, criterion=gini, max_depth=50, max_features=None, min_samples_leaf=8, min_samples_split=20, n_estimators=500; total time= 1.7min\n",
      "[CV] END bootstrap=False, criterion=gini, max_depth=50, max_features=None, min_samples_leaf=8, min_samples_split=20, n_estimators=500; total time= 1.7min\n",
      "[CV] END bootstrap=False, criterion=gini, max_depth=50, max_features=None, min_samples_leaf=8, min_samples_split=20, n_estimators=500; total time= 1.8min\n",
      "Best parameters found:  {'n_estimators': 300, 'min_samples_split': 2, 'min_samples_leaf': 8, 'max_features': 'sqrt', 'max_depth': 60, 'criterion': 'entropy', 'bootstrap': True}\n",
      "Best F1 score:  0.9171725641346384\n"
     ]
    }
   ],
   "source": [
    "# Parameter Tuning\n",
    "from sklearn.ensemble import RandomForestClassifier\n",
    "from sklearn.model_selection import RandomizedSearchCV\n",
    "from sklearn.metrics import make_scorer, f1_score\n",
    "\n",
    "clf = RandomForestClassifier()\n",
    "\n",
    "# Define the parameter grid for RandomizedSearchCV\n",
    "# Expanded parameter grid for RandomizedSearchCV\n",
    "param_dist = {\n",
    "    'n_estimators': [50, 100, 200, 300, 400, 500, 800, 1000],  # How many trees\n",
    "    'max_depth': [None, 10, 20, 30, 40, 50, 60, 70, 80, 100],  # How many splits in the trees are allowed\n",
    "    'min_samples_split': [2, 5, 10, 15, 20],  # More options for minimum samples split\n",
    "    'min_samples_leaf': [1, 2, 4, 8, 10],  # How many samples are allowed to comprise a leaf\n",
    "    'bootstrap': [True, False],  # Whether bootstrap samples are used\n",
    "    'max_features': ['auto', 'sqrt', 'log2', None],  # Different ways to limit the number of features considered at each split\n",
    "    'criterion': ['gini', 'entropy'],  # Different criteria for splitting nodes\n",
    "}\n",
    "\n",
    "\n",
    "# Randomized Search cross validation\n",
    "\n",
    "random_search = RandomizedSearchCV(\n",
    "    clf, \n",
    "    param_distributions=param_dist, \n",
    "    n_iter=10,  # Number of parameter settings sampled\n",
    "    scoring=\"f1_micro\",  # Optimize for f1 score (weight\n",
    "    cv=3,  # 5-fold cross-validation\n",
    "    verbose=2, \n",
    "    random_state=0, \n",
    "    n_jobs=-1  # Use all available cores\n",
    ")\n",
    "\n",
    "random_search.fit(X_train_transformed, y_train)\n",
    "\n",
    "\n",
    "# # Print the best parameters and the best score\n",
    "print(\"Best parameters found: \", random_search.best_params_)\n",
    "print(\"Best F1 score: \", random_search.best_score_)"
   ]
  },
  {
   "cell_type": "code",
   "execution_count": 7,
   "id": "1f488b02-969d-471d-b249-b8b123fafcf4",
   "metadata": {},
   "outputs": [
    {
     "data": {
      "text/html": [
       "<style>#sk-container-id-1 {color: black;background-color: white;}#sk-container-id-1 pre{padding: 0;}#sk-container-id-1 div.sk-toggleable {background-color: white;}#sk-container-id-1 label.sk-toggleable__label {cursor: pointer;display: block;width: 100%;margin-bottom: 0;padding: 0.3em;box-sizing: border-box;text-align: center;}#sk-container-id-1 label.sk-toggleable__label-arrow:before {content: \"▸\";float: left;margin-right: 0.25em;color: #696969;}#sk-container-id-1 label.sk-toggleable__label-arrow:hover:before {color: black;}#sk-container-id-1 div.sk-estimator:hover label.sk-toggleable__label-arrow:before {color: black;}#sk-container-id-1 div.sk-toggleable__content {max-height: 0;max-width: 0;overflow: hidden;text-align: left;background-color: #f0f8ff;}#sk-container-id-1 div.sk-toggleable__content pre {margin: 0.2em;color: black;border-radius: 0.25em;background-color: #f0f8ff;}#sk-container-id-1 input.sk-toggleable__control:checked~div.sk-toggleable__content {max-height: 200px;max-width: 100%;overflow: auto;}#sk-container-id-1 input.sk-toggleable__control:checked~label.sk-toggleable__label-arrow:before {content: \"▾\";}#sk-container-id-1 div.sk-estimator input.sk-toggleable__control:checked~label.sk-toggleable__label {background-color: #d4ebff;}#sk-container-id-1 div.sk-label input.sk-toggleable__control:checked~label.sk-toggleable__label {background-color: #d4ebff;}#sk-container-id-1 input.sk-hidden--visually {border: 0;clip: rect(1px 1px 1px 1px);clip: rect(1px, 1px, 1px, 1px);height: 1px;margin: -1px;overflow: hidden;padding: 0;position: absolute;width: 1px;}#sk-container-id-1 div.sk-estimator {font-family: monospace;background-color: #f0f8ff;border: 1px dotted black;border-radius: 0.25em;box-sizing: border-box;margin-bottom: 0.5em;}#sk-container-id-1 div.sk-estimator:hover {background-color: #d4ebff;}#sk-container-id-1 div.sk-parallel-item::after {content: \"\";width: 100%;border-bottom: 1px solid gray;flex-grow: 1;}#sk-container-id-1 div.sk-label:hover label.sk-toggleable__label {background-color: #d4ebff;}#sk-container-id-1 div.sk-serial::before {content: \"\";position: absolute;border-left: 1px solid gray;box-sizing: border-box;top: 0;bottom: 0;left: 50%;z-index: 0;}#sk-container-id-1 div.sk-serial {display: flex;flex-direction: column;align-items: center;background-color: white;padding-right: 0.2em;padding-left: 0.2em;position: relative;}#sk-container-id-1 div.sk-item {position: relative;z-index: 1;}#sk-container-id-1 div.sk-parallel {display: flex;align-items: stretch;justify-content: center;background-color: white;position: relative;}#sk-container-id-1 div.sk-item::before, #sk-container-id-1 div.sk-parallel-item::before {content: \"\";position: absolute;border-left: 1px solid gray;box-sizing: border-box;top: 0;bottom: 0;left: 50%;z-index: -1;}#sk-container-id-1 div.sk-parallel-item {display: flex;flex-direction: column;z-index: 1;position: relative;background-color: white;}#sk-container-id-1 div.sk-parallel-item:first-child::after {align-self: flex-end;width: 50%;}#sk-container-id-1 div.sk-parallel-item:last-child::after {align-self: flex-start;width: 50%;}#sk-container-id-1 div.sk-parallel-item:only-child::after {width: 0;}#sk-container-id-1 div.sk-dashed-wrapped {border: 1px dashed gray;margin: 0 0.4em 0.5em 0.4em;box-sizing: border-box;padding-bottom: 0.4em;background-color: white;}#sk-container-id-1 div.sk-label label {font-family: monospace;font-weight: bold;display: inline-block;line-height: 1.2em;}#sk-container-id-1 div.sk-label-container {text-align: center;}#sk-container-id-1 div.sk-container {/* jupyter's `normalize.less` sets `[hidden] { display: none; }` but bootstrap.min.css set `[hidden] { display: none !important; }` so we also need the `!important` here to be able to override the default hidden behavior on the sphinx rendered scikit-learn.org. See: https://github.com/scikit-learn/scikit-learn/issues/21755 */display: inline-block !important;position: relative;}#sk-container-id-1 div.sk-text-repr-fallback {display: none;}</style><div id=\"sk-container-id-1\" class=\"sk-top-container\"><div class=\"sk-text-repr-fallback\"><pre>RandomForestClassifier(class_weight=&#x27;balanced&#x27;, criterion=&#x27;entropy&#x27;,\n",
       "                       max_depth=10, max_features=&#x27;log2&#x27;, min_samples_split=15,\n",
       "                       random_state=0)</pre><b>In a Jupyter environment, please rerun this cell to show the HTML representation or trust the notebook. <br />On GitHub, the HTML representation is unable to render, please try loading this page with nbviewer.org.</b></div><div class=\"sk-container\" hidden><div class=\"sk-item\"><div class=\"sk-estimator sk-toggleable\"><input class=\"sk-toggleable__control sk-hidden--visually\" id=\"sk-estimator-id-1\" type=\"checkbox\" checked><label for=\"sk-estimator-id-1\" class=\"sk-toggleable__label sk-toggleable__label-arrow\">RandomForestClassifier</label><div class=\"sk-toggleable__content\"><pre>RandomForestClassifier(class_weight=&#x27;balanced&#x27;, criterion=&#x27;entropy&#x27;,\n",
       "                       max_depth=10, max_features=&#x27;log2&#x27;, min_samples_split=15,\n",
       "                       random_state=0)</pre></div></div></div></div></div>"
      ],
      "text/plain": [
       "RandomForestClassifier(class_weight='balanced', criterion='entropy',\n",
       "                       max_depth=10, max_features='log2', min_samples_split=15,\n",
       "                       random_state=0)"
      ]
     },
     "execution_count": 7,
     "metadata": {},
     "output_type": "execute_result"
    }
   ],
   "source": [
    "from sklearn.ensemble import RandomForestClassifier\n",
    "\n",
    "\n",
    "clf = RandomForestClassifier(\n",
    "    n_estimators = 100,\n",
    "    min_samples_split = 15,\n",
    "    min_samples_leaf = 1,\n",
    "    max_features = 'log2',\n",
    "    max_depth = 10,\n",
    "    criterion = 'entropy',\n",
    "    bootstrap = True, \n",
    "    random_state = 0,\n",
    "    class_weight = 'balanced' # Weighted inversely proportional to how frequently the target appears. \n",
    ")\n",
    "\n",
    "\n",
    "clf.fit(X_train_transformed, y_train)"
   ]
  },
  {
   "cell_type": "code",
   "execution_count": 8,
   "id": "0dd09119-c946-4684-ba1d-d880513fc4f2",
   "metadata": {},
   "outputs": [],
   "source": [
    "X_test_transformed = pipeline.transform(X_test)"
   ]
  },
  {
   "cell_type": "code",
   "execution_count": 9,
   "id": "7e45fe13-f6fa-4ee6-b917-0f69cef6c310",
   "metadata": {},
   "outputs": [
    {
     "name": "stdout",
     "output_type": "stream",
     "text": [
      "Accuracy: 0.8112\n"
     ]
    }
   ],
   "source": [
    "from sklearn.metrics import accuracy_score\n",
    "\n",
    "y_pred = clf.predict(X_test_transformed)\n",
    "\n",
    "# Evaluate the model\n",
    "accuracy = accuracy_score(y_test, y_pred)\n",
    "print(f'Accuracy: {accuracy:.4f}')"
   ]
  },
  {
   "cell_type": "code",
   "execution_count": 10,
   "id": "42a4ca13-e306-4af1-ae96-60afdaaab6bd",
   "metadata": {},
   "outputs": [
    {
     "data": {
      "text/plain": [
       "0.8111946532999165"
      ]
     },
     "execution_count": 10,
     "metadata": {},
     "output_type": "execute_result"
    }
   ],
   "source": [
    "f1_score(y_test, y_pred, average = 'micro')"
   ]
  },
  {
   "cell_type": "code",
   "execution_count": 11,
   "id": "c550f2ce-bb04-4310-ab8b-44e8ec70dc8c",
   "metadata": {},
   "outputs": [
    {
     "data": {
      "text/plain": [
       "0.1796157059314954"
      ]
     },
     "execution_count": 11,
     "metadata": {},
     "output_type": "execute_result"
    }
   ],
   "source": [
    "y_pred.mean()"
   ]
  },
  {
   "cell_type": "code",
   "execution_count": 12,
   "id": "1e5eb99a-713a-49ef-af0d-012e48821d66",
   "metadata": {},
   "outputs": [
    {
     "name": "stdout",
     "output_type": "stream",
     "text": [
      "f1 on test: 0.8111946532999165\n",
      "f1 on train: 0.8430345903191667\n"
     ]
    }
   ],
   "source": [
    "print('f1 on test: ' + str(f1_score(y_test, y_pred, average = 'micro')))\n",
    "\n",
    "y_pred = clf.predict(X_train_transformed)\n",
    "print('f1 on train: ' + str(f1_score(y_train, y_pred, average = 'micro')))"
   ]
  },
  {
   "cell_type": "code",
   "execution_count": 13,
   "id": "c98981b7-ba4b-47b5-8bce-2849fcf28996",
   "metadata": {},
   "outputs": [
    {
     "data": {
      "text/plain": [
       "0.08237259816207185"
      ]
     },
     "execution_count": 13,
     "metadata": {},
     "output_type": "execute_result"
    }
   ],
   "source": [
    "y_test.mean()"
   ]
  }
 ],
 "metadata": {
  "kernelspec": {
   "display_name": "Python 3 (ipykernel)",
   "language": "python",
   "name": "python3"
  },
  "language_info": {
   "codemirror_mode": {
    "name": "ipython",
    "version": 3
   },
   "file_extension": ".py",
   "mimetype": "text/x-python",
   "name": "python",
   "nbconvert_exporter": "python",
   "pygments_lexer": "ipython3",
   "version": "3.8.8"
  }
 },
 "nbformat": 4,
 "nbformat_minor": 5
}
