{
 "cells": [
  {
   "cell_type": "code",
   "execution_count": 1,
   "id": "8e515252-d92b-41dc-8095-40bde4f087c8",
   "metadata": {},
   "outputs": [],
   "source": [
    "import numpy as np\n",
    "import pandas as pd\n",
    "import altair as alt\n",
    "pd.set_option('display.max_colwidth', None)\n",
    "pd.set_option('display.max_columns', None)\n",
    "\n",
    "\n",
    "root_directory = '../../../data/train_test_split/'\n",
    "\n",
    "X_train = pd.read_csv(root_directory+'x_train_cluster.csv')\n",
    "y_train = pd.read_csv(root_directory+'y_train.csv')['is_drafted']\n",
    "\n",
    "X_test = pd.read_csv(root_directory+'x_test_cluster.csv')\n",
    "y_test = pd.read_csv(root_directory+'y_test.csv')['is_drafted']"
   ]
  },
  {
   "cell_type": "code",
   "execution_count": 2,
   "id": "2e6095cf-8069-4d01-9fd1-761ef077d65b",
   "metadata": {},
   "outputs": [],
   "source": [
    "X_test['from_USA_flag'] = np.where(X_test['hometown_country'] == 'USA', 1, 0)\n",
    "X_train['from_USA_flag'] = np.where(X_train['hometown_country'] == 'USA', 1, 0)"
   ]
  },
  {
   "cell_type": "code",
   "execution_count": 3,
   "id": "4be1bbe1-0942-407a-8273-44f17e048b2f",
   "metadata": {},
   "outputs": [],
   "source": [
    "# Group conferences together to avoid too many features\n",
    "conference_group_dict = {'Big Ten': 'power_5', 'SEC': 'power_5', 'Big 12': 'power_5',\n",
    "                         'Pac-12': 'power_5', 'ACC': 'power_5',\n",
    "                         \n",
    "                         'FBS Independents' : 'independent',\n",
    "                         \n",
    "                         'Mid-American' : 'group_5', 'Mountrain West' : 'group_5', \n",
    "                         'Sun Belt': 'group_5', 'Conference USA': 'group_5', \n",
    "                         'American Athletic': 'group_5'}\n",
    "\n",
    "X_test[\"conference_group\"] = X_test[\"conference\"].map(conference_group_dict)\n",
    "X_train[\"conference_group\"] = X_train[\"conference\"].map(conference_group_dict)"
   ]
  },
  {
   "cell_type": "code",
   "execution_count": 4,
   "id": "8a80a082-23e3-4313-ae9b-c286dd283608",
   "metadata": {},
   "outputs": [],
   "source": [
    "drop_cols = ['name', 'hometown_city', 'state_province', 'committed_to', 'conference',\n",
    "             'athlete_id', 'hometown_country', 'year', 'position', 'Unnamed: 0.1',\n",
    "            'DBSCAN_Cluster_PCA']\n",
    "\n",
    "X_train = X_train.drop(columns = drop_cols, axis = 1)\n",
    "X_test = X_test.drop(columns = drop_cols, axis = 1)"
   ]
  },
  {
   "cell_type": "code",
   "execution_count": 5,
   "id": "13c44365-0ec2-4955-b531-5e990807b8af",
   "metadata": {},
   "outputs": [],
   "source": [
    "cols = list(X_train.columns)\n",
    "\n",
    "# Identify categorical columns manually\n",
    "categorical_cols = ['stars', 'side_of_ball', 'conference_group',\n",
    "                    'position_group', 'SVD_KMeans_Cluster', 'KMeans_Cluster', 'from_USA_flag']\n",
    "\n",
    "# all non-categorical columns are numerical\n",
    "numerical_cols = set(cols) - set(categorical_cols)\n",
    "numerical_cols = list(numerical_cols)"
   ]
  },
  {
   "cell_type": "code",
   "execution_count": 6,
   "id": "b1d1d553-e568-4690-89cd-4e6c25bcc8e3",
   "metadata": {},
   "outputs": [],
   "source": [
    "from sklearn.pipeline import Pipeline\n",
    "from sklearn.compose import ColumnTransformer\n",
    "from sklearn.impute import SimpleImputer\n",
    "from sklearn.preprocessing import OneHotEncoder\n",
    "from sklearn.preprocessing import StandardScaler\n",
    "\n",
    "# Define the preprocessing for categorical columns\n",
    "categorical_transformer = Pipeline(steps=[\n",
    "    ('imputer', SimpleImputer(strategy='constant', fill_value='unknown')),\n",
    "    ('onehot', OneHotEncoder(handle_unknown='ignore'))\n",
    "])\n",
    "\n",
    "# Define the preprocessing for numerical columns\n",
    "numerical_transformer = Pipeline(steps=[\n",
    "    ('scaler', StandardScaler())\n",
    "])\n",
    "\n",
    "# Combine preprocessing steps for categorical and numerical columns\n",
    "preprocessor = ColumnTransformer(transformers=[\n",
    "    ('cat', categorical_transformer, categorical_cols),\n",
    "    ('num', numerical_transformer, numerical_cols)\n",
    "])\n",
    "\n",
    "# Establish pipeline defintion\n",
    "pipeline = Pipeline(steps=[('preprocessor', preprocessor)])\n",
    "\n",
    "# Fit the pipeline to the training data\n",
    "pipeline.fit(X_train)\n",
    "\n",
    "# Transform the training data\n",
    "X_train_transformed = pipeline.transform(X_train)"
   ]
  },
  {
   "cell_type": "code",
   "execution_count": 7,
   "id": "1f488b02-969d-471d-b249-b8b123fafcf4",
   "metadata": {},
   "outputs": [
    {
     "data": {
      "text/html": [
       "<style>#sk-container-id-1 {color: black;background-color: white;}#sk-container-id-1 pre{padding: 0;}#sk-container-id-1 div.sk-toggleable {background-color: white;}#sk-container-id-1 label.sk-toggleable__label {cursor: pointer;display: block;width: 100%;margin-bottom: 0;padding: 0.3em;box-sizing: border-box;text-align: center;}#sk-container-id-1 label.sk-toggleable__label-arrow:before {content: \"▸\";float: left;margin-right: 0.25em;color: #696969;}#sk-container-id-1 label.sk-toggleable__label-arrow:hover:before {color: black;}#sk-container-id-1 div.sk-estimator:hover label.sk-toggleable__label-arrow:before {color: black;}#sk-container-id-1 div.sk-toggleable__content {max-height: 0;max-width: 0;overflow: hidden;text-align: left;background-color: #f0f8ff;}#sk-container-id-1 div.sk-toggleable__content pre {margin: 0.2em;color: black;border-radius: 0.25em;background-color: #f0f8ff;}#sk-container-id-1 input.sk-toggleable__control:checked~div.sk-toggleable__content {max-height: 200px;max-width: 100%;overflow: auto;}#sk-container-id-1 input.sk-toggleable__control:checked~label.sk-toggleable__label-arrow:before {content: \"▾\";}#sk-container-id-1 div.sk-estimator input.sk-toggleable__control:checked~label.sk-toggleable__label {background-color: #d4ebff;}#sk-container-id-1 div.sk-label input.sk-toggleable__control:checked~label.sk-toggleable__label {background-color: #d4ebff;}#sk-container-id-1 input.sk-hidden--visually {border: 0;clip: rect(1px 1px 1px 1px);clip: rect(1px, 1px, 1px, 1px);height: 1px;margin: -1px;overflow: hidden;padding: 0;position: absolute;width: 1px;}#sk-container-id-1 div.sk-estimator {font-family: monospace;background-color: #f0f8ff;border: 1px dotted black;border-radius: 0.25em;box-sizing: border-box;margin-bottom: 0.5em;}#sk-container-id-1 div.sk-estimator:hover {background-color: #d4ebff;}#sk-container-id-1 div.sk-parallel-item::after {content: \"\";width: 100%;border-bottom: 1px solid gray;flex-grow: 1;}#sk-container-id-1 div.sk-label:hover label.sk-toggleable__label {background-color: #d4ebff;}#sk-container-id-1 div.sk-serial::before {content: \"\";position: absolute;border-left: 1px solid gray;box-sizing: border-box;top: 0;bottom: 0;left: 50%;z-index: 0;}#sk-container-id-1 div.sk-serial {display: flex;flex-direction: column;align-items: center;background-color: white;padding-right: 0.2em;padding-left: 0.2em;position: relative;}#sk-container-id-1 div.sk-item {position: relative;z-index: 1;}#sk-container-id-1 div.sk-parallel {display: flex;align-items: stretch;justify-content: center;background-color: white;position: relative;}#sk-container-id-1 div.sk-item::before, #sk-container-id-1 div.sk-parallel-item::before {content: \"\";position: absolute;border-left: 1px solid gray;box-sizing: border-box;top: 0;bottom: 0;left: 50%;z-index: -1;}#sk-container-id-1 div.sk-parallel-item {display: flex;flex-direction: column;z-index: 1;position: relative;background-color: white;}#sk-container-id-1 div.sk-parallel-item:first-child::after {align-self: flex-end;width: 50%;}#sk-container-id-1 div.sk-parallel-item:last-child::after {align-self: flex-start;width: 50%;}#sk-container-id-1 div.sk-parallel-item:only-child::after {width: 0;}#sk-container-id-1 div.sk-dashed-wrapped {border: 1px dashed gray;margin: 0 0.4em 0.5em 0.4em;box-sizing: border-box;padding-bottom: 0.4em;background-color: white;}#sk-container-id-1 div.sk-label label {font-family: monospace;font-weight: bold;display: inline-block;line-height: 1.2em;}#sk-container-id-1 div.sk-label-container {text-align: center;}#sk-container-id-1 div.sk-container {/* jupyter's `normalize.less` sets `[hidden] { display: none; }` but bootstrap.min.css set `[hidden] { display: none !important; }` so we also need the `!important` here to be able to override the default hidden behavior on the sphinx rendered scikit-learn.org. See: https://github.com/scikit-learn/scikit-learn/issues/21755 */display: inline-block !important;position: relative;}#sk-container-id-1 div.sk-text-repr-fallback {display: none;}</style><div id=\"sk-container-id-1\" class=\"sk-top-container\"><div class=\"sk-text-repr-fallback\"><pre>RandomForestClassifier(random_state=0)</pre><b>In a Jupyter environment, please rerun this cell to show the HTML representation or trust the notebook. <br />On GitHub, the HTML representation is unable to render, please try loading this page with nbviewer.org.</b></div><div class=\"sk-container\" hidden><div class=\"sk-item\"><div class=\"sk-estimator sk-toggleable\"><input class=\"sk-toggleable__control sk-hidden--visually\" id=\"sk-estimator-id-1\" type=\"checkbox\" checked><label for=\"sk-estimator-id-1\" class=\"sk-toggleable__label sk-toggleable__label-arrow\">RandomForestClassifier</label><div class=\"sk-toggleable__content\"><pre>RandomForestClassifier(random_state=0)</pre></div></div></div></div></div>"
      ],
      "text/plain": [
       "RandomForestClassifier(random_state=0)"
      ]
     },
     "execution_count": 7,
     "metadata": {},
     "output_type": "execute_result"
    }
   ],
   "source": [
    "from sklearn.ensemble import RandomForestClassifier\n",
    "\n",
    "clf = RandomForestClassifier(random_state = 0)\n",
    "clf.fit(X_train_transformed, y_train)"
   ]
  },
  {
   "cell_type": "code",
   "execution_count": 8,
   "id": "0dd09119-c946-4684-ba1d-d880513fc4f2",
   "metadata": {},
   "outputs": [],
   "source": [
    "X_test_transformed = pipeline.transform(X_test)"
   ]
  },
  {
   "cell_type": "code",
   "execution_count": 9,
   "id": "7e45fe13-f6fa-4ee6-b917-0f69cef6c310",
   "metadata": {},
   "outputs": [
    {
     "name": "stdout",
     "output_type": "stream",
     "text": [
      "Accuracy: 0.9168\n"
     ]
    }
   ],
   "source": [
    "from sklearn.metrics import accuracy_score, f1_score\n",
    "\n",
    "\n",
    "y_pred = clf.predict(X_test_transformed)\n",
    "# Evaluate the model\n",
    "accuracy = accuracy_score(y_test, y_pred)\n",
    "print(f'Accuracy: {accuracy:.4f}')"
   ]
  },
  {
   "cell_type": "code",
   "execution_count": 10,
   "id": "c550f2ce-bb04-4310-ab8b-44e8ec70dc8c",
   "metadata": {},
   "outputs": [
    {
     "data": {
      "text/plain": [
       "0.014870509607351713"
      ]
     },
     "execution_count": 10,
     "metadata": {},
     "output_type": "execute_result"
    }
   ],
   "source": [
    "y_pred.mean()"
   ]
  },
  {
   "cell_type": "code",
   "execution_count": 11,
   "id": "c98981b7-ba4b-47b5-8bce-2849fcf28996",
   "metadata": {},
   "outputs": [
    {
     "name": "stdout",
     "output_type": "stream",
     "text": [
      "f1 on test: 0.9167919799498747\n",
      "f1 on train: 0.9995543920236172\n"
     ]
    }
   ],
   "source": [
    "print('f1 on test: ' + str(f1_score(y_test, y_pred, average = 'micro')))\n",
    "\n",
    "y_pred = clf.predict(X_train_transformed)\n",
    "print('f1 on train: ' + str(f1_score(y_train, y_pred, average = 'micro')))"
   ]
  },
  {
   "cell_type": "code",
   "execution_count": 12,
   "id": "17236a26-dceb-4c30-a386-b938886c05a3",
   "metadata": {},
   "outputs": [],
   "source": [
    "# from sklearn.inspection import permutation_importance\n",
    "\n",
    "# # X_test_transformed_arr = X_test_transformed.toarray()\n",
    "\n",
    "# result = permutation_importance(\n",
    "#     clf, X_test_transformed, y_test, n_repeats=15, random_state=42, n_jobs=-1\n",
    "# )\n",
    "\n",
    "# imp = result.importances_mean\n",
    "features = pipeline.get_feature_names_out()\n",
    "\n",
    "a = zip(features, clf[-1].feature_importances_)\n",
    "imp_df = pd.DataFrame(a, columns = ['feature', 'mean_loss_in_acc'])"
   ]
  },
  {
   "cell_type": "code",
   "execution_count": 13,
   "id": "6924b2d3-3de6-4946-a086-f2aea13f90ce",
   "metadata": {},
   "outputs": [
    {
     "data": {
      "text/html": [
       "<style>#sk-container-id-2 {color: black;background-color: white;}#sk-container-id-2 pre{padding: 0;}#sk-container-id-2 div.sk-toggleable {background-color: white;}#sk-container-id-2 label.sk-toggleable__label {cursor: pointer;display: block;width: 100%;margin-bottom: 0;padding: 0.3em;box-sizing: border-box;text-align: center;}#sk-container-id-2 label.sk-toggleable__label-arrow:before {content: \"▸\";float: left;margin-right: 0.25em;color: #696969;}#sk-container-id-2 label.sk-toggleable__label-arrow:hover:before {color: black;}#sk-container-id-2 div.sk-estimator:hover label.sk-toggleable__label-arrow:before {color: black;}#sk-container-id-2 div.sk-toggleable__content {max-height: 0;max-width: 0;overflow: hidden;text-align: left;background-color: #f0f8ff;}#sk-container-id-2 div.sk-toggleable__content pre {margin: 0.2em;color: black;border-radius: 0.25em;background-color: #f0f8ff;}#sk-container-id-2 input.sk-toggleable__control:checked~div.sk-toggleable__content {max-height: 200px;max-width: 100%;overflow: auto;}#sk-container-id-2 input.sk-toggleable__control:checked~label.sk-toggleable__label-arrow:before {content: \"▾\";}#sk-container-id-2 div.sk-estimator input.sk-toggleable__control:checked~label.sk-toggleable__label {background-color: #d4ebff;}#sk-container-id-2 div.sk-label input.sk-toggleable__control:checked~label.sk-toggleable__label {background-color: #d4ebff;}#sk-container-id-2 input.sk-hidden--visually {border: 0;clip: rect(1px 1px 1px 1px);clip: rect(1px, 1px, 1px, 1px);height: 1px;margin: -1px;overflow: hidden;padding: 0;position: absolute;width: 1px;}#sk-container-id-2 div.sk-estimator {font-family: monospace;background-color: #f0f8ff;border: 1px dotted black;border-radius: 0.25em;box-sizing: border-box;margin-bottom: 0.5em;}#sk-container-id-2 div.sk-estimator:hover {background-color: #d4ebff;}#sk-container-id-2 div.sk-parallel-item::after {content: \"\";width: 100%;border-bottom: 1px solid gray;flex-grow: 1;}#sk-container-id-2 div.sk-label:hover label.sk-toggleable__label {background-color: #d4ebff;}#sk-container-id-2 div.sk-serial::before {content: \"\";position: absolute;border-left: 1px solid gray;box-sizing: border-box;top: 0;bottom: 0;left: 50%;z-index: 0;}#sk-container-id-2 div.sk-serial {display: flex;flex-direction: column;align-items: center;background-color: white;padding-right: 0.2em;padding-left: 0.2em;position: relative;}#sk-container-id-2 div.sk-item {position: relative;z-index: 1;}#sk-container-id-2 div.sk-parallel {display: flex;align-items: stretch;justify-content: center;background-color: white;position: relative;}#sk-container-id-2 div.sk-item::before, #sk-container-id-2 div.sk-parallel-item::before {content: \"\";position: absolute;border-left: 1px solid gray;box-sizing: border-box;top: 0;bottom: 0;left: 50%;z-index: -1;}#sk-container-id-2 div.sk-parallel-item {display: flex;flex-direction: column;z-index: 1;position: relative;background-color: white;}#sk-container-id-2 div.sk-parallel-item:first-child::after {align-self: flex-end;width: 50%;}#sk-container-id-2 div.sk-parallel-item:last-child::after {align-self: flex-start;width: 50%;}#sk-container-id-2 div.sk-parallel-item:only-child::after {width: 0;}#sk-container-id-2 div.sk-dashed-wrapped {border: 1px dashed gray;margin: 0 0.4em 0.5em 0.4em;box-sizing: border-box;padding-bottom: 0.4em;background-color: white;}#sk-container-id-2 div.sk-label label {font-family: monospace;font-weight: bold;display: inline-block;line-height: 1.2em;}#sk-container-id-2 div.sk-label-container {text-align: center;}#sk-container-id-2 div.sk-container {/* jupyter's `normalize.less` sets `[hidden] { display: none; }` but bootstrap.min.css set `[hidden] { display: none !important; }` so we also need the `!important` here to be able to override the default hidden behavior on the sphinx rendered scikit-learn.org. See: https://github.com/scikit-learn/scikit-learn/issues/21755 */display: inline-block !important;position: relative;}#sk-container-id-2 div.sk-text-repr-fallback {display: none;}</style><div id=\"sk-container-id-2\" class=\"sk-top-container\"><div class=\"sk-text-repr-fallback\"><pre>RandomForestClassifier(random_state=0)</pre><b>In a Jupyter environment, please rerun this cell to show the HTML representation or trust the notebook. <br />On GitHub, the HTML representation is unable to render, please try loading this page with nbviewer.org.</b></div><div class=\"sk-container\" hidden><div class=\"sk-item\"><div class=\"sk-estimator sk-toggleable\"><input class=\"sk-toggleable__control sk-hidden--visually\" id=\"sk-estimator-id-2\" type=\"checkbox\" checked><label for=\"sk-estimator-id-2\" class=\"sk-toggleable__label sk-toggleable__label-arrow\">RandomForestClassifier</label><div class=\"sk-toggleable__content\"><pre>RandomForestClassifier(random_state=0)</pre></div></div></div></div></div>"
      ],
      "text/plain": [
       "RandomForestClassifier(random_state=0)"
      ]
     },
     "execution_count": 13,
     "metadata": {},
     "output_type": "execute_result"
    }
   ],
   "source": [
    "clf"
   ]
  },
  {
   "cell_type": "code",
   "execution_count": 14,
   "id": "258e8978-9955-4a0e-9271-a3cc2840d908",
   "metadata": {},
   "outputs": [
    {
     "data": {
      "text/html": [
       "<div>\n",
       "<style scoped>\n",
       "    .dataframe tbody tr th:only-of-type {\n",
       "        vertical-align: middle;\n",
       "    }\n",
       "\n",
       "    .dataframe tbody tr th {\n",
       "        vertical-align: top;\n",
       "    }\n",
       "\n",
       "    .dataframe thead th {\n",
       "        text-align: right;\n",
       "    }\n",
       "</style>\n",
       "<table border=\"1\" class=\"dataframe\">\n",
       "  <thead>\n",
       "    <tr style=\"text-align: right;\">\n",
       "      <th></th>\n",
       "      <th>feature</th>\n",
       "      <th>mean_loss_in_acc</th>\n",
       "    </tr>\n",
       "  </thead>\n",
       "  <tbody>\n",
       "    <tr>\n",
       "      <th>0</th>\n",
       "      <td>cat__stars_1</td>\n",
       "      <td>0.000354</td>\n",
       "    </tr>\n",
       "    <tr>\n",
       "      <th>1</th>\n",
       "      <td>cat__stars_2</td>\n",
       "      <td>0.001058</td>\n",
       "    </tr>\n",
       "    <tr>\n",
       "      <th>2</th>\n",
       "      <td>cat__stars_3</td>\n",
       "      <td>0.004717</td>\n",
       "    </tr>\n",
       "    <tr>\n",
       "      <th>3</th>\n",
       "      <td>cat__stars_4</td>\n",
       "      <td>0.001000</td>\n",
       "    </tr>\n",
       "    <tr>\n",
       "      <th>4</th>\n",
       "      <td>cat__stars_5</td>\n",
       "      <td>0.025659</td>\n",
       "    </tr>\n",
       "    <tr>\n",
       "      <th>5</th>\n",
       "      <td>cat__side_of_ball_athlete</td>\n",
       "      <td>0.003397</td>\n",
       "    </tr>\n",
       "    <tr>\n",
       "      <th>6</th>\n",
       "      <td>cat__side_of_ball_defense</td>\n",
       "      <td>0.004990</td>\n",
       "    </tr>\n",
       "    <tr>\n",
       "      <th>7</th>\n",
       "      <td>cat__side_of_ball_offense</td>\n",
       "      <td>0.007451</td>\n",
       "    </tr>\n",
       "    <tr>\n",
       "      <th>8</th>\n",
       "      <td>cat__side_of_ball_special</td>\n",
       "      <td>0.000784</td>\n",
       "    </tr>\n",
       "    <tr>\n",
       "      <th>9</th>\n",
       "      <td>cat__conference_group_group_5</td>\n",
       "      <td>0.004376</td>\n",
       "    </tr>\n",
       "  </tbody>\n",
       "</table>\n",
       "</div>"
      ],
      "text/plain": [
       "                         feature  mean_loss_in_acc\n",
       "0                   cat__stars_1          0.000354\n",
       "1                   cat__stars_2          0.001058\n",
       "2                   cat__stars_3          0.004717\n",
       "3                   cat__stars_4          0.001000\n",
       "4                   cat__stars_5          0.025659\n",
       "5      cat__side_of_ball_athlete          0.003397\n",
       "6      cat__side_of_ball_defense          0.004990\n",
       "7      cat__side_of_ball_offense          0.007451\n",
       "8      cat__side_of_ball_special          0.000784\n",
       "9  cat__conference_group_group_5          0.004376"
      ]
     },
     "execution_count": 14,
     "metadata": {},
     "output_type": "execute_result"
    }
   ],
   "source": [
    "imp_df.head(10)"
   ]
  },
  {
   "cell_type": "code",
   "execution_count": 16,
   "id": "0ec204c0-5288-4293-bab2-5882f71dfdd6",
   "metadata": {},
   "outputs": [
    {
     "data": {
      "text/html": [
       "\n",
       "<div id=\"altair-viz-8780fe3da0a94ceeb19bf1f0d6409cd0\"></div>\n",
       "<script type=\"text/javascript\">\n",
       "  var VEGA_DEBUG = (typeof VEGA_DEBUG == \"undefined\") ? {} : VEGA_DEBUG;\n",
       "  (function(spec, embedOpt){\n",
       "    let outputDiv = document.currentScript.previousElementSibling;\n",
       "    if (outputDiv.id !== \"altair-viz-8780fe3da0a94ceeb19bf1f0d6409cd0\") {\n",
       "      outputDiv = document.getElementById(\"altair-viz-8780fe3da0a94ceeb19bf1f0d6409cd0\");\n",
       "    }\n",
       "    const paths = {\n",
       "      \"vega\": \"https://cdn.jsdelivr.net/npm/vega@5?noext\",\n",
       "      \"vega-lib\": \"https://cdn.jsdelivr.net/npm/vega-lib?noext\",\n",
       "      \"vega-lite\": \"https://cdn.jsdelivr.net/npm/vega-lite@5.6.1?noext\",\n",
       "      \"vega-embed\": \"https://cdn.jsdelivr.net/npm/vega-embed@6?noext\",\n",
       "    };\n",
       "\n",
       "    function maybeLoadScript(lib, version) {\n",
       "      var key = `${lib.replace(\"-\", \"\")}_version`;\n",
       "      return (VEGA_DEBUG[key] == version) ?\n",
       "        Promise.resolve(paths[lib]) :\n",
       "        new Promise(function(resolve, reject) {\n",
       "          var s = document.createElement('script');\n",
       "          document.getElementsByTagName(\"head\")[0].appendChild(s);\n",
       "          s.async = true;\n",
       "          s.onload = () => {\n",
       "            VEGA_DEBUG[key] = version;\n",
       "            return resolve(paths[lib]);\n",
       "          };\n",
       "          s.onerror = () => reject(`Error loading script: ${paths[lib]}`);\n",
       "          s.src = paths[lib];\n",
       "        });\n",
       "    }\n",
       "\n",
       "    function showError(err) {\n",
       "      outputDiv.innerHTML = `<div class=\"error\" style=\"color:red;\">${err}</div>`;\n",
       "      throw err;\n",
       "    }\n",
       "\n",
       "    function displayChart(vegaEmbed) {\n",
       "      vegaEmbed(outputDiv, spec, embedOpt)\n",
       "        .catch(err => showError(`Javascript Error: ${err.message}<br>This usually means there's a typo in your chart specification. See the javascript console for the full traceback.`));\n",
       "    }\n",
       "\n",
       "    if(typeof define === \"function\" && define.amd) {\n",
       "      requirejs.config({paths});\n",
       "      require([\"vega-embed\"], displayChart, err => showError(`Error loading script: ${err.message}`));\n",
       "    } else {\n",
       "      maybeLoadScript(\"vega\", \"5\")\n",
       "        .then(() => maybeLoadScript(\"vega-lite\", \"5.6.1\"))\n",
       "        .then(() => maybeLoadScript(\"vega-embed\", \"6\"))\n",
       "        .catch(showError)\n",
       "        .then(() => displayChart(vegaEmbed));\n",
       "    }\n",
       "  })({\"config\": {\"view\": {\"continuousWidth\": 300, \"continuousHeight\": 300}}, \"data\": {\"name\": \"data-a1aefbf046d2b720f174bee11470e820\"}, \"mark\": {\"type\": \"bar\"}, \"encoding\": {\"x\": {\"field\": \"mean_loss_in_acc\", \"type\": \"quantitative\"}, \"y\": {\"field\": \"feature\", \"sort\": \"x\", \"type\": \"nominal\"}}, \"title\": \"Mean Decrease in Impurity (MDI) by Feature\", \"$schema\": \"https://vega.github.io/schema/vega-lite/v5.6.1.json\", \"datasets\": {\"data-a1aefbf046d2b720f174bee11470e820\": [{\"feature\": \"cat__stars_1\", \"mean_loss_in_acc\": 0.000354100324493674}, {\"feature\": \"cat__stars_2\", \"mean_loss_in_acc\": 0.001057732957894208}, {\"feature\": \"cat__stars_3\", \"mean_loss_in_acc\": 0.004716821769184238}, {\"feature\": \"cat__stars_4\", \"mean_loss_in_acc\": 0.0009996023333025343}, {\"feature\": \"cat__stars_5\", \"mean_loss_in_acc\": 0.025658642085140095}, {\"feature\": \"cat__side_of_ball_athlete\", \"mean_loss_in_acc\": 0.0033967905993554067}, {\"feature\": \"cat__side_of_ball_defense\", \"mean_loss_in_acc\": 0.004989826759240598}, {\"feature\": \"cat__side_of_ball_offense\", \"mean_loss_in_acc\": 0.007450868928484049}, {\"feature\": \"cat__side_of_ball_special\", \"mean_loss_in_acc\": 0.0007839516169381896}, {\"feature\": \"cat__conference_group_group_5\", \"mean_loss_in_acc\": 0.004376033083675403}, {\"feature\": \"cat__conference_group_independent\", \"mean_loss_in_acc\": 0.0016517355617137487}, {\"feature\": \"cat__conference_group_power_5\", \"mean_loss_in_acc\": 0.003932582221020525}, {\"feature\": \"cat__conference_group_unknown\", \"mean_loss_in_acc\": 0.002376840224442071}, {\"feature\": \"cat__position_group_athlete\", \"mean_loss_in_acc\": 0.0042878490772588545}, {\"feature\": \"cat__position_group_d_backfield\", \"mean_loss_in_acc\": 0.010662931017571457}, {\"feature\": \"cat__position_group_d_line\", \"mean_loss_in_acc\": 0.008083704975280399}, {\"feature\": \"cat__position_group_linebacker\", \"mean_loss_in_acc\": 0.005901883209277028}, {\"feature\": \"cat__position_group_o_line\", \"mean_loss_in_acc\": 0.003916674920212197}, {\"feature\": \"cat__position_group_pass_catcher\", \"mean_loss_in_acc\": 0.010408041894745989}, {\"feature\": \"cat__position_group_qb\", \"mean_loss_in_acc\": 0.005190628668132118}, {\"feature\": \"cat__position_group_running_back\", \"mean_loss_in_acc\": 0.004577564046138714}, {\"feature\": \"cat__position_group_special\", \"mean_loss_in_acc\": 0.00029915491114829846}, {\"feature\": \"cat__SVD_KMeans_Cluster_0\", \"mean_loss_in_acc\": 0.003366373676230774}, {\"feature\": \"cat__SVD_KMeans_Cluster_1\", \"mean_loss_in_acc\": 0.00454641854299133}, {\"feature\": \"cat__SVD_KMeans_Cluster_2\", \"mean_loss_in_acc\": 0.004922884019676603}, {\"feature\": \"cat__SVD_KMeans_Cluster_3\", \"mean_loss_in_acc\": 0.0009774992972171152}, {\"feature\": \"cat__KMeans_Cluster_0\", \"mean_loss_in_acc\": 0.0034989395975580937}, {\"feature\": \"cat__KMeans_Cluster_1\", \"mean_loss_in_acc\": 0.008137704522747929}, {\"feature\": \"cat__KMeans_Cluster_2\", \"mean_loss_in_acc\": 0.00797313423309655}, {\"feature\": \"cat__KMeans_Cluster_3\", \"mean_loss_in_acc\": 0.0004027807686812934}, {\"feature\": \"cat__from_USA_flag_0\", \"mean_loss_in_acc\": 0.0}, {\"feature\": \"cat__from_USA_flag_1\", \"mean_loss_in_acc\": 0.0015288983312293399}, {\"feature\": \"num__latitude_school\", \"mean_loss_in_acc\": 0.04492076265340551}, {\"feature\": \"num__point_diff_rolling_2year\", \"mean_loss_in_acc\": 0.07278427767983171}, {\"feature\": \"num__longitude\", \"mean_loss_in_acc\": 0.07714891389825321}, {\"feature\": \"num__longitude_school\", \"mean_loss_in_acc\": 0.04283982351129797}, {\"feature\": \"num__rating\", \"mean_loss_in_acc\": 0.08308750760920663}, {\"feature\": \"num__ranking\", \"mean_loss_in_acc\": 0.10139815535768903}, {\"feature\": \"num__games_played_rolling_2year\", \"mean_loss_in_acc\": 0.024785306294755435}, {\"feature\": \"num__post_season_wins_rolling_2year\", \"mean_loss_in_acc\": 0.019651632615407748}, {\"feature\": \"num__weight\", \"mean_loss_in_acc\": 0.0916924642703693}, {\"feature\": \"num__wins_rolling_2year\", \"mean_loss_in_acc\": 0.03493942211282756}, {\"feature\": \"num__latitude\", \"mean_loss_in_acc\": 0.07963966296801481}, {\"feature\": \"num__height\", \"mean_loss_in_acc\": 0.06011658134642852}, {\"feature\": \"num__win_pct_rolling_2year\", \"mean_loss_in_acc\": 0.05359266783215128}, {\"feature\": \"num__distance_miles\", \"mean_loss_in_acc\": 0.06297422767628244}]}}, {\"mode\": \"vega-lite\"});\n",
       "</script>"
      ],
      "text/plain": [
       "alt.Chart(...)"
      ]
     },
     "execution_count": 16,
     "metadata": {},
     "output_type": "execute_result"
    }
   ],
   "source": [
    "alt.Chart(imp_df).mark_bar().encode(\n",
    "    alt.Y('feature', sort='x'), x = 'mean_loss_in_acc').properties(\n",
    "    title = 'Mean Decrease in Impurity (MDI) by Feature')"
   ]
  },
  {
   "cell_type": "code",
   "execution_count": 17,
   "id": "1430280e-ea3a-425e-8d65-77843c5a7eed",
   "metadata": {},
   "outputs": [],
   "source": [
    "# Notes on features importance:\n",
    "# 1) Stars 1 and 2 don't matter. Create stars 1-3, 4, and 5. \n",
    "# 2) USA Flag is irrelevant - should drop country of origin."
   ]
  }
 ],
 "metadata": {
  "kernelspec": {
   "display_name": "Python 3 (ipykernel)",
   "language": "python",
   "name": "python3"
  },
  "language_info": {
   "codemirror_mode": {
    "name": "ipython",
    "version": 3
   },
   "file_extension": ".py",
   "mimetype": "text/x-python",
   "name": "python",
   "nbconvert_exporter": "python",
   "pygments_lexer": "ipython3",
   "version": "3.8.8"
  }
 },
 "nbformat": 4,
 "nbformat_minor": 5
}
