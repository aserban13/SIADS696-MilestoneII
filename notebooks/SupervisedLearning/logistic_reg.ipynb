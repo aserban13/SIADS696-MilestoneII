{
 "cells": [
  {
   "cell_type": "code",
   "execution_count": 395,
   "metadata": {},
   "outputs": [],
   "source": [
    "import pandas as pd\n",
    "from sklearn.preprocessing import StandardScaler, OneHotEncoder\n",
    "from sklearn.compose import ColumnTransformer\n",
    "from sklearn.pipeline import Pipeline\n",
    "from sklearn.model_selection import GridSearchCV\n",
    "from sklearn.linear_model import LogisticRegression\n",
    "from sklearn.metrics import accuracy_score, confusion_matrix, f1_score\n",
    "import altair as alt\n",
    "import evaluate_model"
   ]
  },
  {
   "cell_type": "code",
   "execution_count": 396,
   "metadata": {},
   "outputs": [],
   "source": [
    "X_train = pd.read_csv('../../data/train_test_split/x_train_cluster.csv')\n",
    "X_test = pd.read_csv('../../data/train_test_split/x_test_cluster.csv')\n",
    "y_train = pd.read_csv('../../data/train_test_split/y_train.csv').drop(columns = 'Unnamed: 0').values.ravel()\n",
    "y_test = pd.read_csv('../../data/train_test_split/y_test.csv').drop(columns = 'Unnamed: 0').values.ravel()"
   ]
  },
  {
   "cell_type": "code",
   "execution_count": 397,
   "metadata": {},
   "outputs": [],
   "source": [
    "# Define numerical and categorical values\n",
    "numerical_features = ['rating', 'ranking', 'height', 'weight', 'distance_miles', 'stars', 'wins_rolling_2year', 'games_played_rolling_2year', 'post_season_wins_rolling_2year', 'point_diff_rolling_2year', 'win_pct_rolling_2year']\n",
    "categorical_features = ['conference', 'side_of_ball', 'year', 'DBSCAN_Cluster_PCA', 'SVD_KMeans_Cluster', 'KMeans_Cluster']"
   ]
  },
  {
   "cell_type": "code",
   "execution_count": 398,
   "metadata": {},
   "outputs": [],
   "source": [
    "log_model = LogisticRegression(class_weight='balanced', random_state=42, C=0.01, tol=0.01, max_iter=1000)"
   ]
  },
  {
   "cell_type": "code",
   "execution_count": 399,
   "metadata": {},
   "outputs": [],
   "source": [
    "preprocessor = ColumnTransformer(\n",
    "    transformers=[\n",
    "        ('num', StandardScaler(), numerical_features),\n",
    "        ('cat', OneHotEncoder(handle_unknown='ignore'), categorical_features)\n",
    "    ]\n",
    ")\n",
    "\n",
    "pipe = Pipeline(steps=[\n",
    "    ('preprocessor', preprocessor),\n",
    "    ('classifier', log_model)\n",
    "])"
   ]
  },
  {
   "cell_type": "markdown",
   "metadata": {},
   "source": [
    "## Used for Hyperparameter Selection and now commented out"
   ]
  },
  {
   "cell_type": "code",
   "execution_count": 400,
   "metadata": {},
   "outputs": [],
   "source": [
    "param_grid = {\n",
    "    'C': [0.01, 0.1, 1, 10, 100],\n",
    "    'tol': [0.00001, 0.0001, 0.001, 0.01, 0.1],\n",
    "    'penalty': ['l1', 'l2', 'elasticnet'],\n",
    "}\n",
    "\n",
    "logistic_reg =  LogisticRegression(class_weight='balanced', random_state=42, max_iter=1000)\n",
    "\n",
    "grid_search = GridSearchCV(logistic_reg, param_grid, cv=5, scoring='f1')\n",
    "\n",
    "#grid_search.fit(preprocessor.fit_transform(X_train), y_train)"
   ]
  },
  {
   "cell_type": "code",
   "execution_count": 401,
   "metadata": {},
   "outputs": [],
   "source": [
    "#print(grid_search.best_params_)\n",
    "#print(grid_search.best_score_)"
   ]
  },
  {
   "cell_type": "code",
   "execution_count": 402,
   "metadata": {},
   "outputs": [],
   "source": [
    "pipe.fit(X_train, y_train)\n",
    "y_pred = pipe.predict(X_test)"
   ]
  },
  {
   "cell_type": "code",
   "execution_count": 403,
   "metadata": {},
   "outputs": [
    {
     "name": "stdout",
     "output_type": "stream",
     "text": [
      "accuracy score: 0.7479\n"
     ]
    }
   ],
   "source": [
    "accuracy = round(accuracy_score(y_test, y_pred), 4)\n",
    "print(f\"accuracy score: {accuracy}\")"
   ]
  },
  {
   "cell_type": "code",
   "execution_count": 404,
   "metadata": {},
   "outputs": [
    {
     "name": "stdout",
     "output_type": "stream",
     "text": [
      "Testing f1_score: 0.7479\n",
      "Training f1_score: 0.7415\n"
     ]
    }
   ],
   "source": [
    "f1 = round(float(f1_score(y_test, y_pred, average='micro')), 4)\n",
    "print(f\"Testing f1_score: {f1}\")\n",
    "\n",
    "f1 = round(float(f1_score(y_train, pipe.predict(X_train), average='micro')), 4)\n",
    "print(f\"Training f1_score: {f1}\")"
   ]
  },
  {
   "cell_type": "code",
   "execution_count": 405,
   "metadata": {},
   "outputs": [],
   "source": [
    "score, f1_score, std = evaluate_model.evaluate_cross_val_score(log_model, preprocessor.transform(X_test), y_test)"
   ]
  },
  {
   "cell_type": "code",
   "execution_count": 406,
   "metadata": {},
   "outputs": [
    {
     "data": {
      "text/plain": [
       "(np.float64(0.724812030075188), np.float64(0.01443709579096269))"
      ]
     },
     "execution_count": 406,
     "metadata": {},
     "output_type": "execute_result"
    }
   ],
   "source": [
    "f1_score, std"
   ]
  },
  {
   "cell_type": "code",
   "execution_count": 407,
   "metadata": {},
   "outputs": [
    {
     "data": {
      "text/plain": [
       "array([[4183, 1309],\n",
       "       [ 200,  293]])"
      ]
     },
     "execution_count": 407,
     "metadata": {},
     "output_type": "execute_result"
    }
   ],
   "source": [
    "confusion_matrix(y_test, y_pred)"
   ]
  },
  {
   "cell_type": "code",
   "execution_count": 408,
   "metadata": {},
   "outputs": [],
   "source": [
    "onehot_features = preprocessor.named_transformers_['cat'].get_feature_names_out(categorical_features)\n",
    "processed_features = numerical_features + list(onehot_features)"
   ]
  },
  {
   "cell_type": "code",
   "execution_count": 409,
   "metadata": {},
   "outputs": [],
   "source": [
    "coefficients = pd.DataFrame({'feature': processed_features,\n",
    "                              'value': pipe.named_steps['classifier'].coef_[0]}).sort_values('value', ascending=False)"
   ]
  },
  {
   "cell_type": "code",
   "execution_count": 410,
   "metadata": {},
   "outputs": [
    {
     "name": "stdout",
     "output_type": "stream",
     "text": [
      "47\n"
     ]
    }
   ],
   "source": [
    "coefficients.head()\n",
    "print(len(coefficients))"
   ]
  },
  {
   "cell_type": "code",
   "execution_count": 411,
   "metadata": {},
   "outputs": [
    {
     "data": {
      "text/html": [
       "\n",
       "<style>\n",
       "  #altair-viz-29df00401f0244419f703f9cc549602e.vega-embed {\n",
       "    width: 100%;\n",
       "    display: flex;\n",
       "  }\n",
       "\n",
       "  #altair-viz-29df00401f0244419f703f9cc549602e.vega-embed details,\n",
       "  #altair-viz-29df00401f0244419f703f9cc549602e.vega-embed details summary {\n",
       "    position: relative;\n",
       "  }\n",
       "</style>\n",
       "<div id=\"altair-viz-29df00401f0244419f703f9cc549602e\"></div>\n",
       "<script type=\"text/javascript\">\n",
       "  var VEGA_DEBUG = (typeof VEGA_DEBUG == \"undefined\") ? {} : VEGA_DEBUG;\n",
       "  (function(spec, embedOpt){\n",
       "    let outputDiv = document.currentScript.previousElementSibling;\n",
       "    if (outputDiv.id !== \"altair-viz-29df00401f0244419f703f9cc549602e\") {\n",
       "      outputDiv = document.getElementById(\"altair-viz-29df00401f0244419f703f9cc549602e\");\n",
       "    }\n",
       "    const paths = {\n",
       "      \"vega\": \"https://cdn.jsdelivr.net/npm/vega@5?noext\",\n",
       "      \"vega-lib\": \"https://cdn.jsdelivr.net/npm/vega-lib?noext\",\n",
       "      \"vega-lite\": \"https://cdn.jsdelivr.net/npm/vega-lite@5.20.1?noext\",\n",
       "      \"vega-embed\": \"https://cdn.jsdelivr.net/npm/vega-embed@6?noext\",\n",
       "    };\n",
       "\n",
       "    function maybeLoadScript(lib, version) {\n",
       "      var key = `${lib.replace(\"-\", \"\")}_version`;\n",
       "      return (VEGA_DEBUG[key] == version) ?\n",
       "        Promise.resolve(paths[lib]) :\n",
       "        new Promise(function(resolve, reject) {\n",
       "          var s = document.createElement('script');\n",
       "          document.getElementsByTagName(\"head\")[0].appendChild(s);\n",
       "          s.async = true;\n",
       "          s.onload = () => {\n",
       "            VEGA_DEBUG[key] = version;\n",
       "            return resolve(paths[lib]);\n",
       "          };\n",
       "          s.onerror = () => reject(`Error loading script: ${paths[lib]}`);\n",
       "          s.src = paths[lib];\n",
       "        });\n",
       "    }\n",
       "\n",
       "    function showError(err) {\n",
       "      outputDiv.innerHTML = `<div class=\"error\" style=\"color:red;\">${err}</div>`;\n",
       "      throw err;\n",
       "    }\n",
       "\n",
       "    function displayChart(vegaEmbed) {\n",
       "      vegaEmbed(outputDiv, spec, embedOpt)\n",
       "        .catch(err => showError(`Javascript Error: ${err.message}<br>This usually means there's a typo in your chart specification. See the javascript console for the full traceback.`));\n",
       "    }\n",
       "\n",
       "    if(typeof define === \"function\" && define.amd) {\n",
       "      requirejs.config({paths});\n",
       "      require([\"vega-embed\"], displayChart, err => showError(`Error loading script: ${err.message}`));\n",
       "    } else {\n",
       "      maybeLoadScript(\"vega\", \"5\")\n",
       "        .then(() => maybeLoadScript(\"vega-lite\", \"5.20.1\"))\n",
       "        .then(() => maybeLoadScript(\"vega-embed\", \"6\"))\n",
       "        .catch(showError)\n",
       "        .then(() => displayChart(vegaEmbed));\n",
       "    }\n",
       "  })({\"config\": {\"view\": {\"continuousWidth\": 300, \"continuousHeight\": 300}}, \"data\": {\"name\": \"data-93ccd29ec4bbf46904887877d2fc22f4\"}, \"mark\": {\"type\": \"bar\"}, \"encoding\": {\"x\": {\"field\": \"value\", \"sort\": {\"field\": \"value\", \"order\": \"descending\"}, \"type\": \"quantitative\"}, \"y\": {\"field\": \"feature\", \"sort\": null, \"type\": \"nominal\"}}, \"$schema\": \"https://vega.github.io/schema/vega-lite/v5.20.1.json\", \"datasets\": {\"data-93ccd29ec4bbf46904887877d2fc22f4\": [{\"feature\": \"rating\", \"value\": 0.27873467300618177}, {\"feature\": \"stars\", \"value\": 0.2210796614077892}, {\"feature\": \"KMeans_Cluster_2\", \"value\": 0.08285410983994657}, {\"feature\": \"height\", \"value\": 0.05806524002252185}, {\"feature\": \"conference_Big Ten\", \"value\": 0.05241784426116086}, {\"feature\": \"conference_SEC\", \"value\": 0.043286053646955404}, {\"feature\": \"DBSCAN_Cluster_PCA_-1\", \"value\": 0.04210680765995191}, {\"feature\": \"point_diff_rolling_2year\", \"value\": 0.04171413077785936}, {\"feature\": \"win_pct_rolling_2year\", \"value\": 0.03224317688433165}, {\"feature\": \"wins_rolling_2year\", \"value\": 0.0251551675307424}, {\"feature\": \"SVD_KMeans_Cluster_0\", \"value\": 0.024581593549361236}, {\"feature\": \"year_2016\", \"value\": 0.02015654276502029}, {\"feature\": \"year_2017\", \"value\": 0.01958027094869877}, {\"feature\": \"year_2014\", \"value\": 0.011037156114989292}, {\"feature\": \"DBSCAN_Cluster_PCA_2\", \"value\": 0.008281865430818625}, {\"feature\": \"side_of_ball_athlete\", \"value\": 0.006597076468579086}, {\"feature\": \"year_2013\", \"value\": 0.005628020568305472}, {\"feature\": \"conference_FBS Independents\", \"value\": 0.0023362961682296926}, {\"feature\": \"conference_ACC\", \"value\": -0.002899882464467269}, {\"feature\": \"conference_Pac-12\", \"value\": -0.004009332868250063}, {\"feature\": \"side_of_ball_special\", \"value\": -0.004737103381851207}, {\"feature\": \"year_2012\", \"value\": -0.010094429085597888}, {\"feature\": \"year_2015\", \"value\": -0.010410375225194748}, {\"feature\": \"conference_Big 12\", \"value\": -0.010457916355461457}, {\"feature\": \"post_season_wins_rolling_2year\", \"value\": -0.012907357746509567}, {\"feature\": \"year_2018\", \"value\": -0.013218611930562183}, {\"feature\": \"games_played_rolling_2year\", \"value\": -0.015645208224422065}, {\"feature\": \"DBSCAN_Cluster_PCA_1\", \"value\": -0.01850607996835761}, {\"feature\": \"side_of_ball_defense\", \"value\": -0.02372154240075288}, {\"feature\": \"conference_Conference USA\", \"value\": -0.024333184088384495}, {\"feature\": \"KMeans_Cluster_3\", \"value\": -0.025555380235061795}, {\"feature\": \"year_2019\", \"value\": -0.02657441113640792}, {\"feature\": \"conference_American Athletic\", \"value\": -0.028950828120129782}, {\"feature\": \"SVD_KMeans_Cluster_2\", \"value\": -0.03588202326085453}, {\"feature\": \"conference_Sun Belt\", \"value\": -0.03963205160697468}, {\"feature\": \"SVD_KMeans_Cluster_3\", \"value\": -0.039755697853210065}, {\"feature\": \"conference_Mountain West\", \"value\": -0.04013734623758855}, {\"feature\": \"conference_Mid-American\", \"value\": -0.044664179611845274}, {\"feature\": \"SVD_KMeans_Cluster_1\", \"value\": -0.04598839971205123}, {\"feature\": \"KMeans_Cluster_0\", \"value\": -0.06324031662500051}, {\"feature\": \"weight\", \"value\": -0.06445518034972882}, {\"feature\": \"distance_miles\", \"value\": -0.0685647357153458}, {\"feature\": \"side_of_ball_offense\", \"value\": -0.07518295796272847}, {\"feature\": \"KMeans_Cluster_1\", \"value\": -0.0911029402566394}, {\"feature\": \"year_2020\", \"value\": -0.09314869029600598}, {\"feature\": \"DBSCAN_Cluster_PCA_0\", \"value\": -0.12892712039916682}, {\"feature\": \"ranking\", \"value\": -0.18323211022031888}]}}, {\"mode\": \"vega-lite\"});\n",
       "</script>"
      ],
      "text/plain": [
       "alt.Chart(...)"
      ]
     },
     "execution_count": 411,
     "metadata": {},
     "output_type": "execute_result"
    }
   ],
   "source": [
    "chart = alt.Chart(coefficients).mark_bar().encode(\n",
    "    x=alt.X('value', sort=alt.EncodingSortField(field='value', order='descending')),\n",
    "    y=alt.Y('feature', sort=None)\n",
    ")\n",
    "chart"
   ]
  }
 ],
 "metadata": {
  "kernelspec": {
   "display_name": "venv",
   "language": "python",
   "name": "python3"
  },
  "language_info": {
   "codemirror_mode": {
    "name": "ipython",
    "version": 3
   },
   "file_extension": ".py",
   "mimetype": "text/x-python",
   "name": "python",
   "nbconvert_exporter": "python",
   "pygments_lexer": "ipython3",
   "version": "3.11.9"
  }
 },
 "nbformat": 4,
 "nbformat_minor": 2
}
