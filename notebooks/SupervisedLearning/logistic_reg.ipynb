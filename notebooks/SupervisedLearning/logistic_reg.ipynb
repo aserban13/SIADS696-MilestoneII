{
 "cells": [
  {
   "cell_type": "code",
   "execution_count": 1,
   "metadata": {},
   "outputs": [],
   "source": [
    "import pandas as pd\n",
    "from sklearn.preprocessing import StandardScaler, OneHotEncoder\n",
    "from sklearn.compose import ColumnTransformer\n",
    "from sklearn.pipeline import Pipeline\n",
    "from sklearn.model_selection import train_test_split\n",
    "from sklearn.linear_model import LogisticRegression\n",
    "from sklearn.metrics import accuracy_score, confusion_matrix, f1_score\n",
    "import altair as alt"
   ]
  },
  {
   "cell_type": "code",
   "execution_count": 2,
   "metadata": {},
   "outputs": [],
   "source": [
    "X_train = pd.read_csv('../../data/train_test_split/x_train.csv')\n",
    "X_test = pd.read_csv('../../data/train_test_split/x_test.csv')\n",
    "y_train = pd.read_csv('../../data/train_test_split/y_train.csv').drop(columns = 'Unnamed: 0').values.ravel()\n",
    "y_test = pd.read_csv('../../data/train_test_split/y_test.csv').drop(columns = 'Unnamed: 0').values.ravel()"
   ]
  },
  {
   "cell_type": "code",
   "execution_count": 3,
   "metadata": {},
   "outputs": [],
   "source": [
    "# Define numerical and categorical values\n",
    "numerical_features = ['rating', 'ranking', 'height', 'weight', 'distance_miles', 'stars', 'wins_rolling_2year', 'games_played_rolling_2year', 'post_season_wins_rolling_2year', 'point_diff_rolling_2year', 'win_pct_rolling_2year']\n",
    "categorical_features = ['conference', 'side_of_ball', 'position_group', 'position', 'year']"
   ]
  },
  {
   "cell_type": "code",
   "execution_count": 4,
   "metadata": {},
   "outputs": [],
   "source": [
    "preprocessor = ColumnTransformer(\n",
    "    transformers=[\n",
    "        ('num', StandardScaler(), numerical_features),\n",
    "        ('cat', OneHotEncoder(handle_unknown='ignore'), categorical_features)\n",
    "    ]\n",
    ")\n",
    "\n",
    "pipe = Pipeline(steps=[\n",
    "    ('preprocessor', preprocessor),\n",
    "    ('classifier', LogisticRegression(class_weight='balanced'))\n",
    "])"
   ]
  },
  {
   "cell_type": "code",
   "execution_count": 5,
   "metadata": {},
   "outputs": [],
   "source": [
    "pipe.fit(X_train, y_train)\n",
    "y_pred = pipe.predict(X_test)"
   ]
  },
  {
   "cell_type": "code",
   "execution_count": 38,
   "metadata": {},
   "outputs": [
    {
     "name": "stdout",
     "output_type": "stream",
     "text": [
      "accuracy score: 0.7\n"
     ]
    }
   ],
   "source": [
    "accuracy = round(accuracy_score(y_test, y_pred), 2)\n",
    "print(f\"accuracy score: {accuracy}\")"
   ]
  },
  {
   "cell_type": "code",
   "execution_count": 36,
   "metadata": {},
   "outputs": [
    {
     "name": "stdout",
     "output_type": "stream",
     "text": [
      "f1_score: 0.76\n"
     ]
    }
   ],
   "source": [
    "f1 = round(float(f1_score(y_test, y_pred, average='weighted')), 2)\n",
    "print(f\"f1_score: {f1}\")"
   ]
  },
  {
   "cell_type": "code",
   "execution_count": 8,
   "metadata": {},
   "outputs": [
    {
     "data": {
      "text/plain": [
       "array([[3839, 1653],\n",
       "       [ 165,  328]])"
      ]
     },
     "execution_count": 8,
     "metadata": {},
     "output_type": "execute_result"
    }
   ],
   "source": [
    "confusion_matrix(y_test, y_pred)"
   ]
  },
  {
   "cell_type": "code",
   "execution_count": 9,
   "metadata": {},
   "outputs": [],
   "source": [
    "onehot_features = preprocessor.named_transformers_['cat'].get_feature_names_out(categorical_features)\n",
    "processed_features = numerical_features + list(onehot_features)"
   ]
  },
  {
   "cell_type": "code",
   "execution_count": 10,
   "metadata": {},
   "outputs": [],
   "source": [
    "coefficients = pd.DataFrame({'feature': processed_features,\n",
    "                              'value': pipe.named_steps['classifier'].coef_[0]}).sort_values('value', ascending=False)"
   ]
  },
  {
   "cell_type": "code",
   "execution_count": 11,
   "metadata": {},
   "outputs": [
    {
     "data": {
      "text/html": [
       "<div>\n",
       "<style scoped>\n",
       "    .dataframe tbody tr th:only-of-type {\n",
       "        vertical-align: middle;\n",
       "    }\n",
       "\n",
       "    .dataframe tbody tr th {\n",
       "        vertical-align: top;\n",
       "    }\n",
       "\n",
       "    .dataframe thead th {\n",
       "        text-align: right;\n",
       "    }\n",
       "</style>\n",
       "<table border=\"1\" class=\"dataframe\">\n",
       "  <thead>\n",
       "    <tr style=\"text-align: right;\">\n",
       "      <th></th>\n",
       "      <th>feature</th>\n",
       "      <th>value</th>\n",
       "    </tr>\n",
       "  </thead>\n",
       "  <tbody>\n",
       "    <tr>\n",
       "      <th>0</th>\n",
       "      <td>rating</td>\n",
       "      <td>0.884891</td>\n",
       "    </tr>\n",
       "    <tr>\n",
       "      <th>1</th>\n",
       "      <td>ranking</td>\n",
       "      <td>0.427632</td>\n",
       "    </tr>\n",
       "    <tr>\n",
       "      <th>14</th>\n",
       "      <td>conference_Big Ten</td>\n",
       "      <td>0.370391</td>\n",
       "    </tr>\n",
       "    <tr>\n",
       "      <th>20</th>\n",
       "      <td>conference_SEC</td>\n",
       "      <td>0.281140</td>\n",
       "    </tr>\n",
       "    <tr>\n",
       "      <th>54</th>\n",
       "      <td>position_WDE</td>\n",
       "      <td>0.262626</td>\n",
       "    </tr>\n",
       "  </tbody>\n",
       "</table>\n",
       "</div>"
      ],
      "text/plain": [
       "               feature     value\n",
       "0               rating  0.884891\n",
       "1              ranking  0.427632\n",
       "14  conference_Big Ten  0.370391\n",
       "20      conference_SEC  0.281140\n",
       "54        position_WDE  0.262626"
      ]
     },
     "execution_count": 11,
     "metadata": {},
     "output_type": "execute_result"
    }
   ],
   "source": [
    "coefficients.head()"
   ]
  },
  {
   "cell_type": "code",
   "execution_count": 12,
   "metadata": {},
   "outputs": [
    {
     "data": {
      "text/html": [
       "\n",
       "<style>\n",
       "  #altair-viz-2d5968f521dc4518a959b545e653c294.vega-embed {\n",
       "    width: 100%;\n",
       "    display: flex;\n",
       "  }\n",
       "\n",
       "  #altair-viz-2d5968f521dc4518a959b545e653c294.vega-embed details,\n",
       "  #altair-viz-2d5968f521dc4518a959b545e653c294.vega-embed details summary {\n",
       "    position: relative;\n",
       "  }\n",
       "</style>\n",
       "<div id=\"altair-viz-2d5968f521dc4518a959b545e653c294\"></div>\n",
       "<script type=\"text/javascript\">\n",
       "  var VEGA_DEBUG = (typeof VEGA_DEBUG == \"undefined\") ? {} : VEGA_DEBUG;\n",
       "  (function(spec, embedOpt){\n",
       "    let outputDiv = document.currentScript.previousElementSibling;\n",
       "    if (outputDiv.id !== \"altair-viz-2d5968f521dc4518a959b545e653c294\") {\n",
       "      outputDiv = document.getElementById(\"altair-viz-2d5968f521dc4518a959b545e653c294\");\n",
       "    }\n",
       "    const paths = {\n",
       "      \"vega\": \"https://cdn.jsdelivr.net/npm/vega@5?noext\",\n",
       "      \"vega-lib\": \"https://cdn.jsdelivr.net/npm/vega-lib?noext\",\n",
       "      \"vega-lite\": \"https://cdn.jsdelivr.net/npm/vega-lite@5.20.1?noext\",\n",
       "      \"vega-embed\": \"https://cdn.jsdelivr.net/npm/vega-embed@6?noext\",\n",
       "    };\n",
       "\n",
       "    function maybeLoadScript(lib, version) {\n",
       "      var key = `${lib.replace(\"-\", \"\")}_version`;\n",
       "      return (VEGA_DEBUG[key] == version) ?\n",
       "        Promise.resolve(paths[lib]) :\n",
       "        new Promise(function(resolve, reject) {\n",
       "          var s = document.createElement('script');\n",
       "          document.getElementsByTagName(\"head\")[0].appendChild(s);\n",
       "          s.async = true;\n",
       "          s.onload = () => {\n",
       "            VEGA_DEBUG[key] = version;\n",
       "            return resolve(paths[lib]);\n",
       "          };\n",
       "          s.onerror = () => reject(`Error loading script: ${paths[lib]}`);\n",
       "          s.src = paths[lib];\n",
       "        });\n",
       "    }\n",
       "\n",
       "    function showError(err) {\n",
       "      outputDiv.innerHTML = `<div class=\"error\" style=\"color:red;\">${err}</div>`;\n",
       "      throw err;\n",
       "    }\n",
       "\n",
       "    function displayChart(vegaEmbed) {\n",
       "      vegaEmbed(outputDiv, spec, embedOpt)\n",
       "        .catch(err => showError(`Javascript Error: ${err.message}<br>This usually means there's a typo in your chart specification. See the javascript console for the full traceback.`));\n",
       "    }\n",
       "\n",
       "    if(typeof define === \"function\" && define.amd) {\n",
       "      requirejs.config({paths});\n",
       "      require([\"vega-embed\"], displayChart, err => showError(`Error loading script: ${err.message}`));\n",
       "    } else {\n",
       "      maybeLoadScript(\"vega\", \"5\")\n",
       "        .then(() => maybeLoadScript(\"vega-lite\", \"5.20.1\"))\n",
       "        .then(() => maybeLoadScript(\"vega-embed\", \"6\"))\n",
       "        .catch(showError)\n",
       "        .then(() => displayChart(vegaEmbed));\n",
       "    }\n",
       "  })({\"config\": {\"view\": {\"continuousWidth\": 300, \"continuousHeight\": 300}}, \"data\": {\"name\": \"data-1375539cf8b2a29767c216dec7878d41\"}, \"mark\": {\"type\": \"bar\"}, \"encoding\": {\"x\": {\"field\": \"value\", \"sort\": {\"field\": \"value\", \"order\": \"descending\"}, \"type\": \"quantitative\"}, \"y\": {\"field\": \"feature\", \"sort\": null, \"type\": \"nominal\"}}, \"$schema\": \"https://vega.github.io/schema/vega-lite/v5.20.1.json\", \"datasets\": {\"data-1375539cf8b2a29767c216dec7878d41\": [{\"feature\": \"rating\", \"value\": 0.8848906090965946}, {\"feature\": \"ranking\", \"value\": 0.4276316758625137}, {\"feature\": \"conference_Big Ten\", \"value\": 0.37039094332507766}, {\"feature\": \"conference_SEC\", \"value\": 0.2811401466657633}, {\"feature\": \"position_WDE\", \"value\": 0.26262588087366734}, {\"feature\": \"position_APB\", \"value\": 0.2279711424853043}, {\"feature\": \"year_2013\", \"value\": 0.1918385888713583}, {\"feature\": \"year_2016\", \"value\": 0.1899298268783117}, {\"feature\": \"position_RB\", \"value\": 0.18925276513565353}, {\"feature\": \"year_2014\", \"value\": 0.1884603426517533}, {\"feature\": \"conference_ACC\", \"value\": 0.17628375278582495}, {\"feature\": \"conference_Big 12\", \"value\": 0.1694506026507182}, {\"feature\": \"position_K\", \"value\": 0.16469864601112963}, {\"feature\": \"position_group_d_backfield\", \"value\": 0.1573599116091947}, {\"feature\": \"position_OLB\", \"value\": 0.14634942167683815}, {\"feature\": \"year_2017\", \"value\": 0.14393770034497258}, {\"feature\": \"conference_FBS Independents\", \"value\": 0.13078950921821336}, {\"feature\": \"position_SDE\", \"value\": 0.1278466134830261}, {\"feature\": \"height\", \"value\": 0.12577601564471022}, {\"feature\": \"position_PRO\", \"value\": 0.1239856742619625}, {\"feature\": \"position_WR\", \"value\": 0.1185225972067034}, {\"feature\": \"position_CB\", \"value\": 0.11686036306099372}, {\"feature\": \"point_diff_rolling_2year\", \"value\": 0.0885851613153147}, {\"feature\": \"year_2012\", \"value\": 0.0824613124296418}, {\"feature\": \"win_pct_rolling_2year\", \"value\": 0.08217684814578424}, {\"feature\": \"stars\", \"value\": 0.0793554683650086}, {\"feature\": \"position_OT\", \"value\": 0.07051202370465189}, {\"feature\": \"conference_Pac-12\", \"value\": 0.06391001516266563}, {\"feature\": \"position_ATH\", \"value\": 0.05186429836053193}, {\"feature\": \"side_of_ball_athlete\", \"value\": 0.05186429836053193}, {\"feature\": \"position_group_athlete\", \"value\": 0.05186429836053193}, {\"feature\": \"position_group_running_back\", \"value\": 0.042000647992017484}, {\"feature\": \"position_S\", \"value\": 0.040499548548201786}, {\"feature\": \"position_group_pass_catcher\", \"value\": 0.03543432652965444}, {\"feature\": \"position_P\", \"value\": 0.02360625045916838}, {\"feature\": \"year_2015\", \"value\": 0.019789117745772668}, {\"feature\": \"wins_rolling_2year\", \"value\": -0.004184039741965557}, {\"feature\": \"post_season_wins_rolling_2year\", \"value\": -0.01696673013291116}, {\"feature\": \"weight\", \"value\": -0.04110294748155865}, {\"feature\": \"games_played_rolling_2year\", \"value\": -0.042241956458001155}, {\"feature\": \"position_group_d_line\", \"value\": -0.05401504629098749}, {\"feature\": \"side_of_ball_defense\", \"value\": -0.05551371162382367}, {\"feature\": \"distance_miles\", \"value\": -0.08051868198599123}, {\"feature\": \"year_2018\", \"value\": -0.08080743728536752}, {\"feature\": \"position_group_o_line\", \"value\": -0.08189530064978302}, {\"feature\": \"position_TE\", \"value\": -0.08308827067705052}, {\"feature\": \"side_of_ball_special\", \"value\": -0.08655906731449704}, {\"feature\": \"position_group_special\", \"value\": -0.08655906731449704}, {\"feature\": \"conference_American Athletic\", \"value\": -0.09719403060921747}, {\"feature\": \"position_group_qb\", \"value\": -0.1389734877922239}, {\"feature\": \"side_of_ball_offense\", \"value\": -0.14343381392033772}, {\"feature\": \"position_OG\", \"value\": -0.15240732435443635}, {\"feature\": \"position_group_linebacker\", \"value\": -0.15885857694203076}, {\"feature\": \"year_2019\", \"value\": -0.20674615321204232}, {\"feature\": \"position_DT\", \"value\": -0.21805392160086662}, {\"feature\": \"position_OC\", \"value\": -0.22643361904681783}, {\"feature\": \"conference_Mountain West\", \"value\": -0.2495389216474655}, {\"feature\": \"position_DUAL\", \"value\": -0.2629591620541841}, {\"feature\": \"position_LS\", \"value\": -0.27486396378479444}, {\"feature\": \"position_ILB\", \"value\": -0.3052079986188696}, {\"feature\": \"conference_Mid-American\", \"value\": -0.342767683202736}, {\"feature\": \"conference_Sun Belt\", \"value\": -0.3499334397432625}, {\"feature\": \"position_FB\", \"value\": -0.3752232596289385}, {\"feature\": \"conference_Conference USA\", \"value\": -0.3861731891037173}, {\"feature\": \"year_2020\", \"value\": -0.7625055929225296}]}}, {\"mode\": \"vega-lite\"});\n",
       "</script>"
      ],
      "text/plain": [
       "alt.Chart(...)"
      ]
     },
     "execution_count": 12,
     "metadata": {},
     "output_type": "execute_result"
    }
   ],
   "source": [
    "chart = alt.Chart(coefficients).mark_bar().encode(\n",
    "    x=alt.X('value', sort=alt.EncodingSortField(field='value', order='descending')),\n",
    "    y=alt.Y('feature', sort=None)\n",
    ")\n",
    "chart"
   ]
  }
 ],
 "metadata": {
  "kernelspec": {
   "display_name": "venv",
   "language": "python",
   "name": "python3"
  },
  "language_info": {
   "codemirror_mode": {
    "name": "ipython",
    "version": 3
   },
   "file_extension": ".py",
   "mimetype": "text/x-python",
   "name": "python",
   "nbconvert_exporter": "python",
   "pygments_lexer": "ipython3",
   "version": "3.11.9"
  }
 },
 "nbformat": 4,
 "nbformat_minor": 2
}
